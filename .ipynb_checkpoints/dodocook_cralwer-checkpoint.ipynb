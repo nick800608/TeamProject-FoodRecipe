{
 "cells": [
  {
   "cell_type": "code",
   "execution_count": null,
   "metadata": {
    "collapsed": true
   },
   "outputs": [],
   "source": [
    "# coding: utf-8"
   ]
  },
  {
   "cell_type": "code",
   "execution_count": 25,
   "metadata": {
    "collapsed": false
   },
   "outputs": [],
   "source": [
    "#起始標準起手式~\n",
    "import requests as rq\n",
    "from bs4 import BeautifulSoup as bs\n",
    "from collections import OrderedDict as od\n",
    "import json\n",
    "import csv\n",
    "import traceback as tb\n",
    "import re    "
   ]
  },
  {
   "cell_type": "code",
   "execution_count": 3,
   "metadata": {
    "collapsed": true
   },
   "outputs": [],
   "source": [
    "HOST = 'http://www.dodocook.com/recipe/'"
   ]
  },
  {
   "cell_type": "code",
   "execution_count": 20,
   "metadata": {
    "collapsed": false
   },
   "outputs": [],
   "source": [
    "#def dodocook_crawler(開始文章ID,結束文章ID)\n",
    "def dodocook_crawler(no_start_page,no_stop_page):\n",
    "    HOST = 'http://www.dodocook.com/recipe/'\n",
    "    #在pass這裡接上function() 網址產生器\n",
    "    #pass\n",
    "    url_builder(HOST,no_start_page,no_stop_page)\n",
    "    "
   ]
  },
  {
   "cell_type": "code",
   "execution_count": 21,
   "metadata": {
    "collapsed": false
   },
   "outputs": [],
   "source": [
    "#網址產生器\n",
    "#url_builder(網站URL, 開始文章ID, 結束文章ID)\n",
    "def url_builder(HOST,no_start_page,no_stop_page):\n",
    "    for i in range(no_start_page, no_stop_page):\n",
    "        url = HOST + \"{}/\".format(i)        \n",
    "        print(\"[INFO] {}\".format(url))\n",
    "        #在pass這裡接上function()  res_and_soup(url)\n",
    "        #pass\n",
    "        res_and_soup(url)"
   ]
  },
  {
   "cell_type": "code",
   "execution_count": 26,
   "metadata": {
    "collapsed": true
   },
   "outputs": [],
   "source": [
    "#就字面意思\n",
    "def res_and_soup(url):\n",
    "    try:\n",
    "        res = rq.get(url)\n",
    "        soup = bs(res.text, 'lxml')\n",
    "        print(\"[INFO] success\")\n",
    "        #在pass這裡接上爬取網頁內容的function()\n",
    "        #pass\n",
    "        dodocook_contents(soup)\n",
    "    except:\n",
    "        print(\"[Error] Error while getting contents\")\n",
    "        tb.print_exc()"
   ]
  },
  {
   "cell_type": "code",
   "execution_count": 27,
   "metadata": {
    "collapsed": true
   },
   "outputs": [],
   "source": [
    "def dodocook_contents(soup):\n",
    "    #title\n",
    "    mydict={}\n",
    "    for tag1 in soup.select(\".band > h1\"):\n",
    "        title=tag1.text\n",
    "    mydict[\"title\"]=title\n",
    "        \n",
    "    #foodname\n",
    "    foodName=[]\n",
    "    for tag2 in soup.select(\".body > .list > .name\"):\n",
    "        tag2_dict={}\n",
    "        n=soup.select(\".body > .list > .name\").index(tag2)\n",
    "        tag2_dict[tag2.text]=soup.select(\".ingredient > .body > .list > .count\")[n].text\n",
    "        foodName.append(tag2_dict)\n",
    "    mydict[\"foodName\"]=foodName\n",
    "    \n",
    "    #step\n",
    "    step1=[]\n",
    "    step_list1=soup.select('.steps > .CSrtB > .Sno') \n",
    "    step_go1=soup.select('.steps > .CSrtB > .SBpma')\n",
    "\n",
    "#     step2=[] \n",
    "#     step_list2=soup.select('.steps > .CSrtA > .SrtAk > .Sno') \n",
    "#     for tag3 in step_list2:\n",
    "#         print(tag3.text)\n",
    "#     step_go2=soup.select('.steps > .CSrtA > .SrtAk > .Spma > p')\n",
    "#     for tag4 in step_go2:\n",
    "#         print(tag4.text)\n",
    "        \n",
    "    \n",
    "    for tag3 in step_list1:\n",
    "        tag3_dict={}\n",
    "        n1=step_list1.index(tag3)\n",
    "        tag3_dict[tag3.text]=step_go1[n1].text\n",
    "        step1.append(tag3_dict)\n",
    "    mydict[\"step\"]=step1\n",
    "    print(mydict)"
   ]
  },
  {
   "cell_type": "code",
   "execution_count": 28,
   "metadata": {
    "collapsed": false,
    "scrolled": true
   },
   "outputs": [
    {
     "name": "stdout",
     "output_type": "stream",
     "text": [
      "[INFO] http://www.dodocook.com/recipe/40000/\n",
      "[INFO] success\n",
      "{'step': [], 'title': '♡宛の美好”食“光 ✿ 咖哩肉片燴鮮菇', 'foodName': [{'洋蔥': '1/4個'}, {'小里肌': '150g'}, {'雪白菇': '2包'}, {'紅蘿蔔': '1小段'}, {'清湯': '1杯'}, {'鹽': '少許'}, {'水': '1大匙'}, {'太白粉': '1茶匙'}, {'鹽': '少許'}, {'糖': '適量'}, {'咖哩粉': '1大匙'}, {'太白粉水': '適量勾芡'}]}\n",
      "[INFO] http://www.dodocook.com/recipe/40001/\n",
      "[INFO] success\n",
      "{'step': [{'01': '食材如下~'}, {'02': '鍋子燒熱加橄欖油，先下洋蔥炒香。'}, {'03': '加入蕃茄繼續拌炒。'}, {'04': '將米倒入鍋中，翻炒一下。 \\n\\n加入2杯高湯，加入鹽、白胡椒，中火煮約5分鐘。 \\n\\n在加剩下的1杯高湯 (可將番紅花泡入這杯高湯中一起倒入)。'}, {'05': '中小火，蓋上鍋蓋，煮約15至20分(請翻蓋檢視狀況)。\\n\\n\\n米飯快收乾時，將海鮮、紅黃椒擺上，蓋鍋蓋，繼續悶煮約5分鐘。\\n灑上巴西里，檸檬數片~~ 即可上桌。'}], 'title': '西班牙海鮮燉飯', 'foodName': [{'義大利米': '2杯'}, {'雞高湯或清水': '3杯'}, {'橄欖油或沙拉油': '3匙'}, {'洋蔥': '半顆'}, {'番茄(大顆的)': '半顆'}, {'檸檬': '1顆'}, {'透抽': '一支'}, {'草蝦': '六支'}, {'文蛤': '數顆'}, {'白胡椒': '少許'}, {'鹽(高湯有鹹則減少用量)': '少許'}, {'番紅花': '一大撮'}, {'新鮮巴西里': '少許'}, {'紅黃椒': '半顆'}]}\n",
      "[INFO] http://www.dodocook.com/recipe/40002/\n",
      "[INFO] success\n",
      "[Error] Error while getting contents\n",
      "[INFO] http://www.dodocook.com/recipe/40003/\n"
     ]
    },
    {
     "name": "stderr",
     "output_type": "stream",
     "text": [
      "Traceback (most recent call last):\n",
      "  File \"<ipython-input-26-681adb971120>\", line 9, in res_and_soup\n",
      "    dodocook_contents(soup)\n",
      "  File \"<ipython-input-27-430b819a750a>\", line 6, in dodocook_contents\n",
      "    mydict[\"title\"]=title\n",
      "UnboundLocalError: local variable 'title' referenced before assignment\n"
     ]
    },
    {
     "name": "stdout",
     "output_type": "stream",
     "text": [
      "[INFO] success\n",
      "{'step': [], 'title': '葡萄燕麥甜餅', 'foodName': [{'無鹽奶油100g': ''}, {'細砂糖70g': ''}, {'雞蛋1顆': ''}, {'燕麥片50g': ''}, {'葡萄乾+其他堅果類50g': ''}, {'低筋麵粉160g': ''}, {'小蘇打粉1/4t': ''}]}\n",
      "[INFO] http://www.dodocook.com/recipe/40004/\n",
      "[INFO] success\n",
      "{'step': [], 'title': '蠔油燜竹筍', 'foodName': [{'蠔油': '1.5大匙'}, {'綠竹筍': '1支'}, {'乾香菇': '數小朵'}, {'枸杞': '少許'}, {'芹菜葉(或香菜葉)': '少許'}]}\n",
      "[INFO] http://www.dodocook.com/recipe/40005/\n",
      "[INFO] success\n",
      "{'step': [], 'title': '腐乳脆花腩', 'foodName': [{'松阪豬': '300g'}, {'市售麻油腐乳': '1塊'}, {'【李錦記舊庄特級蠔油】': '1大匙(約15ml)'}, {'味霖': '2大匙(約30ml)'}, {'薑片': '適量'}, {'木薯粉(地瓜粉)': '1.5大匙'}, {'白胡椒': '少許'}]}\n",
      "[INFO] http://www.dodocook.com/recipe/40006/\n",
      "[INFO] success\n",
      "{'step': [], 'title': '稻荷壽司(豆皮壽司)', 'foodName': [{'炸三角豆腐包約20個': ''}, {'[壽司皮]': ''}, {'清水300g': ''}, {'二砂糖70g': ''}, {'醬油45g': ''}, {'[醋飯]': ''}, {'熱白飯400g': ''}, {'白醋40cc': ''}, {'細砂糖2大匙': ''}]}\n",
      "[INFO] http://www.dodocook.com/recipe/40007/\n",
      "[INFO] success\n",
      "{'step': [], 'title': 'Smoothie ~ 菠蘿 + 青瓜', 'foodName': [{'菠蘿': '70g'}, {'青瓜': '1/3個'}, {'水': '100ml'}, {'檸檬汁': '1小匙'}, {'蜜糖': '1小匙'}]}\n",
      "[INFO] http://www.dodocook.com/recipe/40008/\n",
      "[INFO] success\n",
      "{'step': [], 'title': '人妻的廚房--咖哩魯肉', 'foodName': [{'咖哩粉': '1大匙'}, {'洋蔥（小）': '1顆'}, {'油蔥酥、薑': '適量'}, {'糖': '1小匙'}, {'醬油': '1大匙'}, {'豬絞肉': '1斤'}, {'水': '適量'}]}\n",
      "[INFO] http://www.dodocook.com/recipe/40009/\n",
      "[INFO] success\n",
      "{'step': [], 'title': '酸菜炒大腸', 'foodName': [{'薑絲': '1把'}, {'蒜末': '2大匙'}, {'酸菜': '1把'}, {'大腸': '1條'}, {'辣椒片': '少許'}, {'蒜苗片': '少許(配色用可免)'}, {'雞粉': '2小匙'}, {'醋精': '1大匙'}, {'米酒': '2大匙'}]}\n"
     ]
    }
   ],
   "source": [
    "dodocook_crawler(40000,40010)"
   ]
  },
  {
   "cell_type": "code",
   "execution_count": null,
   "metadata": {
    "collapsed": true
   },
   "outputs": [],
   "source": []
  }
 ],
 "metadata": {
  "anaconda-cloud": {},
  "kernelspec": {
   "display_name": "Python [default]",
   "language": "python",
   "name": "python3"
  },
  "language_info": {
   "codemirror_mode": {
    "name": "ipython",
    "version": 3
   },
   "file_extension": ".py",
   "mimetype": "text/x-python",
   "name": "python",
   "nbconvert_exporter": "python",
   "pygments_lexer": "ipython3",
   "version": "3.5.2"
  }
 },
 "nbformat": 4,
 "nbformat_minor": 1
}
