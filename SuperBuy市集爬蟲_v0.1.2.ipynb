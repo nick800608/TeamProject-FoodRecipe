{
 "cells": [
  {
   "cell_type": "code",
   "execution_count": 40,
   "metadata": {
    "collapsed": true
   },
   "outputs": [],
   "source": [
    "import requests as rq\n",
    "from bs4 import BeautifulSoup as bs\n",
    "from collections import OrderedDict as od\n",
    "from threading import Thread\n",
    "from queuelib import queue\n",
    "from selenium import webdriver\n",
    "from datetime import datetime\n",
    "import time\n",
    "import random\n",
    "import json\n",
    "import csv\n",
    "import traceback as tb\n",
    "import re"
   ]
  },
  {
   "cell_type": "code",
   "execution_count": 41,
   "metadata": {
    "collapsed": true
   },
   "outputs": [],
   "source": [
    "HOST = 'https://www.superbuy.com.tw/'"
   ]
  },
  {
   "cell_type": "code",
   "execution_count": 42,
   "metadata": {
    "collapsed": true
   },
   "outputs": [],
   "source": [
    "index_url = HOST"
   ]
  },
  {
   "cell_type": "markdown",
   "metadata": {},
   "source": [
    "# 上層爬蟲"
   ]
  },
  {
   "cell_type": "code",
   "execution_count": 102,
   "metadata": {
    "collapsed": false
   },
   "outputs": [],
   "source": [
    "def SuperBuy_crawler():\n",
    "    res_index = rq.get(index_url)\n",
    "    soup_index = bs(res_index.text, 'lxml')\n",
    "    soup_li = soup_index.li\n",
    "    \n",
    "    rows = soup_index.select('.row')\n",
    "    li_lists = rows[0].find('div')\n",
    "    a_list = li_lists.select('a')\n",
    "    \n",
    "    for a in a_list:\n",
    "        print(a.text)\n",
    "        petten = 'category.php'\n",
    "        pre_small_branch_url = a['href']\n",
    "        regular_expression = re.match(petten,pre_small_branch_url)\n",
    "        \n",
    "        if regular_expression is not None:\n",
    "            print(pre_small_branch_url)\n",
    "            small_branch_url = \"{}{}\".format(index_url, pre_small_branch_url)\n",
    "            print(small_branch_url)\n",
    "            #pass\n",
    "            #傳給中層\n",
    "            small_branch_crawler(small_branch_url)    "
   ]
  },
  {
   "cell_type": "code",
   "execution_count": null,
   "metadata": {
    "collapsed": true
   },
   "outputs": [],
   "source": []
  },
  {
   "cell_type": "markdown",
   "metadata": {},
   "source": [
    "# 中層爬蟲"
   ]
  },
  {
   "cell_type": "code",
   "execution_count": 103,
   "metadata": {
    "collapsed": false
   },
   "outputs": [],
   "source": [
    "def small_branch_crawler(small_branch_url):\n",
    "    res = rq.get(small_branch_url)\n",
    "    soup = bs(res.text, 'lxml')\n",
    "    \n",
    "    a_list = soup.select('.product.col-xs-6.col-sm-6.col-md-4 > ul > li > a[\"href\"]')\n",
    "    \n",
    "    last_product_url = ''\n",
    "    \n",
    "    for a_href in a_list:\n",
    "        pre_product_url = re.match(r'product\\.php\\?p\\_id',a_href['href'])\n",
    "        if pre_product_url is not None:\n",
    "            product_url = \"{}{}\".format(index_url, a_href['href'])\n",
    "            \n",
    "            if product_url != last_product_url:\n",
    "                print(product_url)\n",
    "                #pass\n",
    "                #傳給下層\n",
    "                product_url_crawler(product_url)                \n",
    "                last_product_url = product_url\n",
    "                #print(last_product_url)"
   ]
  },
  {
   "cell_type": "code",
   "execution_count": null,
   "metadata": {
    "collapsed": true
   },
   "outputs": [],
   "source": []
  },
  {
   "cell_type": "markdown",
   "metadata": {},
   "source": [
    "# 下層爬蟲"
   ]
  },
  {
   "cell_type": "code",
   "execution_count": 100,
   "metadata": {
    "collapsed": false
   },
   "outputs": [],
   "source": [
    "def product_url_crawler(product_url):\n",
    "    res = rq.get(product_url)\n",
    "    soup = bs(res.text, 'lxml')\n",
    "    \n",
    "    #--右側欄位--\n",
    "    #商品名稱\n",
    "    title = soup.h1.text\n",
    "    print(title)\n",
    "    try:\n",
    "        try:\n",
    "            # 附標題\n",
    "            sub_title = soup.select('span > strong > span')[0].text\n",
    "            print(sub_title)\n",
    "            # 商品說明\n",
    "            productinfo = soup.select('.productinfo > p')[2].text\n",
    "            print(productinfo)\n",
    "            # 類別    \n",
    "            category = soup.select('.productinfo > p > a')[0].text\n",
    "            print(category)\n",
    "\n",
    "        except IndexError:\n",
    "            # 附標題\n",
    "            sub_title = soup.select('span > span > strong')[0].text\n",
    "            print(sub_title)\n",
    "            # 商品說明\n",
    "            productinfo = soup.select('.productinfo > div')[3].text\n",
    "            print(productinfo)\n",
    "            # 類別\n",
    "            category = soup.select('.productinfo > p > a')[0].text\n",
    "            print(category)\n",
    "\n",
    "        except Exception:\n",
    "            print('format_exception()')\n",
    "    except Exception:\n",
    "        tb.print_tb\n",
    "            \n",
    "    #--左側欄位--\n",
    "    # 產品規格和注意事項\n",
    "    try:\n",
    "        try:\n",
    "            div_Product_specifications = soup.select('div > ul > li > div')\n",
    "            for div in div_Product_specifications:\n",
    "                div_text = div.text.strip()\n",
    "\n",
    "                # 成分\n",
    "                ingredient = re.match(r'成份',div_text)\n",
    "                if ingredient is not None:\n",
    "                    print(div_text)\n",
    "\n",
    "                # 原產地\n",
    "                place_of_origin = re.match(r'原產地',div_text)\n",
    "                if place_of_origin is not None:\n",
    "                    print(div_text)\n",
    "\n",
    "                # 保存期限\n",
    "                retention_period = re.match(r'保存期限',div_text)\n",
    "                if retention_period is not None:\n",
    "                    print(div_text)\n",
    "\n",
    "                # 保存方法\n",
    "                preservation_method = re.match(r'保存方法',div_text)\n",
    "                if preservation_method is not None:\n",
    "                    print(div_text)\n",
    "\n",
    "                #print(div_text)\n",
    "\n",
    "        except IndexError:\n",
    "            li_Product_specifications = soup.select('.column.full > ul')[0].select('li')\n",
    "            for li in li_Product_specifications:\n",
    "                li_text = li.text.strip()\n",
    "                #print(li_text)\n",
    "                #print(type(li_text))\n",
    "                # 成分\n",
    "                ingredient = re.match(r'成份',li_text)\n",
    "                if ingredient is not None:\n",
    "                    print(li_text)\n",
    "\n",
    "                # 原產地\n",
    "                place_of_origin = re.match(r'原產地',li_text)\n",
    "                if place_of_origin is not None:\n",
    "                    print(li_text)\n",
    "\n",
    "                # 保存期限\n",
    "                retention_period = re.match(r'保存期限',li_text)\n",
    "                if retention_period is not None:\n",
    "                    print(li_text)\n",
    "\n",
    "                # 保存方法\n",
    "                preservation_method = re.match(r'保存方法',li_text)\n",
    "                if preservation_method is not None:\n",
    "                    print(li_text)\n",
    "\n",
    "                # 食用方法\n",
    "                edible_method = re.match(r'食用方法',li_text)\n",
    "                if edible_method is not None:\n",
    "                    print(li_text)\n",
    "\n",
    "                # 解凍方式\n",
    "                thawing_method = re.match(r'解凍方式',li_text)\n",
    "                if thawing_method is not None:\n",
    "                    print(li_text)\n",
    "\n",
    "                # 注意事項\n",
    "                precautions = re.match(r'注意事項',li_text)\n",
    "                if precautions is not None:\n",
    "                    print(li_text)\n",
    "    except Exception:\n",
    "        tb.print_tb"
   ]
  },
  {
   "cell_type": "code",
   "execution_count": null,
   "metadata": {
    "collapsed": true
   },
   "outputs": [],
   "source": []
  },
  {
   "cell_type": "markdown",
   "metadata": {},
   "source": [
    "# 下層爬蟲"
   ]
  },
  {
   "cell_type": "code",
   "execution_count": 184,
   "metadata": {
    "collapsed": true
   },
   "outputs": [],
   "source": [
    "# 黑鑽雞 去骨雞腿肉\n",
    "product_url_test = 'https://www.superbuy.com.tw/product.php?p_id=1607040016'"
   ]
  },
  {
   "cell_type": "code",
   "execution_count": 195,
   "metadata": {
    "collapsed": true
   },
   "outputs": [],
   "source": [
    "# 有機轉型期金鑽鳳梨\n",
    "product_url_test2 = 'https://www.superbuy.com.tw/product.php?p_id=1503250001'"
   ]
  },
  {
   "cell_type": "code",
   "execution_count": 196,
   "metadata": {
    "collapsed": true
   },
   "outputs": [],
   "source": [
    "# A級有機地瓜\n",
    "product_url_test3 = 'https://www.superbuy.com.tw/product.php?p_id=1302190001'"
   ]
  },
  {
   "cell_type": "code",
   "execution_count": 197,
   "metadata": {
    "collapsed": false
   },
   "outputs": [],
   "source": [
    "res = rq.get(product_url_test3)\n",
    "soup = bs(res.text, 'lxml')"
   ]
  },
  {
   "cell_type": "code",
   "execution_count": null,
   "metadata": {
    "collapsed": true
   },
   "outputs": [],
   "source": []
  },
  {
   "cell_type": "markdown",
   "metadata": {},
   "source": [
    "# 右側欄位"
   ]
  },
  {
   "cell_type": "markdown",
   "metadata": {},
   "source": [
    "## 商品名稱"
   ]
  },
  {
   "cell_type": "code",
   "execution_count": 116,
   "metadata": {
    "collapsed": false,
    "scrolled": true
   },
   "outputs": [
    {
     "data": {
      "text/plain": [
       "'黑鑽雞 去骨雞腿肉'"
      ]
     },
     "execution_count": 116,
     "metadata": {},
     "output_type": "execute_result"
    }
   ],
   "source": [
    "soup.h1.text"
   ]
  },
  {
   "cell_type": "code",
   "execution_count": null,
   "metadata": {
    "collapsed": true
   },
   "outputs": [],
   "source": [
    "soup"
   ]
  },
  {
   "cell_type": "code",
   "execution_count": 90,
   "metadata": {
    "collapsed": true
   },
   "outputs": [],
   "source": [
    "# 附標題"
   ]
  },
  {
   "cell_type": "code",
   "execution_count": null,
   "metadata": {
    "collapsed": true
   },
   "outputs": [],
   "source": [
    "# A級有機地瓜"
   ]
  },
  {
   "cell_type": "code",
   "execution_count": 117,
   "metadata": {
    "collapsed": false
   },
   "outputs": [
    {
     "ename": "IndexError",
     "evalue": "list index out of range",
     "output_type": "error",
     "traceback": [
      "\u001b[0;31m---------------------------------------------------------------------------\u001b[0m",
      "\u001b[0;31mIndexError\u001b[0m                                Traceback (most recent call last)",
      "\u001b[0;32m<ipython-input-117-0fed8bc455ff>\u001b[0m in \u001b[0;36m<module>\u001b[0;34m()\u001b[0m\n\u001b[0;32m----> 1\u001b[0;31m \u001b[0msoup\u001b[0m\u001b[1;33m.\u001b[0m\u001b[0mselect\u001b[0m\u001b[1;33m(\u001b[0m\u001b[1;34m'span > strong > span'\u001b[0m\u001b[1;33m)\u001b[0m\u001b[1;33m[\u001b[0m\u001b[1;36m0\u001b[0m\u001b[1;33m]\u001b[0m\u001b[1;33m.\u001b[0m\u001b[0mtext\u001b[0m\u001b[1;33m\u001b[0m\u001b[0m\n\u001b[0m",
      "\u001b[0;31mIndexError\u001b[0m: list index out of range"
     ]
    }
   ],
   "source": [
    "soup.select('span > strong > span')[0].text"
   ]
  },
  {
   "cell_type": "code",
   "execution_count": null,
   "metadata": {
    "collapsed": true
   },
   "outputs": [],
   "source": [
    "# 有機轉型期金鑽鳳梨(4顆裝)"
   ]
  },
  {
   "cell_type": "code",
   "execution_count": 118,
   "metadata": {
    "collapsed": false
   },
   "outputs": [
    {
     "data": {
      "text/plain": [
       "'嚴選優質土雞品種 堅持自然完熟 低密度生長'"
      ]
     },
     "execution_count": 118,
     "metadata": {},
     "output_type": "execute_result"
    }
   ],
   "source": [
    "soup.select('span > span > strong')[0].text"
   ]
  },
  {
   "cell_type": "code",
   "execution_count": null,
   "metadata": {
    "collapsed": true
   },
   "outputs": [],
   "source": [
    "# 商品說明"
   ]
  },
  {
   "cell_type": "code",
   "execution_count": null,
   "metadata": {
    "collapsed": true
   },
   "outputs": [],
   "source": [
    "# A級有機地瓜"
   ]
  },
  {
   "cell_type": "code",
   "execution_count": 119,
   "metadata": {
    "collapsed": false
   },
   "outputs": [
    {
     "data": {
      "text/plain": [
       "'編號：0397-057'"
      ]
     },
     "execution_count": 119,
     "metadata": {},
     "output_type": "execute_result"
    }
   ],
   "source": [
    "soup.select('.productinfo > p')[2].text"
   ]
  },
  {
   "cell_type": "code",
   "execution_count": null,
   "metadata": {
    "collapsed": true
   },
   "outputs": [],
   "source": [
    "# 有機轉型期金鑽鳳梨(4顆裝)"
   ]
  },
  {
   "cell_type": "code",
   "execution_count": 120,
   "metadata": {
    "collapsed": false
   },
   "outputs": [
    {
     "data": {
      "text/plain": [
       "<div>\n",
       "\t來自雲林純淨牧場的頂級黑鑽雞，採無污染低密度高保濕的飼養環境培育，14週自然完熟，不施打成長激素、抗生素。每批肉品上市前都經過嚴格檢驗無藥殘，以及合格電宰廠屠宰、急速冷凍、冷凍宅配運送，讓消費者更放心享受雞肉豐潤鮮美的自然原味。肉質結實有彈性，少了一般肉雞的腥味，脂肪與含水量少，蛋白質更多、營養價值更高。皮薄彈牙、雞汁甘甜飽滿、肉質細緻口感佳。</div>"
      ]
     },
     "execution_count": 120,
     "metadata": {},
     "output_type": "execute_result"
    }
   ],
   "source": [
    "soup.select('.productinfo > div')[3]"
   ]
  },
  {
   "cell_type": "code",
   "execution_count": null,
   "metadata": {
    "collapsed": true
   },
   "outputs": [],
   "source": [
    "# 類別"
   ]
  },
  {
   "cell_type": "code",
   "execution_count": 121,
   "metadata": {
    "collapsed": false
   },
   "outputs": [
    {
     "data": {
      "text/plain": [
       "'雞肉'"
      ]
     },
     "execution_count": 121,
     "metadata": {},
     "output_type": "execute_result"
    }
   ],
   "source": [
    "soup.select('.productinfo > p > a')[0].text"
   ]
  },
  {
   "cell_type": "markdown",
   "metadata": {},
   "source": [
    "# 以下在左邊欄位"
   ]
  },
  {
   "cell_type": "code",
   "execution_count": null,
   "metadata": {
    "collapsed": true
   },
   "outputs": [],
   "source": [
    "# 產品規格和注意事項"
   ]
  },
  {
   "cell_type": "code",
   "execution_count": 191,
   "metadata": {
    "collapsed": false,
    "scrolled": true
   },
   "outputs": [
    {
     "data": {
      "text/plain": [
       "[]"
      ]
     },
     "execution_count": 191,
     "metadata": {},
     "output_type": "execute_result"
    }
   ],
   "source": [
    "soup.select('.column.full > ul')[0].select('li')"
   ]
  },
  {
   "cell_type": "code",
   "execution_count": null,
   "metadata": {
    "collapsed": true
   },
   "outputs": [],
   "source": [
    "# A級有機地瓜"
   ]
  },
  {
   "cell_type": "code",
   "execution_count": 204,
   "metadata": {
    "collapsed": false,
    "scrolled": true
   },
   "outputs": [
    {
     "data": {
      "text/plain": [
       "<div>\n",
       "<img align=\"absMiddle\" alt=\"\" src=\"https://www.superbuy.com.tw/images/ico_orange.png\"/> 成份：臺農57號地瓜</div>"
      ]
     },
     "execution_count": 204,
     "metadata": {},
     "output_type": "execute_result"
    }
   ],
   "source": [
    "div_soup.select('div > ul > li > div')"
   ]
  },
  {
   "cell_type": "code",
   "execution_count": 206,
   "metadata": {
    "collapsed": false
   },
   "outputs": [],
   "source": [
    "div_Product_specifications = soup.select('div > ul > li > div')"
   ]
  },
  {
   "cell_type": "code",
   "execution_count": 214,
   "metadata": {
    "collapsed": false
   },
   "outputs": [
    {
     "name": "stdout",
     "output_type": "stream",
     "text": [
      "成份：臺農57號地瓜\n",
      "原產地：台灣雲林\n",
      "保存期限：2週~3週\n",
      "保存方法：常溫，請放置陰涼通風處\n"
     ]
    }
   ],
   "source": [
    "for div in div_Product_specifications:\n",
    "    div_text = div.text.strip()\n",
    "    \n",
    "    # 成分\n",
    "    ingredient = re.match(r'成份',div_text)\n",
    "    if ingredient is not None:\n",
    "        print(div_text)\n",
    "        \n",
    "    # 原產地\n",
    "    place_of_origin = re.match(r'原產地',div_text)\n",
    "    if place_of_origin is not None:\n",
    "        print(div_text)\n",
    "\n",
    "    # 保存期限\n",
    "    retention_period = re.match(r'保存期限',div_text)\n",
    "    if retention_period is not None:\n",
    "        print(div_text)\n",
    "    \n",
    "    # 保存方法\n",
    "    preservation_method = re.match(r'保存方法',div_text)\n",
    "    if preservation_method is not None:\n",
    "        print(div_text)\n",
    "    \n",
    "    \n",
    "    #print(div_text)"
   ]
  },
  {
   "cell_type": "code",
   "execution_count": null,
   "metadata": {
    "collapsed": true
   },
   "outputs": [],
   "source": []
  },
  {
   "cell_type": "code",
   "execution_count": null,
   "metadata": {
    "collapsed": true
   },
   "outputs": [],
   "source": [
    "# 黑鑽雞 去骨雞腿肉"
   ]
  },
  {
   "cell_type": "code",
   "execution_count": 188,
   "metadata": {
    "collapsed": false
   },
   "outputs": [],
   "source": [
    "li_Product_specifications = soup.select('.column.full > ul')[0].select('li')"
   ]
  },
  {
   "cell_type": "code",
   "execution_count": 189,
   "metadata": {
    "collapsed": false
   },
   "outputs": [
    {
     "data": {
      "text/plain": [
       "[<li>成份：黑羽土雞</li>,\n",
       " <li>原產地：雲林</li>,\n",
       " <li>保存期限：冷凍-18℃以下，保存期限6個月</li>,\n",
       " <li>注意事項：家用冰箱冷凍庫因常開關取物，溫度難維持-18℃以下，因此建議保存期限約2～3個月</li>,\n",
       " <li>解凍方式：包裝密封狀態下，建議前一天宜置冷藏室採低溫解凍以保持食材原味，或以水沖泡快速解凍。解凍後請盡速食用完畢，請勿重複冷凍、解凍，以避免變質<br/></li>,\n",
       " <li>食用方法：依照個人喜好進行料理，可作湯品燉煮、烤雞</li>,\n",
       " <li>本公司所販售商品，屬於自然成長之肉品，其形狀、色澤、肥瘦皆不相同；肉品經過分切、去骨、修飾(剔除筋膜、油脂)後，標示重量皆會有微幅增減差異，屬肉品自然損耗，購買前敬請留意。<br/></li>]"
      ]
     },
     "execution_count": 189,
     "metadata": {},
     "output_type": "execute_result"
    }
   ],
   "source": [
    "li_Product_specifications"
   ]
  },
  {
   "cell_type": "code",
   "execution_count": null,
   "metadata": {
    "collapsed": true
   },
   "outputs": [],
   "source": [
    "# 成分"
   ]
  },
  {
   "cell_type": "code",
   "execution_count": 180,
   "metadata": {
    "collapsed": false
   },
   "outputs": [
    {
     "name": "stdout",
     "output_type": "stream",
     "text": [
      "成份：黑羽土雞\n",
      "原產地：雲林\n",
      "保存期限：冷凍-18℃以下，保存期限6個月\n",
      "注意事項：家用冰箱冷凍庫因常開關取物，溫度難維持-18℃以下，因此建議保存期限約2～3個月\n",
      "解凍方式：包裝密封狀態下，建議前一天宜置冷藏室採低溫解凍以保持食材原味，或以水沖泡快速解凍。解凍後請盡速食用完畢，請勿重複冷凍、解凍，以避免變質\n",
      "食用方法：依照個人喜好進行料理，可作湯品燉煮、烤雞\n"
     ]
    }
   ],
   "source": [
    "for li in li_Product_specifications:\n",
    "    li_text = li.text.strip()\n",
    "    #print(li_text)\n",
    "    #print(type(li_text))\n",
    "    # 成分\n",
    "    ingredient = re.match(r'成份',li_text)\n",
    "    if ingredient is not None:\n",
    "        print(li_text)\n",
    "        \n",
    "    # 原產地\n",
    "    place_of_origin = re.match(r'原產地',li_text)\n",
    "    if place_of_origin is not None:\n",
    "        print(li_text)\n",
    "\n",
    "    # 保存期限\n",
    "    retention_period = re.match(r'保存期限',li_text)\n",
    "    if retention_period is not None:\n",
    "        print(li_text)\n",
    "    \n",
    "    # 保存方法\n",
    "    preservation_method = re.match(r'保存方法',li_text)\n",
    "    if preservation_method is not None:\n",
    "        print(li_text)\n",
    "    \n",
    "    # 食用方法\n",
    "    edible_method = re.match(r'食用方法',li_text)\n",
    "    if edible_method is not None:\n",
    "        print(li_text)\n",
    "    \n",
    "    # 解凍方式\n",
    "    thawing_method = re.match(r'解凍方式',li_text)\n",
    "    if thawing_method is not None:\n",
    "        print(li_text)\n",
    "    \n",
    "    # 注意事項\n",
    "    precautions = re.match(r'注意事項',li_text)\n",
    "    if precautions is not None:\n",
    "        print(li_text)\n",
    "    \n",
    "\n",
    "    \n",
    "    "
   ]
  }
 ],
 "metadata": {
  "anaconda-cloud": {},
  "kernelspec": {
   "display_name": "Python [default]",
   "language": "python",
   "name": "python3"
  },
  "language_info": {
   "codemirror_mode": {
    "name": "ipython",
    "version": 3
   },
   "file_extension": ".py",
   "mimetype": "text/x-python",
   "name": "python",
   "nbconvert_exporter": "python",
   "pygments_lexer": "ipython3",
   "version": "3.5.2"
  }
 },
 "nbformat": 4,
 "nbformat_minor": 1
}
