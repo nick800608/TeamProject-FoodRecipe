{
 "cells": [
  {
   "cell_type": "code",
   "execution_count": 1,
   "metadata": {
    "collapsed": true
   },
   "outputs": [],
   "source": [
    "#起始標準起手式~\n",
    "import requests as rq\n",
    "from bs4 import BeautifulSoup as bs\n",
    "from collections import OrderedDict as od\n",
    "import json\n",
    "import csv\n",
    "import traceback as tb\n",
    "import re"
   ]
  },
  {
   "cell_type": "code",
   "execution_count": 2,
   "metadata": {
    "collapsed": true
   },
   "outputs": [],
   "source": [
    "#def dodocook_crawler(開始文章ID,結束文章ID)\n",
    "def dodocook_crawler(no_start_page,no_stop_page):\n",
    "    HOST = 'http://www.dodocook.com/recipe/'\n",
    "    #在pass這裡接上function() 網址產生器\n",
    "    #pass\n",
    "    url_builder(HOST,no_start_page,no_stop_page)"
   ]
  },
  {
   "cell_type": "code",
   "execution_count": 3,
   "metadata": {
    "collapsed": true
   },
   "outputs": [],
   "source": [
    "#網址產生器\n",
    "#url_builder(網站URL, 開始文章ID, 結束文章ID)\n",
    "def url_builder(HOST,no_start_page,no_stop_page):\n",
    "    for i in range(no_start_page, no_stop_page):\n",
    "        url = HOST + \"{}/\".format(i)        \n",
    "        print(\"[INFO] {}\".format(url))\n",
    "        #在pass這裡接上function()  res_and_soup(url)\n",
    "        #pass\n",
    "        res_and_soup(url)"
   ]
  },
  {
   "cell_type": "code",
   "execution_count": 4,
   "metadata": {
    "collapsed": true
   },
   "outputs": [],
   "source": [
    "#就字面意思\n",
    "def res_and_soup(url):\n",
    "    try:\n",
    "        res = rq.get(url)\n",
    "        soup = bs(res.text, 'lxml')\n",
    "        print(\"[INFO] success\")\n",
    "        #在pass這裡接上爬取網頁內容的function()\n",
    "        #pass\n",
    "        dodocook_contents(soup)\n",
    "    except:\n",
    "        print(\"[Error] Error while getting contents\")\n",
    "        tb.print_exc()"
   ]
  },
  {
   "cell_type": "code",
   "execution_count": 5,
   "metadata": {
    "collapsed": true
   },
   "outputs": [],
   "source": [
    "def dodocook_contents(soup):\n",
    "    #title\n",
    "    mydict = {}    \n",
    "    title = soup.select(\".band > h1\")[0].text\n",
    "    mydict[\"title\"] = title\n",
    "        \n",
    "    #foodname\n",
    "    foodName = []\n",
    "    for tag2 in soup.select(\".body > .list > .name\"):\n",
    "        tag2_dict={}\n",
    "        n=soup.select(\".body > .list > .name\").index(tag2)\n",
    "        tag2_dict[tag2.text]=soup.select(\".ingredient > .body > .list > .count\")[n].text\n",
    "        foodName.append(tag2_dict)\n",
    "    mydict[\"foodName\"]=foodName\n",
    "    \n",
    "    #step\n",
    "    if (len(soup.select('.steps > .CSrtB > .Sno')) == 0):        \n",
    "        #取步驟Index\n",
    "        step_list_index=soup.select('.steps > .CSrtA > .SrtAk > .Sno') \n",
    "        #取步驟內容\n",
    "        step_list_content=soup.select('.steps > .CSrtA > .SrtAk > .Spma')\n",
    "        \n",
    "\n",
    "        step_list=[]\n",
    "        for i,step in enumerate(step_list_index):\n",
    "            my_odict = od()\n",
    "            #每個步驟的NO\n",
    "            step_index = int(step.text)\n",
    "            #print(step_index)\n",
    "            my_odict[\"step_number\"] = step_index\n",
    "            #每個步驟的內容\n",
    "            contents = step_list_content[i].text.strip()\n",
    "            #print(contents)\n",
    "            my_odict[\"step_content\"] = contents\n",
    "            step_list.append(my_odict)  \n",
    "            \n",
    "        #print(step_list)\n",
    "        mydict[\"step\"]=step_list\n",
    "        \n",
    "    else:\n",
    "        #取步驟Index\n",
    "        step_list_index=soup.select('.steps > .CSrtB > .Sno') \n",
    "        #取步驟內容\n",
    "        step_list_content=soup.select('.steps > .CSrtB > .SBpma')\n",
    "        \n",
    "\n",
    "        step_list=[]\n",
    "        for i,step in enumerate(step_list_index):\n",
    "            my_odict = od()\n",
    "            #每個步驟的NO\n",
    "            step_index = int(step.text)\n",
    "            #print(step_index)\n",
    "            my_odict[\"step_number\"] = step_index\n",
    "            #每個步驟的內容\n",
    "            contents = step_list_content[i].text.strip()\n",
    "            #print(contents)\n",
    "            my_odict[\"step_content\"] = contents\n",
    "            step_list.append(my_odict)  \n",
    "            \n",
    "        #print(step_list)\n",
    "        mydict[\"step\"]=step_list\n",
    "    print(mydict)"
   ]
  },
  {
   "cell_type": "code",
   "execution_count": 6,
   "metadata": {
    "collapsed": false
   },
   "outputs": [
    {
     "name": "stdout",
     "output_type": "stream",
     "text": [
      "[INFO] http://www.dodocook.com/recipe/40000/\n",
      "[INFO] success\n",
      "{'title': '♡宛の美好”食“光 ✿ 咖哩肉片燴鮮菇', 'foodName': [{'洋蔥': '1/4個'}, {'小里肌': '150g'}, {'雪白菇': '2包'}, {'紅蘿蔔': '1小段'}, {'清湯': '1杯'}, {'鹽': '少許'}, {'水': '1大匙'}, {'太白粉': '1茶匙'}, {'鹽': '少許'}, {'糖': '適量'}, {'咖哩粉': '1大匙'}, {'太白粉水': '適量勾芡'}], 'step': [OrderedDict([('step_number', 1), ('step_content', '小里肌切薄片，拌上調味料①醃10～15分鐘。雪白菇去根蒂，分成數朵（不用洗，炒較香）；紅蘿蔔切斜片，洋蔥切丁。鍋中放2大匙油，放羊蔥先炒至微軟。')]), OrderedDict([('step_number', 2), ('step_content', '再放入咖哩粉，炒香。')]), OrderedDict([('step_number', 3), ('step_content', '再加入清湯、紅蘿蔔。')]), OrderedDict([('step_number', 4), ('step_content', '和雪白菇，煮滾後改成小火煮1～2分鐘。')]), OrderedDict([('step_number', 5), ('step_content', '最後下豬肉片蓋上鍋蓋，煮至肉片熟，略勾薄芡，即可。')]), OrderedDict([('step_number', 6), ('step_content', '打開包裝袋菇菇的香味就撲鼻而來，食材真的是新鮮的才好吃呀～每朵菇菇也充滿水份，口感爽脆，夏天吃真的很舒服。融合著咖哩香，加上菇類特有的香氣，咀嚼起來的口感百吃不膩。')])]}\n",
      "[INFO] http://www.dodocook.com/recipe/40001/\n",
      "[INFO] success\n",
      "{'title': '西班牙海鮮燉飯', 'foodName': [{'義大利米': '2杯'}, {'雞高湯或清水': '3杯'}, {'橄欖油或沙拉油': '3匙'}, {'洋蔥': '半顆'}, {'番茄(大顆的)': '半顆'}, {'檸檬': '1顆'}, {'透抽': '一支'}, {'草蝦': '六支'}, {'文蛤': '數顆'}, {'白胡椒': '少許'}, {'鹽(高湯有鹹則減少用量)': '少許'}, {'番紅花': '一大撮'}, {'新鮮巴西里': '少許'}, {'紅黃椒': '半顆'}], 'step': [OrderedDict([('step_number', 1), ('step_content', '食材如下~')]), OrderedDict([('step_number', 2), ('step_content', '鍋子燒熱加橄欖油，先下洋蔥炒香。')]), OrderedDict([('step_number', 3), ('step_content', '加入蕃茄繼續拌炒。')]), OrderedDict([('step_number', 4), ('step_content', '將米倒入鍋中，翻炒一下。 \\n\\n加入2杯高湯，加入鹽、白胡椒，中火煮約5分鐘。 \\n\\n在加剩下的1杯高湯 (可將番紅花泡入這杯高湯中一起倒入)。')]), OrderedDict([('step_number', 5), ('step_content', '中小火，蓋上鍋蓋，煮約15至20分(請翻蓋檢視狀況)。\\n\\n\\n米飯快收乾時，將海鮮、紅黃椒擺上，蓋鍋蓋，繼續悶煮約5分鐘。\\n灑上巴西里，檸檬數片~~ 即可上桌。')])]}\n",
      "[INFO] http://www.dodocook.com/recipe/40002/\n",
      "[INFO] success\n",
      "[Error] Error while getting contents\n",
      "[INFO] http://www.dodocook.com/recipe/40003/\n"
     ]
    },
    {
     "name": "stderr",
     "output_type": "stream",
     "text": [
      "Traceback (most recent call last):\n",
      "  File \"<ipython-input-4-681adb971120>\", line 9, in res_and_soup\n",
      "    dodocook_contents(soup)\n",
      "  File \"<ipython-input-5-edc9d5298911>\", line 4, in dodocook_contents\n",
      "    title = soup.select(\".band > h1\")[0].text\n",
      "IndexError: list index out of range\n"
     ]
    },
    {
     "name": "stdout",
     "output_type": "stream",
     "text": [
      "[INFO] success\n",
      "{'title': '葡萄燕麥甜餅', 'foodName': [{'無鹽奶油100g': ''}, {'細砂糖70g': ''}, {'雞蛋1顆': ''}, {'燕麥片50g': ''}, {'葡萄乾+其他堅果類50g': ''}, {'低筋麵粉160g': ''}, {'小蘇打粉1/4t': ''}], 'step': [OrderedDict([('step_number', 1), ('step_content', '無鹽奶油放入盆中，打到蓬鬆。')]), OrderedDict([('step_number', 2), ('step_content', '蛋液分3次加入，一定要打均勻才可在加入下一次。')]), OrderedDict([('step_number', 3), ('step_content', '燕麥片+葡萄乾&其他堅果核桃類加入拌勻。')]), OrderedDict([('step_number', 4), ('step_content', '倒入過篩的低筋麵粉&小蘇打粉拌勻(勿過度攪拌以免產生筋性)')]), OrderedDict([('step_number', 5), ('step_content', '用湯匙挖一適當份量，在手中搓圓，整齊排入烤盤中壓扁成厚度約3-4mm的圓片 (每片餅乾間需留空隙，烘烤過後會稍微膨大)')]), OrderedDict([('step_number', 6), ('step_content', '烤箱預熱175度，烘烤約16分鐘(中間烤盤可調頭一次，幫助上色均勻)')])]}\n",
      "[INFO] http://www.dodocook.com/recipe/40004/\n",
      "[INFO] success\n",
      "{'title': '蠔油燜竹筍', 'foodName': [{'蠔油': '1.5大匙'}, {'綠竹筍': '1支'}, {'乾香菇': '數小朵'}, {'枸杞': '少許'}, {'芹菜葉(或香菜葉)': '少許'}], 'step': [OrderedDict([('step_number', 1), ('step_content', '綠竹筍去殼切條狀。乾香菇泡軟。枸杞洗乾淨瀝乾水備用。')]), OrderedDict([('step_number', 2), ('step_content', '.鍋熱油熱放竹筍炒香，續放香菇拌炒。加李錦記舊庄特級蠔油、適量水拌勻。')]), OrderedDict([('step_number', 3), ('step_content', '上蓋燜至水快乾，加枸杞續炒，盛盤灑香菜類少許即可。')])]}\n",
      "[INFO] http://www.dodocook.com/recipe/40005/\n",
      "[INFO] success\n",
      "{'title': '腐乳脆花腩', 'foodName': [{'松阪豬': '300g'}, {'市售麻油腐乳': '1塊'}, {'【李錦記舊庄特級蠔油】': '1大匙(約15ml)'}, {'味霖': '2大匙(約30ml)'}, {'薑片': '適量'}, {'木薯粉(地瓜粉)': '1.5大匙'}, {'白胡椒': '少許'}], 'step': []}\n",
      "[INFO] http://www.dodocook.com/recipe/40006/\n",
      "[INFO] success\n",
      "{'title': '稻荷壽司(豆皮壽司)', 'foodName': [{'炸三角豆腐包約20個': ''}, {'[壽司皮]': ''}, {'清水300g': ''}, {'二砂糖70g': ''}, {'醬油45g': ''}, {'[醋飯]': ''}, {'熱白飯400g': ''}, {'白醋40cc': ''}, {'細砂糖2大匙': ''}], 'step': [OrderedDict([('step_number', 1), ('step_content', '煮一鍋沸水(份量外)，將炸豆腐包放入煮約5分鐘撈起，將水分盡量壓出不要。(此步驟可將豆包表面炸油去除)')]), OrderedDict([('step_number', 2), ('step_content', '依序將壽司皮材料到入鍋中小火煮至糖溶化。')]), OrderedDict([('step_number', 3), ('step_content', '放入步驟1的豆腐包，中小火煮10分鐘至湯汁大致收乾，將湯汁壓出，放涼放冰箱冷藏備用，壽司皮OK。')]), OrderedDict([('step_number', 4), ('step_content', '[醋飯]白飯照一般程序煮好，趁熱加入白醋及細砂糖拌勻放涼。')]), OrderedDict([('step_number', 5), ('step_content', '[組合] 壽司皮自冰箱取出，側面用剪刀剪出一道開口 水沾開水，取適量醋飯捏緊成團狀，放入切開的壽司皮中，灑上黑芝麻即可。')]), OrderedDict([('step_number', 6), ('step_content', '其他壽司皮依序完成。')])]}\n",
      "[INFO] http://www.dodocook.com/recipe/40007/\n",
      "[INFO] success\n",
      "{'title': 'Smoothie ~ 菠蘿 + 青瓜', 'foodName': [{'菠蘿': '70g'}, {'青瓜': '1/3個'}, {'水': '100ml'}, {'檸檬汁': '1小匙'}, {'蜜糖': '1小匙'}], 'step': []}\n",
      "[INFO] http://www.dodocook.com/recipe/40008/\n",
      "[INFO] success\n",
      "{'title': '人妻的廚房--咖哩魯肉', 'foodName': [{'咖哩粉': '1大匙'}, {'洋蔥（小）': '1顆'}, {'油蔥酥、薑': '適量'}, {'糖': '1小匙'}, {'醬油': '1大匙'}, {'豬絞肉': '1斤'}, {'水': '適量'}], 'step': [OrderedDict([('step_number', 1), ('step_content', '起油鍋將切碎的洋蔥炒香，之後加入油蔥略炒出味道後加豬絞肉，將絞肉炒至全熟。')]), OrderedDict([('step_number', 2), ('step_content', '之後加入咖哩粉炒（或咖哩塊也可以）平均後，加入糖、醬油等，炒出味道後再加入水蓋過肉。')]), OrderedDict([('step_number', 3), ('step_content', '裝到小鍋中移至電鍋裏，鍋外加一杯水，煮到跳起來之後，再等十分鐘開鍋。')])]}\n",
      "[INFO] http://www.dodocook.com/recipe/40009/\n",
      "[INFO] success\n",
      "{'title': '酸菜炒大腸', 'foodName': [{'薑絲': '1把'}, {'蒜末': '2大匙'}, {'酸菜': '1把'}, {'大腸': '1條'}, {'辣椒片': '少許'}, {'蒜苗片': '少許(配色用可免)'}, {'雞粉': '2小匙'}, {'醋精': '1大匙'}, {'米酒': '2大匙'}], 'step': []}\n",
      "[INFO] http://www.dodocook.com/recipe/40010/\n",
      "[INFO] success\n",
      "{'title': '日韓大亂鬥~泡菜豬排丼(免開火喔)', 'foodName': [{'豬肉薄片': '一片'}, {'韓式味噌': '2大匙'}, {'水': '1大匙'}, {'麵包粉': '5大匙'}, {'沙拉油': '1.5大匙'}], 'step': [OrderedDict([('step_number', 1), ('step_content', '1.先將烤箱預熱\\n2.把麵包粉和沙拉油混合\\n3.烤盤上鋪上baking paper後將2放入烤箱\\n大約烤1~2分鐘，上色即可')]), OrderedDict([('step_number', 2), ('step_content', '豬肉片的部分我先切成小塊(不切也ok)，\\n再用韓式味噌+水 醃15分鐘。\\n\\n之後用第一步驟的麵包粉裹一裹，\\n然後進烤箱烤8~10分鐘即可。')]), OrderedDict([('step_number', 1), ('step_content', '1.將泡菜汁+水混和。\\n2.把白飯裝入碗內後將炸豬排鋪平在飯上。\\n3.將1的混合液均勻灑在豬排及飯上。\\n4.把生蛋直接打在豬排上後將蛋黃搓破。\\n5.大火微波90秒。\\n\\n放上小黃瓜絲，就~~~完成囉!!!!!!!!!')])]}\n",
      "[INFO] http://www.dodocook.com/recipe/40011/\n",
      "[INFO] success\n",
      "{'title': '花枝招展', 'foodName': [{'花枝': '三只'}, {'大虾': '两只'}, {'海带（紫菜）': '适量'}, {'小番茄': '三粒'}, {'韭菜花': '16根'}, {'细盐': ''}, {'黑胡椒粉': ''}, {'玉米粉': ''}], 'step': [OrderedDict([('step_number', 1), ('step_content', '1）大虾剪须去壳（留头割尾巴壳）；剖肚去肠；抓着虾尾从内肚穿进往虾背出来。\\n2）花枝（苏东）去衣洗净，取出头部，身体切刀但不切断。\\n全部腌少许细盐、黑胡椒粉和玉米粉拌均。')]), OrderedDict([('step_number', 2), ('step_content', '热油锅，炸虾。')]), OrderedDict([('step_number', 3), ('step_content', '继续炸花枝（苏东）头部')]), OrderedDict([('step_number', 4), ('step_content', '没有切断的花枝身体部位，建议要用多一点的热油来炸。大火炸至卷起就可，炸得太久肉质变老，影响口感。')]), OrderedDict([('step_number', 5), ('step_content', '即食海带/紫菜撕粹放在盘底。')]), OrderedDict([('step_number', 6), ('step_content', '将炸好的花枝和大虾放在海带/紫菜上。\\n韭菜花烫水后捞干，左右各分8根摆盘。\\n小番茄切十字不切断摆盘。')]), OrderedDict([('step_number', 7), ('step_content', '配上自制酱料更好吃~\\n辛香酱料：小辣椒、姜丝、洋葱丝、生抽、柠檬/酸甘汁混合。')])]}\n",
      "[INFO] http://www.dodocook.com/recipe/40012/\n",
      "[INFO] success\n",
      "[Error] Error while getting contents\n",
      "[INFO] http://www.dodocook.com/recipe/40013/\n"
     ]
    },
    {
     "name": "stderr",
     "output_type": "stream",
     "text": [
      "Traceback (most recent call last):\n",
      "  File \"<ipython-input-4-681adb971120>\", line 9, in res_and_soup\n",
      "    dodocook_contents(soup)\n",
      "  File \"<ipython-input-5-edc9d5298911>\", line 4, in dodocook_contents\n",
      "    title = soup.select(\".band > h1\")[0].text\n",
      "IndexError: list index out of range\n"
     ]
    },
    {
     "name": "stdout",
     "output_type": "stream",
     "text": [
      "[INFO] success\n",
      "{'title': '♡宛の涼夏好”食“光 ✿ 涼拌茄子', 'foodName': [{'茄子': '2~3根'}, {'蒜': '少許'}, {'薑': '少許'}, {'辣椒': '少許'}, {'香菜': '少許'}, {'蔥': '少許'}, {'蠔油': '2大匙'}, {'蕃茄醬': '3大匙'}, {'冷開水': '適量'}, {'香油': '1匙'}, {'烏醋': '2匙'}, {'糖': '2匙'}], 'step': [OrderedDict([('step_number', 1), ('step_content', '茄子洗淨後去蒂頭，切段。好入口的大小（建議不要太小，切長條比較好）燒一鍋水；等待水煮開的時間來準備淋醬。將辛香料食材洗淨，蒜、辣椒(去籽較不辣) 、香菜、薑、蔥切成末，將辛香料和五味醬攪拌均勻即成為「五味醬」。')]), OrderedDict([('step_number', 2), ('step_content', '水滾後放點鹽巴，將洗淨好的茄子，放進滾水煮約3~5鐘，煮軟所需的時間會因水量多寡、茄子的胖瘦而異。準備冰塊開水，將煮軟燙好的茄子浸入冰塊水冰鎮、降溫。')]), OrderedDict([('step_number', 3), ('step_content', '將放涼的茄子，排盤，淋上 淋上特調醬汁即可大快朵頤囉～方便又簡單的夏日輕食，獨特的香氣五味醬，很適合夏天食喔！當季的茄子燙一下就好軟了，柔軟無籽的茄子加上淋醬真的好好味啊！！ 夏天的茄子正是生產的季節季，這道做為開胃的前菜也很適合.... 炎熱的夏季，來一道可口又清爽的涼拌菜吧！')])]}\n",
      "[INFO] http://www.dodocook.com/recipe/40014/\n",
      "[INFO] success\n",
      "{'title': '♡宛の美好”食“光 ✿ 沙茶醬爆蝦仁', 'foodName': [{'蝦仁': '適量'}, {'蛋白': '1顆'}, {'太白粉': '適量'}, {'蔥末': '適量'}, {'米酒': '少許'}, {'鹽': '少許'}, {'沙茶醬': '1大匙'}, {'番茄醬': '1/2大匙'}, {'米酒': '少許'}, {'蒜末': '少許'}, {'薑末': '少許'}, {'水': '適量'}], 'step': [OrderedDict([('step_number', 1), ('step_content', '蝦仁洗淨去腸泥，以蛋白、醃料醃漬5分鐘，瀝除多餘蛋白，裹上太白粉，放入170℃油鍋中炸熟，撈起瀝乾油份，備用。')]), OrderedDict([('step_number', 2), ('step_content', '調味料放入碗中，攪拌均勻，即成醬料。')]), OrderedDict([('step_number', 3), ('step_content', '熱鍋，放入少許油加熱，放入炸過的蝦仁，快速翻炒後盛盤，撒上蔥末即可。')])]}\n",
      "[INFO] http://www.dodocook.com/recipe/40015/\n",
      "[INFO] success\n",
      "{'title': '梅子雞翅：羊咩咩上菜囉', 'foodName': [{'土雞三節翅': '6支'}, {'紫蘇梅': '12顆'}, {'九層塔': '適量'}, {'枸杞': '適量'}, {'蔥花': '適量'}, {'薑片': '適量'}, {'米酒': '適量'}, {'醬油': '適量'}, {'冰糖': '適量'}], 'step': [OrderedDict([('step_number', 1), ('step_content', '今日食材')]), OrderedDict([('step_number', 2), ('step_content', '將土雞三節翅退冰後洗淨備用。')]), OrderedDict([('step_number', 3), ('step_content', '熱鍋爆香蔥花、薑片，再加入雞翅炒至金黃色。')]), OrderedDict([('step_number', 4), ('step_content', '加入紫蘇梅及米酒、醬油、冰糖和適量水，以小火悶煮至收乾湯汁，再加入九層塔、枸杞，拌炒後即可上桌。')]), OrderedDict([('step_number', 5), ('step_content', '羊咩咩，廚齡：5年，戰鬥指數：四顆星！\\n\\n羊咩咩小廚雖然現在外宿而很少下廚，但她的手藝可是不容小覷的喔！羊咩咩說，自己從以前就很喜歡電鍋料理，最拿手的是「香菇雞湯」和「四神雞湯」，用電鍋做料理不但簡單又方便，尤其她最喜歡用有心肉舖子的土雞高湯，熬出來的湯頭可是又鮮又甜！')])]}\n",
      "[INFO] http://www.dodocook.com/recipe/40016/\n",
      "[INFO] success\n",
      "[Error] Error while getting contents\n",
      "[INFO] http://www.dodocook.com/recipe/40017/\n"
     ]
    },
    {
     "name": "stderr",
     "output_type": "stream",
     "text": [
      "Traceback (most recent call last):\n",
      "  File \"<ipython-input-4-681adb971120>\", line 9, in res_and_soup\n",
      "    dodocook_contents(soup)\n",
      "  File \"<ipython-input-5-edc9d5298911>\", line 4, in dodocook_contents\n",
      "    title = soup.select(\".band > h1\")[0].text\n",
      "IndexError: list index out of range\n"
     ]
    },
    {
     "name": "stdout",
     "output_type": "stream",
     "text": [
      "[INFO] success\n",
      "{'title': '免烤檸檬起司蛋糕 No-bake Lemon Cheesecake', 'foodName': [{'消化餅': '8片'}, {'無鹽奶油': '40克'}, {'檸檬': '1顆'}, {'奶油乳酪': '250克'}, {'鮮奶油或法式酸奶': '400克'}, {'白砂糖': '1/4杯(約55克)'}, {'吉利丁粉': '1.5小匙'}, {'牛奶': '1/3杯'}], 'step': [OrderedDict([('step_number', 1), ('step_content', '找一個6吋圓形或長型的蛋糕膜子，周邊跟底部都塗上一層薄薄的奶油\\n\\n** 我是先把奶油用刷子塗在保鮮膜上然後再鋪在模子 ** \\n\\n** 家裡因為沒有圓的，所以用長型取代 **')]), OrderedDict([('step_number', 2), ('step_content', '把消化餅們攪碎，有食物調理機就用，沒有的話就像我一樣，裝進保鮮袋，用擀面棍碾碎\\n\\n** 想要底部的餅乾厚一點就多加個2片也可以 **')]), OrderedDict([('step_number', 3), ('step_content', '融化40克的奶油 (放入微波爐約15~20秒)，然後和碾碎的消化餅拌勻並平均鋪在蛋糕膜底\\n\\n** 餅乾要用湯匙壓緊呦，處理好後請先冰進冷凍，要組合再取出來 **')]), OrderedDict([('step_number', 4), ('step_content', '用研磨板削檸檬皮放置一旁備用，然後切開擠檸檬汁\\n\\n取一個鋼碗或大碗，依序放入鮮奶油(或法式酸奶)，奶油乳酪，糖，檸檬皮和檸檬汁攪拌均勻\\n\\n** 怕太酸的話，檸檬汁可以先放三分之二test一下，再決定要不要放全部 **')]), OrderedDict([('step_number', 5), ('step_content', '吉利丁粉先用1:5的比例加進冷水中，等粉末吸收膨脹後再攪拌均勻\\n\\n將 1/3 杯的牛奶加溫(我懶惰，所以直接用微波15秒)並倒入融化的吉利丁粉水攪拌\\n\\n** 牛奶只要溫溫的就好 **\\n\\n請將加了吉利丁的牛奶倒入拌勻的起司糊中攪拌')]), OrderedDict([('step_number', 6), ('step_content', '拌勻後，請取出冰在冰箱的餅乾模子，並倒入起司糊\\n\\n最後輕輕敲一下蛋糕膜，讓裡面空氣跑出來，\\n\\n然後進冰箱4小時以上就可以吃囉\\n\\n** 我是下午做，冰到隔天 **')]), OrderedDict([('step_number', 7), ('step_content', '吃之前淋上黑莓或藍莓果醬也是不錯呦')])]}\n",
      "[INFO] http://www.dodocook.com/recipe/40018/\n",
      "[INFO] success\n",
      "{'title': '南瓜燉牛肉', 'foodName': [{'牛肉': '200公克'}, {'南瓜': '300公克'}, {'洋蔥': '半顆'}, {'蒜頭': '2顆'}, {'鹽': '適量'}, {'月桂葉': '適量'}, {'紅酒': '約50~100毫升'}, {'奶油': '少許'}, {'牛肉高湯或是清水': '適量'}, {'白胡椒粉與黑胡椒粉': '少許'}, {'義大利香料': '少許'}], 'step': [OrderedDict([('step_number', 1), ('step_content', '牛肋條或是牛腩切成方塊段(最好為2~2.5X2~2.5 CM最佳入口SIZE)，以滾水川燙後瀝乾水分備用。 南瓜去子削皮洗淨後，切成3X3 CM方塊。 洋蔥半顆與蒜頭2~3顆切成細末狀。(怕邊切邊流淚可以使用拉拉料理器)')]), OrderedDict([('step_number', 2), ('step_content', '鍋中加入奶油然後以小火讓其融化，油熱後放入切好的洋蔥與蒜頭，拌炒約1分鐘到香味四溢時，加入牛肋條或是牛腩拌炒至牛肉表面出現少許金黃色，開中火加入切好的南瓜塊拌炒均勻，然後加入牛肉高湯或是清水蓋上鍋蓋開大火。')]), OrderedDict([('step_number', 3), ('step_content', '等到開始滾了後開蓋上鍋蓋以小火慢燉(或是移到湯鍋，然後放到電鍋中，外鍋放1.5~2杯水)，放入1~2片肉桂葉(沒有肉桂葉就灑一點肉桂粉替代)與鹽(若是使用牛肉高湯，假如高湯本身已經有調味，就必需斟酌或是不用再加鹽調味)、少許白胡椒粉與黑胡椒粉，然後再加入少許的紅酒(約50~100 毫升)。')])]}\n",
      "[INFO] http://www.dodocook.com/recipe/40019/\n",
      "[INFO] success\n",
      "[Error] Error while getting contents\n"
     ]
    },
    {
     "name": "stderr",
     "output_type": "stream",
     "text": [
      "Traceback (most recent call last):\n",
      "  File \"<ipython-input-4-681adb971120>\", line 9, in res_and_soup\n",
      "    dodocook_contents(soup)\n",
      "  File \"<ipython-input-5-edc9d5298911>\", line 4, in dodocook_contents\n",
      "    title = soup.select(\".band > h1\")[0].text\n",
      "IndexError: list index out of range\n"
     ]
    }
   ],
   "source": [
    "dodocook_crawler(40000,40020)"
   ]
  }
 ],
 "metadata": {
  "anaconda-cloud": {},
  "kernelspec": {
   "display_name": "Python [default]",
   "language": "python",
   "name": "python3"
  },
  "language_info": {
   "codemirror_mode": {
    "name": "ipython",
    "version": 3
   },
   "file_extension": ".py",
   "mimetype": "text/x-python",
   "name": "python",
   "nbconvert_exporter": "python",
   "pygments_lexer": "ipython3",
   "version": "3.5.2"
  }
 },
 "nbformat": 4,
 "nbformat_minor": 1
}
