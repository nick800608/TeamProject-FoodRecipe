{
 "cells": [
  {
   "cell_type": "code",
   "execution_count": null,
   "metadata": {
    "collapsed": true
   },
   "outputs": [],
   "source": []
  },
  {
   "cell_type": "code",
   "execution_count": 9,
   "metadata": {
    "collapsed": true
   },
   "outputs": [],
   "source": [
    "import requests\n",
    "from selenium import webdriver\n",
    "from bs4 import BeautifulSoup\n",
    "import traceback as tb\n",
    "import json\n",
    "# from pymongo import MongoClient\n",
    "\n",
    "# In[83]:\n",
    "\n",
    "###上層\n",
    "\n",
    "\n",
    "url = 'https://ifoodie.tw/search'\n"
   ]
  },
  {
   "cell_type": "code",
   "execution_count": 10,
   "metadata": {
    "collapsed": true
   },
   "outputs": [],
   "source": [
    "\n",
    "\n",
    "driver = webdriver.PhantomJS(executable_path=r'C:\\Users\\user\\Desktop\\phantomjs-2.1.1-windows\\bin\\phantomjs.exe')  # PhantomJS\n",
    "driver.get(url)  # 把網址交給瀏覽器 \n",
    "pageSource = driver.page_source  # 取得網頁原始碼\n",
    "soup = BeautifulSoup(pageSource, 'lxml')  # 解析器接手"
   ]
  },
  {
   "cell_type": "code",
   "execution_count": 11,
   "metadata": {
    "collapsed": false
   },
   "outputs": [],
   "source": [
    "\n",
    "\n",
    "\n",
    "\n",
    "def page_crawler(no_page):\n",
    "    try:\n",
    "        url1 = 'https://ifoodie.tw'\n",
    "        for i in range(1,no_page+1,1):#一頁有20家爬蟲 這個例子應該有200家\n",
    "            for tag in soup.select('div.blog-item-s.ng-scope > div.media > div.media-body > div.title.media-heading > a'):\n",
    "                url_next = url1 + tag['href']\n",
    "                print(url_next)\n",
    "                next_crawler(url_next)#呼叫下一層的爬蟲\n",
    "    except IndexError:\n",
    "        print(\"finding error\")\n",
    "#===================================================================================================================="
   ]
  },
  {
   "cell_type": "code",
   "execution_count": 12,
   "metadata": {
    "collapsed": false
   },
   "outputs": [],
   "source": [
    "def next_crawler(url_next):\n",
    "    ### 中層   \n",
    "\n",
    "    try:\n",
    "    # Example:茶寮侘助,餐廳外部資訊,有些東西是我們所要的\n",
    "#     url = 'https://ifoodie.tw/blog/58bcd12b699b6e645195f4f3-漂丿燒肉食堂'這行網址是練習用的,check時可忽略\n",
    "        res = requests.get(url_next)\n",
    "        soup = BeautifulSoup(res.text, 'lxml')\n",
    "\n",
    "        mydict={}\n",
    "        #熱門指數\n",
    "        hot_soup = soup.select(\"#ratingStar > span\")\n",
    "        for hot in hot_soup:\n",
    "            熱門指數 = hot.text.strip()\n",
    "        mydict['熱門指數'] = 熱門指數\n",
    "\n",
    "        #餐廳評分\n",
    "        r_rate = soup.select(\"span.rating.rating4\")\n",
    "        mydict['rating'] = r_rate[0].text\n",
    "\n",
    "        #作者\n",
    "        author_name = soup.select(\"a.name\")\n",
    "        author_name = author_name[0].text\n",
    "        mydict['author_name'] = author_name\n",
    "\n",
    "        #作者 url\n",
    "        author_url = soup.find(\"a\", {\"class\":\"name\"})\n",
    "        author_url = author_url.get(\"href\")\n",
    "        mydict['author_url'] = author_url\n",
    "        \n",
    "        #照片\n",
    "        img_url = soup.select(\".pull-left > .media-object.cover\")\n",
    "        img_url = img_url[0].get(\"style\").split(\"(\")[1].split(\")\")[0]\n",
    "        mydict['img_url'] = img_url\n",
    "#         print(img_url)\n",
    "        \n",
    "        # 標籤 再做細部處理==>去掉旁邊的html標籤\n",
    "        tag_list=[]\n",
    "        tags = soup.find_all(\"a\", {\"rel\":\"tag\"})\n",
    "        for tag in tags:\n",
    "            tag = tag.text\n",
    "            tag_list.append(tag)\n",
    "            mydict['tag']=tag_list\n",
    "\n",
    "        #觀看人數\n",
    "        see_soup = soup.select(\"div.stat\")\n",
    "        see_soup = see_soup[0].text\n",
    "        mydict['see']=see_soup\n",
    "\n",
    "        #餐廳電話號碼\n",
    "        phone_number = soup.select(\"div.phone.right\")[0].text.split(\":\")[1]\n",
    "        phone_number\n",
    "        mydict['phone_number'] = phone_number\n",
    "        #超連結\n",
    "        url = soup.select(\"div.restaurant.item.right > h4 > a\")\n",
    "        url= url[0].get('href')\n",
    "        \n",
    "\n",
    "        url_final = 'https://ifoodie.tw{}'.format(url)\n",
    "        mydict['web_url'] = url_final\n",
    "\n",
    "        final_crawler(url_final,mydict)        \n",
    "    except IndexError:\n",
    "        pass"
   ]
  },
  {
   "cell_type": "code",
   "execution_count": 13,
   "metadata": {
    "collapsed": false
   },
   "outputs": [],
   "source": [
    "def final_crawler(url_final,mydict):\n",
    "    # Example:茶寮侘助,餐廳外部資訊,有些東西是我們所要的\n",
    "    try:\n",
    "        res = requests.get(url_final)\n",
    "        soup = BeautifulSoup(res.text, 'lxml')\n",
    "\n",
    "\n",
    "        #營業地址\n",
    "        #mydict={}\n",
    "        reup = soup.select(\"span.info_detail\")\n",
    "        #print(reup)\n",
    "        mydict['address']=reup[0].text\n",
    "            #營業時間\n",
    "        mydict['opentime']=reup[1].text\n",
    "            #均消\n",
    "        mydict['avg_consume']=reup[2].text\n",
    "\n",
    "            #餐廳名字\n",
    "        restaurant_name = soup.select(\"h1.title\")[0]\n",
    "        restaurant_name=restaurant_name.text\n",
    "        mydict['restaurant_name']=restaurant_name\n",
    "            #餐廳分類\n",
    "        reup1 = soup.select(\"a.info_detail\")\n",
    "        #print(reup1)\n",
    "        for tag1 in reup1:\n",
    "            tag1=tag1.text\n",
    "            mydict['category']=tag1\n",
    "\n",
    "        #訪客言談 細部處理 去掉旁邊的html標籤\n",
    "        message_total=[]\n",
    "        #人\n",
    "        message_mans=soup.select('div.right_wrap > div.user_name > a')\n",
    "        for message_man in message_mans:\n",
    "            mydict['message_man']=message_man.text\n",
    "           \n",
    "        #時間\n",
    "#         message_times=soup.select('div.info > meta')\n",
    "#         for message_time in message_times:\n",
    "#             mydict['message_time']=message_time.text\n",
    "            #print(message_time)\n",
    "        #留言\n",
    "        message_list=[]\n",
    "        messages = soup.select(\"div.message > div\")\n",
    "        for message in messages:\n",
    "            message = message.text\n",
    "            message_list.append(message)\n",
    "            mydict['message'] = message_list\n",
    "\n",
    "            \n",
    "#         tag_list=[]\n",
    "#         tags = soup.find_all(\"a\", {\"rel\":\"tag\"})\n",
    "#         for tag in tags:\n",
    "#             tag = tag.text\n",
    "#             tag_list.append(tag)\n",
    "#             mydict['tag']=tag_list\n",
    "        print(mydict)\n",
    "#         goto_mongo(mydict) \n",
    "            \n",
    "        \n",
    "        \n",
    "        \n",
    "    except IndexError:\n",
    "        print('sorry not catch the information')\n",
    " \n",
    "\n",
    "\n",
    "    "
   ]
  },
  {
   "cell_type": "code",
   "execution_count": 14,
   "metadata": {
    "collapsed": false,
    "scrolled": true
   },
   "outputs": [
    {
     "name": "stdout",
     "output_type": "stream",
     "text": [
      "https://ifoodie.tw/blog/58c15782cc21c4893d0a3905-市民大道燒烤店，原木 燒烤.海鮮，台北吃宵夜小酌聊天的燒烤屋推薦\n",
      "{'avg_consume': '今日營業: 17:30-02:00', 'author_name': '陳小可', 'tag': ['原木 燒烤.海鮮'], '熱門指數': '5', 'category': '燒烤類', 'opentime': '0227213331', 'phone_number': ' 02-2721-3331', 'address': '臺北市松山區市民大道四段75號', 'web_url': 'https://ifoodie.tw/restaurant/58c198fa2756dd732689b6f8', 'message_man': '陳小可', 'see': ' 觀看: 71', 'rating': '4.0', 'author_url': 'https://ifoodie.tw/user/54637e1cd4fdab447a817870', 'img_url': 'https://farm4.staticflickr.com/3831/32326043104_f7d70d82dd_c.jpg', 'restaurant_name': '原木燒烤海鮮', 'message': ['市民大道燒烤店，原木 燒烤.海鮮，台北吃宵夜小酌聊天的燒烤屋推薦']}\n",
      "https://ifoodie.tw/blog/58c158ca850996503e8be87a-新莊CP值超高平價好吃牛排店-飄也香牛排館！海陸雙拼只要190元，三拼只要240元，超便宜超划算吃超飽！還有附玉米濃湯、飲料、冰淇淋吃到飽！近新莊高中、新莊體育館！(新莊美食推薦)(文末抽獎)\n",
      "{'avg_consume': '尚無營業時間資訊', 'author_name': '猴屁的異想世界', 'tag': ['飄也香牛排館', '新莊美食推薦', '新莊餐廳推薦', '新莊牛排推薦', '新莊好吃牛排', '飄也香牛排館電話', '飄也香牛排館地址', '飄也香牛排館營業時間', '新莊體育館', '新莊體育館美食', '新莊高中美食', '新莊吃到飽', '新莊便宜牛排', '新莊好吃雞排', '新莊美食'], '熱門指數': '5', 'opentime': '0229900576', 'phone_number': ' 02-29900576', 'address': '新北市新莊區中誠街76號', 'web_url': 'https://ifoodie.tw/restaurant/58c199ba2756dd732689b746', 'message_man': '猴屁的異想世界', 'see': ' 觀看: 178', 'rating': '4.0', 'author_url': 'https://ifoodie.tw/user/546b7f52d4fdab1c35b7a062', 'img_url': 'https://pic.pimg.tw/tony60533/1488907280-1662018501.jpg?v=1488907338', 'restaurant_name': '飄也香牛排館', 'message': ['新莊CP值超高平價好吃牛排店-飄也香牛排館！海陸雙拼只要190元，三拼只要240元，超便宜超划算吃超飽！還有附玉米濃湯、飲料、冰淇淋吃到飽！近新莊高中、新莊體育館！(新莊美食推薦)(文末抽獎)']}\n",
      "https://ifoodie.tw/blog/58c0b1b223679c435d1c0092-果亞烘焙Goa Bakery 新莊早午餐輕食推薦 /大食量的朋友可點鑄鐵鍋早午餐系列還有一整條土司唷!新莊美食/手作麵包/中平國中/\n",
      "{'avg_consume': '今日營業: 09:00-20:00', 'author_name': '茜的美食記', 'tag': ['新莊早午餐', '果亞烘培 Goa Bakery', '韓式歐霸豬帕里尼', '果亞烘培', '鐵板野菇雞腿嫩蛋', '新莊美食', '手作麵包'], '熱門指數': '5', 'category': '咖啡類', 'opentime': '0229988575', 'phone_number': ' 0229988575', 'address': '新北市新莊區中平路292巷1弄3號', 'web_url': 'https://ifoodie.tw/restaurant/58ac80ea2756dd1e62effcda', 'message_man': '妮妮女王', 'see': ' 觀看: 161', 'rating': '4.0', 'author_url': 'https://ifoodie.tw/user/56079d212756dd184f282124', 'img_url': 'https://pic.pimg.tw/huang626162/1488884603-2597683511_l.jpg', 'restaurant_name': '果亞烘培(手作麵包＆咖啡)', 'message': ['果亞烘焙Goa Bakery 新莊/早午餐輕食推薦 /大食量的朋友可點鑄鐵鍋早午餐系列還有一整條土司唷!新莊美食/手作麵包/中平國中/', '果亞烘焙手作麵包＆咖啡-新莊早午餐推薦']}\n",
      "https://ifoodie.tw/blog/58c158cb850996503e8be87d-黃記魯肉飯－晴光市場美食 中山必吃美味魯肉飯！\n",
      "{'avg_consume': '今日營業: 11:00-21:30', 'author_name': '嵐嵐的愛吃天地', 'tag': ['中山魯肉飯', '中山美食', '雙連美食', '中山小吃', '中山必吃', '晴光市場美食', '晴光市場必吃'], '熱門指數': '5', 'category': '小吃類', 'opentime': '0225958396', 'phone_number': ' 0225958396', 'address': '臺北市中山區中山北路二段183巷28號', 'web_url': 'https://ifoodie.tw/restaurant/559d6f93c03a103ee86c7640', 'message_man': '老K', 'see': ' 觀看: 160', 'rating': '4.0', 'author_url': 'https://ifoodie.tw/user/550ed3242756dd59771bfae9', 'img_url': 'https://farm4.staticflickr.com/3771/32492208323_25920d91b2_o.jpg', 'restaurant_name': '黃記魯肉飯', 'message': ['黃記魯肉飯－晴光市場美食 中山必吃美味魯肉飯！', '黃記魯肉飯，晴光市場、雙城街夜市！三十年老店。', '黃記魯肉飯-台北魯肉飯推薦/晴光商圈美食推薦', '這家好吃哦', '晴光市場．黃記魯肉飯，入口即化的重口味', '黃記滷肉飯-香噴噴的魯肉飯95分-晴光市場、雙城街夜市', '這家店的主力在蹄膀飯！好吃啦！！', '晴光市場 黃記魯肉飯', '蹄膀、焢肉、魯肉飯。黃記魯肉飯 / 晴光市場、雙城街商圈', '好吃的控肉配上魯肉飯 好邪惡的一餐-黃記魯肉飯@捷運中山國小站@晴光市場']}\n",
      "https://ifoodie.tw/blog/58c158ac850996503e8be877-樂福REVEL Eatery & Juice Bar，城市裡的清新小綠地\n",
      "{'author_name': '希薇亞の食在玩味', 'phone_number': ' 02-2731-0505', 'category': '居酒屋類', 'opentime': '0227310505', '熱門指數': '5', 'address': '台北市大安區大安路一段84巷4號2樓', 'web_url': 'https://ifoodie.tw/restaurant/56a8601a2756dd13f2c500c7', 'message_man': '彼得覓食趣', 'see': ' 觀看: 168', 'avg_consume': '今日營業: 12:00-22:00', 'author_url': 'https://ifoodie.tw/user/539521c740d18d4f95017815', 'img_url': 'http://blog.xuite.net/sylvia128/blog/484791802/cover600.jpg', 'rating': '4.0', 'restaurant_name': 'REVEL 樂福', 'message': ['樂福REVEL Eatery & Juice Bar，城市裡的清新小綠地', '雞蛋仔好吃，但正餐鹹食普通', '評分：5', '雞蛋仔好吃！', '評分：3', '小小失望, 原本期待是香港雞蛋仔的QQ口感, 不過吃起來比較像雞蛋糕; 但服務親切週到有加分!', 'REVEL 樂福 新美式餐廳 ♥ 新創意超人氣雞蛋仔甜點 ♥ 東區美食', '台北．東區-REVEL樂福Eatery & Juice bar，在城市裡的綠洲來杯花枝招展冷壓氣泡飲，創新特色雞蛋仔冰淇淋絕對讓你驚呼連連@女子的休假計劃', '✿Revel 樂福 Eatery and Juice Bar✿ 甜的鹹的都能滿足視覺享受的美味饗宴 !', '東區 REVEL 樂福Eatery & Juice Bar 雞蛋仔三明治‧餐點好吃健康的新美式料理♥♥♥', 'REVEL 樂福 Eatery & Juice Bar。城新裡的小清新，必吃超邪惡雙起士三明治，還有雞蛋仔夾心水果冰淇淋！(忠孝復興站) / 約會 下午茶 健康無負擔 綠意盎然 冷壓果汁 華麗甜點', '台北的樂福Revel Eatery& Juice Bar：頗具巧思的新美式料理']}\n",
      "https://ifoodie.tw/blog/58c11a44699b6e5f9075c660-黑鳶 | 花疫室二店，被迷人乾燥花包圍的浪漫咖啡廳。科技大樓站\n",
      "{'avg_consume': '今日營業: 11:00-21:00', 'author_name': 'Claire 食旅生活', 'tag': ['黑鳶', '黑鳶咖啡', '花疫室', '乾燥花', '台北 咖啡廳', '科技大樓站 美食', '科技大樓站 咖啡廳', '乾燥花 餐廳', '黑鳶 菜單'], '熱門指數': '5', 'category': '約會餐廳類', 'opentime': '0227036393', 'phone_number': ' 0227036393', 'address': '106台灣台北市大安區和平東路二段107巷23弄10號', 'web_url': 'https://ifoodie.tw/restaurant/5810f1742756dd6782d9ecfa', 'message_man': 'fly to eat', 'see': ' 觀看: 201', 'rating': '4.0', 'author_url': 'https://ifoodie.tw/user/5501a3e72756dd73695b59ae', 'img_url': 'https://pic.pimg.tw/clairelife2017/1488853290-3800243838_l.jpg?v=1488853294', 'restaurant_name': '黑鳶', 'message': ['黑鳶 | 花疫室二店，被迷人乾燥花包圍的浪漫咖啡廳。科技大樓站', '台北大安咖啡●黑鳶●花疫室品牌，客製乾燥花美學', '大安 黑鳶 低調‧充滿乾燥花的美好咖啡廳‧讓人深深著迷的花疫室二店(捷運科技大樓站)', '乾燥花香瀰漫的花世界~黑鳶', '黑鳶，花疫室全新品牌餐飲空間 / 台北大安區 捷運科技大樓站 / 花疫室二店 充滿乾燥花的浪漫小天地，一起聞著花香邊品嘗午茶吧！不限時咖啡廳', '✿ 黑鳶✿ 花疫室二店 ! 低調新開幕~ 再不來又要一位難求啦!']}\n",
      "https://ifoodie.tw/blog/58c147a8699b6e5f9075e366-板橋甜點》Meetcha Crepes遇見日式手作可麗餅,乾燥花與抹茶可麗餅的新埔站下午茶\n",
      "{'avg_consume': '今日營業: 13:00-21:00', 'author_name': '毛毛LadyMoko', 'tag': ['抹茶控', '抹茶', '乾燥花', '板橋甜點', '板橋下午茶', '板橋抹茶', '日式可麗餅', '可麗餅', '新埔站', 'Meetcha Crepes', '遇見日式手作可麗餅', '板橋可麗餅'], '熱門指數': '5', 'category': '咖啡類', 'opentime': '0282570008', 'phone_number': ' 0282570008', 'address': '新北市板橋區民生路二段210號', 'web_url': 'https://ifoodie.tw/restaurant/58542df52756dd757bb8effd', 'message_man': '跟著羽諾吃喝玩樂去～', 'see': ' 觀看: 210', 'rating': '4.0', 'author_url': 'https://ifoodie.tw/user/564e77012756dd2c216e1d59', 'img_url': 'https://img.ladymoko.com/uploads/20170228212952_61.jpg', 'restaurant_name': 'Meetcha Crepes 遇見日式手作可麗餅', 'message': ['板橋甜點》Meetcha Crepes遇見日式手作可麗餅,乾燥花與抹茶可麗餅的新埔站下午茶', '評分：5', '😍', 'Meetcha Crepes 遇見日式手做可麗餅，吃出幸福的味道！', 'Meetcha Crepes 遇見日式手作可麗餅|板橋下午茶、板橋甜點店推薦|日式可麗餅x乾燥花x不限時餐廳|近板橋花市|附菜單MENU', '板橋下午茶浪漫推薦 遇見日式手作可麗餅 可愛用餐環境 適合拍照/新埔站 ', '板橋 超夢幻美味手作甜點#Meetcha Crepes 遇見日式手作可麗餅#限量新鮮X日式手藝#拍照打卡', '【台北大安區】板橋下午茶『Meetcha Crepes 遇見日式手作可麗餅』捷運新埔站/可麗餅/汽泡飲/手作飾品~', 'Meetcha Crepes 遇見日式手作可麗餅-餅皮的香氣和入口後的濕潤與新鮮水果是天然鮮美的甜點@新北市板橋區/下午茶/甜點/咖啡/新埔站', 'Meetcha Crepes 遇見日式手作可麗餅 ♥ 不甜不膩幸福手作日式可麗餅 鄉村風溫馨小店好好拍 @ 捷運新埔站下午茶.甜點.可麗餅 @ ❤靜怡&大顆呆の親子.旅遊.美食❤', 'Meetcha Crepes 遇見日式手作可麗餅板橋捷運新埔站下午茶/甜點/可麗餅推薦']}\n",
      "https://ifoodie.tw/blog/58c15930db3cfba83e1b8f58-六張犁 隱藏版人氣甜點#WUnique Pâtisserie 法式甜點#限量法式千層派#聖多諾黑泡芙塔#翻轉蘋果塔#法國百年好茶#KUSMI TEA\n",
      "{'avg_consume': '今日營業: 12:00-19:00', 'author_name': 'Angelababy享樂日記', 'tag': ['WUnique Pâtisserie 法式甜點', '六張犁甜點', '隱藏版甜點', '台北必吃', '千層蛋糕', '泡芙千層', '經典巧克力', '手工甜點', '法式點心', '翻轉蘋果塔', '限量甜點', '打卡美食', '下午茶推薦', 'KUSMI TEA', '英國百年茶品', 'TWG', 'Alain Abel', '香緹鮮奶油', '無二'], '熱門指數': '5', 'category': '約會餐廳類', 'opentime': '0227371707', 'phone_number': ' 暫無資料', 'address': '臺北市大安區安和路二段184巷10號', 'web_url': 'https://ifoodie.tw/restaurant/559d8b40c03a103ee86c86c1', 'message_man': '王獅子', 'see': ' 觀看: 257', 'rating': '4.0', 'author_url': 'https://ifoodie.tw/user/5364740040d18d2397752d8a', 'img_url': 'https://farm4.staticflickr.com/3902/33315590715_57c84bf538_b.jpg', 'restaurant_name': 'WUnique 無二法式甜點', 'message': ['六張犁 隱藏版人氣甜點#WUnique Pâtisserie 法式甜點#限量法式千層派#聖多諾黑泡芙塔#翻轉蘋果塔#法國百年好茶#KUSMI TEA', '評分：5', '推薦泡芙塔～層層推疊的法式甜點\\n內用位置不多，外帶的盒子超可愛\\n很適合帶去女友探班\\n超級加分！', '無二法式甜點 WUnique Pâtisserie。IG甜點鬼必吃的打卡人氣甜品 /台北法式甜點/六張犁站甜點/PopDaily波波黛莉推薦', 'Wunique 無二--好但不驚喜的法式甜點名店', 'WUnique Pâtisserie 無二法式甜點-『六張犁站』東區下午茶．甜點', 'WUnique Pâtisserie無二法式烘焙～讓人瘋狂感到幸福的千層派與每日限定款甜點', '千層（海鹽焦糖）、聖多諾、檸檬塔、蒙諾黑', '這一家的甜點都算是新鮮好吃，不過價格偏高以法式甜點的口味來說，他並不會很甜，所以喜歡很甜的甜點的客人要考慮一下。\\n\\n店內只收現金，所以錢要帶足喔。', 'WUnique Patisserie 無二甜點烘焙工作室：巷弄美味甜點，驚豔的法式滋味', '台北 大安–無二烘焙工作室–WUnique Pâtisserie']}\n",
      "https://ifoodie.tw/blog/58c15979db3cfba83e1b8f6a-柒串燒屋(輔大店)-『輔大站』新莊美食平價串燒．小酌好去處．外帶內用皆可\n",
      "{'avg_consume': '今日營業: 17:00-02:00', 'author_name': '奇奇一起玩樂趣', 'tag': ['新莊美食平價串燒', '新莊美食', '平價串燒', '輔大美食', '小酌好去處'], '熱門指數': '5', 'category': '鍋類', 'opentime': '0229021770', 'phone_number': ' 02-29021770', 'address': '新北市新莊區中正路516之32號', 'web_url': 'https://ifoodie.tw/restaurant/57bb3edc2756dd4e577184f3', 'message_man': '嵐嵐的愛吃天地', 'see': ' 觀看: 75', 'rating': '4.0', 'author_url': 'https://ifoodie.tw/user/55b73953699b6e7548633b6d', 'img_url': 'https://pic.pimg.tw/lotuslin/1487689319-1715219229.jpg?v=1487689338', 'restaurant_name': '柒串燒屋輔大店', 'message': ['柒串燒屋(輔大店)-『輔大站』新莊美食平價串燒．小酌好去處．外帶內用皆可', '柒串燒屋-輔大店。新莊輔大附近串燒店，平價、適合外帶、聚餐約會、宵夜、小酌都推薦', '新莊輔大人氣美食 柒串燒屋 – 超平價高CP值串燒店 內用小酌外帶都推薦的宵夜美食', '柒串燒屋-輔大店 新莊COSTCO、輔大周邊美食，外酥內嫩不油膩！焦糖風味超喜歡！銅板美食！@捷運輔大站', '柒串燒屋輔大店平價串燒只要15元起！新莊美食小酌好去處還可外帶唷', '【新莊】平價串燒柒串燒屋開分店囉/小酌聚餐/外帶/近捷運輔大站．柒串燒屋 (輔大店)', '柒串燒屋(輔大店) ＠平價串燒的深夜食堂，小酌好去處！外帶內用都方便，輔大美食推薦～', '柒串燒屋輔大店-高CP值銅板美食! 串燒15元起，輔大學生聚餐、慶功宴好所在！外帶也很方便呦！(附完整menu) 輔大聚餐/輔大宵夜/新莊銅板美食', '柒串燒屋(輔大店)｜平價好吃串燒屋、小酌聚會好所在、可內用可外帶！｜新莊輔大美食', '柒串燒屋－新莊美食推薦！輔大美食 輔大串燒人氣店，平價串燒之小酌好去處！外帶內用皆可 (輔大居酒屋、朋友開的店、邀約) ']}\n",
      "https://ifoodie.tw/blog/58c16b0123679c7c78b2a2cd-光扉5號 台北東區，閃爍雲朵裡，感受手作甜點旅程。忠孝復興站大安\n",
      "{'avg_consume': '今日營業: 12:00-22:00', 'author_name': '男子的日常生活', 'tag': ['光扉5號', '東區甜點', '東區咖啡廳', '台北甜點', '光扉5號 雲朵', '雲朵咖啡廳', '雲朵甜點', '台北雲朵咖啡', '台北捷運美食', '忠孝復興美食', '大安區甜點', '大安咖啡', '台北 光扉', '忠孝復興 咖啡', '卡契芬咖啡', '陳昱權 咖啡', '東區冠軍咖啡豆', '二三設計', '大安路咖啡', '大安區咖啡'], '熱門指數': '5', 'opentime': '0227764806', 'phone_number': ' 0227764806', 'address': '臺北市大安區大安路一段31巷5號', 'web_url': 'https://ifoodie.tw/restaurant/58af23eb2756dd3c725cee5f', 'message_man': '小腹婆大世界', 'see': ' 觀看: 369', 'rating': '4.0', 'author_url': 'https://ifoodie.tw/user/55ddfc9f699b6e23c6616a29', 'img_url': 'https://pic.pimg.tw/uncle321983/1488878984-2772613962_l.jpg', 'restaurant_name': '光扉5號', 'message': ['光扉5號 台北東區，閃爍雲朵裡，感受手作甜點旅程。忠孝復興站/大安', '[忠孝復興站]東區夢幻系甜點店：光扉5號~雲朵下品嘗草莓塔，純白色世界，雲朵會變色發光呢！激推多汁浪漫草莓塔，豆漿好飽足～忠孝復興站，網美文青新聚點。']}\n",
      "https://ifoodie.tw/blog/58c158ca850996503e8be87c-金花碳烤吐司專賣。半夜千萬不要點進來，太邪惡了會讓你瘋狂！強大起司土石流來襲，失控都不足以形容它了啦！\n",
      "{'author_name': '蹦啾♥謝蘿莉', 'phone_number': ' 0905-663001', 'category': '小吃類', 'opentime': '0905663001', '熱門指數': '5', 'address': '萬華區內江街17號', 'web_url': 'https://ifoodie.tw/restaurant/584af2ca2756dd6151b513f8', 'message_man': 'Angelababy享樂日記', 'see': ' 觀看: 449', 'avg_consume': '今日營業: 08:30-17:00', 'author_url': 'https://ifoodie.tw/user/54b255e0d4fdab1c7d573501', 'img_url': 'https://c2.staticflickr.com/4/3669/33181748662_8bf5766c2f_b.jpg', 'rating': '4.0', 'restaurant_name': '金花碳烤吐司專賣Golden Flower', 'message': ['金花碳烤吐司專賣。半夜千萬不要點進來，太邪惡了會讓你瘋狂！強大起司土石流來襲，失控都不足以形容它了啦！', '評分：5', '金花大丈夫$80\\n內含紅豆泥\\n相較阿爸炭烤豬多點清爽\\n嫩蛋很香\\n相當飽足\\n阿爸炭燒豬$65\\n濃濃花生醬\\n以及炭烤豬的香氣\\n兩者讓每口濃郁\\n吐司紮實卻有彈性\\n福氣鮮奶茶$40\\n奶香味十足\\n不至於太甜\\n\\n回購率百分百\\n下次想試看看其他口味\\n建議先打電話訂購\\n今天去大排長龍', '金花碳烤吐司專賣｜台北萬華｜西門站', '金花碳烤土司專賣，手工牛奶吐司 / 每日現宰溫體黑毛豬 / 台灣牧場牛奶直送 等嚴選食材，但我覺得蛋餅還比吐司更好吃 ( 萬華早餐 / 外帶)', '評分：4', '辛口赤燒豬\\n阿母吻仔魚\\n愛過火（火腿起司蛋餅）\\n\\n吐司很好吃～\\n蛋餅一般\\n價位稍高', '金花碳烤吐司專賣－西門碳烤吐司～早午餐最佳的好選擇，純手工牛奶吐司，帶點淡淡的碳香味，必點金花大丈夫／野莓咕咕叫／宇治金時／相思病牛乳／福氣鮮奶茶', '金花碳烤吐司專賣~手工牛奶吐司/福源花生醬/溫體黑毛豬/台灣牧場牛奶新鮮直送/西門紅樓後方', '金花碳烤吐司專賣\\xa0【西門碳烤吐司】♥ 超大份量碳烤吐司 無法一口咬下的創意吐司 金花大丈夫x野莓咕咕叫 @ 捷運西門站 紅樓廣場後面 @ ❤靜怡&大顆呆の親子.旅遊.美食❤', '西門 金花碳烤吐司專賣 有創意又好吃的碳烤三明治‧蛋餅‧早餐‧近西門紅樓廣場♥♥♥', '西門必吃 無敵優秀的創意碳烤土司@金花碳烤吐司專賣 *嚴選溫體黑毛豬/福源花生醬/手工鮮奶吐司/主恩鮮乳* 必吃:金花大丈夫/福氣鮮奶茶/黑豬肉蛋餅']}\n",
      "https://ifoodie.tw/blog/58c0dc6b23679c7c78b24e77-【台北市大安區。燒肉丼飯】漂丿(ㄆㄧㄝˇ)燒肉食堂 台北東區216巷丼飯美食推薦 CP值超高 吃飽吃巧兩者兼得 忠孝敦化站\n",
      "{'avg_consume': '今日營業: 11:30-14:30, 17:30-21:00', 'author_name': '米兒＆三分像料理', 'tag': ['漂丿燒肉食堂', '炭燒安格斯無骨牛小排丼', '台北大安區美食', '捷運忠孝敦化', '丼飯', '東區216巷美食', '東區丼飯', '燒肉丼飯', '燒肉飯', '外帶美食', '台北燒肉丼飯推薦', '丼飯推薦', '台北丼飯', '丼飯外帶', '台北東區美食推薦'], '熱門指數': '5', 'category': '日本料理', 'opentime': '0227710006', 'phone_number': ' 0227710006', 'address': '臺北市大安區臺北市忠孝東路4段216巷40弄18號', 'web_url': 'https://ifoodie.tw/restaurant/58bda5762756dd732889b47d', 'message_man': '茜的美食記', 'see': ' 觀看: 321', 'rating': '4.0', 'author_url': 'https://ifoodie.tw/user/56b462882756dd7175a4d6d9', 'img_url': 'https://lh3.googleusercontent.com/vJwEoJGRzZJ32iFaRetwo24SIiXNV-FqAElY3CTeaAlqnVo2lfHI846LniFwXg5pfHyeDlUs-U7ivGkb1zuHpiE9QwXSspg=s600', 'restaurant_name': '漂丿燒肉食堂', 'message': ['【台北市大安區。燒肉丼飯】漂丿(ㄆㄧㄝˇ)燒肉食堂 台北東區216巷丼飯美食推薦 CP值超高 吃飽吃巧兩者兼得 忠孝敦化站', '漂丿燒肉食堂 東區216巷燒肉丼 /炭燒安格斯無骨牛小排丼/風林火山極上海鮮大盛丼/居酒屋/捷運忠孝敦化/完整菜單']}\n",
      "https://ifoodie.tw/blog/58c11f09699b6e614f917aa4-【台北民權西路站 | 咖啡廳】澳式彩色屋頂下的可愛雜貨風咖啡廳☼好杯咖啡\n",
      "{'avg_consume': '今日營業: 10:00-22:00', 'author_name': 'Maggie的吃喝玩樂地圖*', 'tag': ['台北 咖啡廳', '民權西路站 咖啡廳', '台北 大同區 咖啡廳', '好杯咖啡', '咖啡廳', '台北 咖啡廳 推薦', '雜貨風', '雜貨風 咖啡廳', '台北 免服務費 咖啡廳', '免服務費', '台北 不限時 咖啡廳', '不限時 咖啡廳'], '熱門指數': '4.5', 'category': '日本料理', 'opentime': '0225955108', 'phone_number': ' 暫無資料', 'address': '臺北市大同區昌吉街22號', 'web_url': 'https://ifoodie.tw/restaurant/559d4e60c03a103ee86c60df', 'message_man': '馨予', 'see': ' 觀看: 186', 'rating': '4.0', 'author_url': 'https://ifoodie.tw/user/57f5efdf2756dd0265af02d7', 'img_url': 'https://pic.pimg.tw/ly4428/1488257238-1961973276_l.jpg', 'restaurant_name': '好杯咖啡', 'message': ['【台北民權西路站 | 咖啡廳】澳式彩色屋頂下的可愛雜貨風咖啡廳☼好杯咖啡', '評分：5', '除了下午茶，中式的午餐也很好吃唷！主餐蒜香排骨配上熱騰騰的白米飯🍚三菜一湯中的家常菜色吃起來十分飽足😋', '評分：5', '看似東西少少的但其實吃得好飽～\\n嗝～👻👍🏻', '民權西路站 昌吉街 好杯咖啡二訪吃簡餐', '氣氛不錯', '捲餅好吃!', '中山 好杯咖啡 捷運民權西路站的繽紛咖啡廳 定食‧輕食‧甜點 墨西哥捲捲先生好吃！', '', '現在營業時間原為7:00改為早上10:00才開始了!   菜單早午餐系列也都為$200以上', '手工現作']}\n",
      "https://ifoodie.tw/blog/58c157e3a277bfeb3d86399c-天母日本料理推薦｜長鴻丼屋 百元大份量丼飯!絕對值得一吃\n",
      "{'avg_consume': '尚無營業時間資訊', 'author_name': 'Nash', 'tag': ['長鴻丼屋'], '熱門指數': '5', 'category': '壽司類', 'opentime': '0228735777', 'phone_number': ' 02-28735777', 'address': '臺北市士林區士東路91巷13號', 'web_url': 'https://ifoodie.tw/restaurant/5866a1ff2756dd757ab8ee03', 'message_man': '爆肝護士', 'see': ' 觀看: 254', 'rating': '4.0', 'author_url': 'https://ifoodie.tw/user/54e41f9a2756dd560a9c0203', 'img_url': 'https://img.nash.tw/20170309004736_9.jpg', 'restaurant_name': '長鴻丼屋', 'message': ['天母日本料理推薦｜長鴻丼屋 百元大份量丼飯!絕對值得一吃', '長鴻丼屋 平價大份量丼飯只要130元起！天母士東路在地人推薦的人氣美食！', '長鴻丼屋『丼飯、刺身、和食』｜天母士東路百元大份量日式丼飯']}\n",
      "https://ifoodie.tw/blog/58c158a9850996503e8be876-珠記大橋頭油飯 滷肉與半熟蛋的早餐美食 台北大橋頭站\n",
      "{'avg_consume': '今日營業: 06:00-14:00', 'author_name': 'Banbi', 'tag': ['台北滷肉飯', '台北早餐店', '大橋頭美食', '珠記大橋頭油飯', '大橋頭站美食', '台北橋美食', '老台北人的早午餐', '中式早餐 台北', '台北小吃推薦'], '熱門指數': '4.5', 'category': '小吃類', 'opentime': '0225576503', 'phone_number': ' 暫無資料', 'address': '臺北市大同區民權西路186號', 'web_url': 'https://ifoodie.tw/restaurant/559d448fc03a103ee86c5a7b', 'message_man': '柔藍食單', 'see': ' 觀看: 391', 'rating': '4.0', 'author_url': 'https://ifoodie.tw/user/53bdf3bdd4fdab213072997b', 'img_url': 'https://img.banbi.tw/20170308194857_13.jpg', 'restaurant_name': '大橋頭油飯', 'message': ['珠記大橋頭油飯 滷肉與半熟蛋的早餐美食 台北大橋頭站', '糖心荷包蛋必點', '珠記大橋頭油飯 台北橋旁的老台北早午餐 喝起來有港味的魚丸湯推薦!(大同區 小吃 早午餐)', '好像週一公休喔～剛剛去撲了個空', '[食記] 台北 珠記大橋頭油飯']}\n",
      "https://ifoodie.tw/blog/58c15753cc21c4893d0a38fb-MAGO 料理魔術美學西班牙餐廳 信義威秀店 - 來看魔術師變美食\n",
      "{'avg_consume': '尚無營業時間資訊', 'author_name': '壞波妞', 'tag': ['MAGO 料理魔術美學西班牙餐廳', '台北 西班牙餐廳', '威秀 餐廳', '信義 西班牙菜'], '熱門指數': '4.5', 'category': '咖啡類', 'opentime': '0225582968', 'phone_number': ' 02-2558-2968', 'address': '台北市大同區市民大道一段209號5樓', 'web_url': 'https://ifoodie.tw/restaurant/56d675e12756dd14b99e6f5d', 'message_man': '醜女食記', 'see': ' 觀看: 119', 'rating': '4.0', 'author_url': 'https://ifoodie.tw/user/556570d72756dd3945a3381c', 'img_url': 'https://pic.pimg.tw/nikitarh/1488870087-1317033958.jpg?v=1488870117', 'restaurant_name': 'MAGO料理魔術美學', 'message': ['MAGO 料理魔術美學西班牙餐廳 信義威秀店 - 來看魔術師變美食', 'MAGO 料理魔術美學－台北特色披薩 台北舒芙蕾鬆餅，份量較小CP值較低 （京站餐廳 京站美食 台北車站聚餐 台北車站餐廳）', '👎🏻', 'MAGO 料理魔術美學/早午餐、下午茶/台北京站威秀影城旁(捷運台北車站)', 'MAGO 料理魔術美學@京站威秀，創意無限的神奇料理', '服務好，炸物很軟，義大利麵味道較清淡。', '[台北車站京站美食] MAGO料理魔術美學-五彩比薩球、西班牙TAPAS料理、舒芙蕾、手沖咖啡，這裡通通有！(附完整菜單MENU) 北車美食/北車早午餐/北車下午茶/北車義式料理/台北西班牙料理/北車甜點/京站美食', 'MAGO料理魔術美學‧多色正是王道，魔幻五色Pizza 球給你好看!!!(文末附完整菜單) @ 醜女食記']}\n",
      "https://ifoodie.tw/blog/58c1568a746f252e3ddb972b-【台北信義區】跟熊大妹一起相約吃午茶信義新光三越A11/爭相排隊與巨型熊美一起合影．LINE FRIENDS Cafe & Store\n",
      "{'avg_consume': '今日營業: 11:00-21:30', 'author_name': '小公主Irene', 'tag': ['新光三越', 'A11', '熊美', '熊大妹', 'LINE周邊商品', 'LINE咖啡店', '雞蛋糕', '巨型熊美', '信義區'], '熱門指數': '4.5', 'category': '咖啡類', 'opentime': '0227236117', 'phone_number': ' 暫無資料', 'address': '台北市信義區松壽路11號1樓', 'web_url': 'https://ifoodie.tw/restaurant/586202dd2756dd57a97bca46', 'message_man': 'Alina 愛琳娜', 'see': ' 觀看: 94', 'rating': '4.0', 'author_url': 'https://ifoodie.tw/user/54ddafec2756dd76b8e10cd5', 'img_url': 'http://farm3.static.flickr.com/2816/32490755443_07e4634903_c.jpg', 'restaurant_name': 'LINE FRIENDS Cafe & Store', 'message': ['【台北信義區】跟熊大妹一起相約吃午茶/信義新光三越A11/爭相排隊與巨型熊美一起合影．LINE FRIENDS Cafe & Store', 'LINE FRIENDS Cafe & Store。新光三越A11館-療癒系外帶咖啡、拍照拍不停的卡哇伊打卡點', 'Line friends CAFE～拍照拍不停，熊大雞蛋糕與香蕉巧克力飲', 'LINE FRIENDS Cafe & Store｜全台首家CHOCO粉紅店店舖五大拍照主題和熊美一起喝咖啡可愛抹茶熊大雞蛋糕台灣限定', 'LINE FRIENDS CAFE 熊大妹CHOCO 在新光三越信義A11', 'LINE FRIENDS CAFE 熊大妹CHOCO 現身台北信義A11 萌系下午茶雞蛋糕']}\n",
      "https://ifoodie.tw/blog/58c157eda277bfeb3d8639a2-冰果奇緣ICE FAIRY 打卡大熱門！天母超人氣手作冰品專賣店！\n",
      "{'avg_consume': '今日營業: 11:30-21:30', 'author_name': '花花，甲飽沒', 'tag': ['天母美食', '冰果奇緣ICE FAIRY', '冰果奇緣', '冰果奇緣菜單', '冰果奇緣營業時間', '冰果奇緣地址', '天母草莓冰', '天母抹茶冰', '天母水果冰', '天母冰店'], '熱門指數': '5', 'category': '日本料理', 'opentime': '0228749863', 'phone_number': ' 02\\xa02874\\xa09863', 'address': '台北市士林區天母西路3號一樓之7', 'web_url': 'https://ifoodie.tw/restaurant/586d3a622756dd7578b8f20c', 'message_man': '爆肝護士', 'see': ' 觀看: 168', 'rating': '4.0', 'author_url': 'https://ifoodie.tw/user/53a466a76f345b73b0ed059a', 'img_url': 'https://img.tenjo.tw/uploads/20170309000545_86.jpg', 'restaurant_name': '冰果奇緣', 'message': ['冰果奇緣ICE FAIRY 打卡大熱門！天母超人氣手作冰品專賣店！', '台北天母。冰果奇緣 | 滿滿都是手工料的宇治金時雪花冰', '天母冰品推薦｜冰果奇緣 無香精的良心冰品! 超推鳳梨冰系列', '天母超人氣手工冰店》冰果奇緣 抹茶草莓冰超狂大份量,健康低甜,台北士林', '士林│冰果奇緣 ICE FAIRY(天母)‧誠懇細緻的日式甜品輕食屋', '【台北士林區】♡冰果奇緣 ICE FAIRY♡天母手工冰店新開幕．必點期間限定\"草莓愛上抹茶雪花冰\"．IG打卡新亮點．女孩必訪乾燥花日系小店', '冰果奇緣 ICE FAIRY，料多實在又大碗', '冰果奇緣 ICE FAIRY｜天母最瘋狂的手作甜品．人氣第一的是海鮮烏龍麵！']}\n",
      "https://ifoodie.tw/blog/58c1577ccc21c4893d0a3902-台北／大安 新麻蒲海鷗台灣一號店 五花肉王者！地表最強韓式燒烤來了（近忠孝敦化 延吉街 國父紀念館站 華視）\n",
      "{'avg_consume': '今日營業: 11:30-23:00', 'author_name': '開朗少女', 'tag': ['台北韓式料理 推薦', '延吉街 美食', '韓式料理 台北', '韓式烤肉', '台北韓式烤肉', '東區 韓式烤肉', '國父紀念館 韓式烤肉', '新麻蒲海鷗 必點', '新麻蒲海鷗 台北'], '熱門指數': '4', 'category': '燒烤類', 'opentime': '0227755110', 'phone_number': ' (02)2775-5110', 'address': '台北市大安區延吉街131巷35號', 'web_url': 'https://ifoodie.tw/restaurant/56480f33699b6e26c0ed7e2d', 'message_man': \"Yulin's Life\", 'see': ' 觀看: 156', 'rating': '4.0', 'author_url': 'https://ifoodie.tw/user/54b68edad4fdab0139edd942', 'img_url': 'http://farm4.staticflickr.com/3916/33195917576_f3e6db7318_c.jpg', 'restaurant_name': '新麻蒲海鷗韓式燒肉', 'message': ['台北／大安 新麻蒲海鷗台灣一號店 五花肉王者！地表最強韓式燒烤來了（近忠孝敦化 延吉街 國父紀念館站 華視）', '【美食】新麻浦海鷗烤肉台灣1號店。正宗韓國烤肉來嚕!。海鷗肉、醬燒豬皮不能錯過。捷運國父紀念館站一號出口', '✿新麻蒲海鷗臺灣2號店마포갈매기✿韓國超人氣燒肉在台二號店~ 免排隊!', '很道地的韓式烤肉🐷🐔🐮', 'CP值頗低的一間店......\\n爐邊蛋也沒有大家說的表現那麼好', '新麻蒲海鷗(마포갈매기)‧韓國連鎖烤肉台灣1號店-台北/大安/國父紀念館/延吉街', '台北 韓式燒烤-新麻蒲海鷗臺灣1號店마포갈매기/國父紀念館/華視/我在韓國吃燒烤 @ 娜丹小姐', '新麻蒲海鷗台灣1號店마포갈매기-韓國空運來台超人氣好吃烤肉、可口爐邊蛋！', '台北韓國烤肉:新麻蒲海鷗臺灣1號店마포갈매기 文內菜單,綜合肉拼盤與鍋邊泡菜蛋,捷運國父紀念館站聚餐美食', '新麻蒲海鷗臺灣1號店 ♥ 마포갈매기 ♥ 層架烤肉 ♥ 麻蒲海鷗肉 ♥ 國父紀念館站美食']}\n",
      "https://ifoodie.tw/blog/58c128d7699b6e5f8fd464c6-九份老街美食推薦|真正九份老牌 金枝紅糟肉圓\n",
      "{'avg_consume': '今日營業: 10:00-19:00', 'author_name': '東蛙池塘', 'tag': ['新北食記', '新北肉圓', '九份老街', '九份老街美食', '九份美食', '九份老街肉圓', '金枝紅糟肉圓'], '熱門指數': '4', 'category': '甜點類', 'opentime': '0224969265', 'phone_number': ' 暫無資料', 'address': '新北市瑞芳區基山街28之2號', 'web_url': 'https://ifoodie.tw/restaurant/559c0b98c03a101f6d8b7fb7', 'message_man': '三十六雨風飄搖', 'see': ' 觀看: 47', 'rating': '4.0', 'author_url': 'https://ifoodie.tw/user/56c04d6c2756dd6ebb4d22be', 'img_url': 'https://pic.pimg.tw/dong1104/1489052047-27446753.jpg?v=1489052057', 'restaurant_name': '金枝紅糟肉圓', 'message': ['九份老街美食推薦|真正九份老牌 金枝紅糟肉圓', '【新北】金枝紅糟素肉圓．填飽肚子才有力氣逛老街！九份美食', '真正九份老牌之金枝紅糟肉圓', '[遊記] 漫步九份老街 ～ 品嚐金枝紅糟肉圓 & 阿柑姨芋圓', '|食|九份 金枝紅槽肉圓']}\n"
     ]
    }
   ],
   "source": [
    "page_crawler(1)"
   ]
  },
  {
   "cell_type": "code",
   "execution_count": 7,
   "metadata": {
    "collapsed": true
   },
   "outputs": [],
   "source": [
    "# def goto_mongo(mydict):#要開啟 mongo的server能夠使用\n",
    "#     client = MongoClient()\n",
    "#     db= client['test']\n",
    "#     collect = db['test_ifood']\n",
    "#     #一次insert一整個list\n",
    "#     collect.insert_one(mydict)"
   ]
  },
  {
   "cell_type": "code",
   "execution_count": null,
   "metadata": {
    "collapsed": true
   },
   "outputs": [],
   "source": []
  },
  {
   "cell_type": "code",
   "execution_count": null,
   "metadata": {
    "collapsed": true
   },
   "outputs": [],
   "source": []
  },
  {
   "cell_type": "code",
   "execution_count": 256,
   "metadata": {
    "collapsed": false
   },
   "outputs": [
    {
     "name": "stdout",
     "output_type": "stream",
     "text": [
      "https://pic.pimg.tw/huang626162/1488551438-1535622062_l.jpg\n",
      "{'tag': '216巷美十', 'author_name': '茜的美食記', 'author_url': 'https://ifoodie.tw/user/56079d212756dd184f282124', 'web_url': 'https://ifoodie.tw/', '熱門指數': '5', 'rating': '4.0', 'phone_number': ' 0227710006', 'see': ' 觀看: 1380'}\n"
     ]
    }
   ],
   "source": [
    "import requests\n",
    "from selenium import webdriver\n",
    "from bs4 import BeautifulSoup\n",
    "import traceback as tb\n",
    "import json\n",
    "\n",
    "    # Example:茶寮侘助,餐廳外部資訊,有些東西是我們所要的\n",
    "url = 'https://ifoodie.tw/blog/58bcd12b699b6e645195f4f3-漂丿燒肉食堂'\n",
    "res = requests.get(url)\n",
    "soup = BeautifulSoup(res.text, 'lxml')\n",
    "\n",
    "mydict={}\n",
    "    #熱門指數\n",
    "hot_soup = soup.select(\"#ratingStar > span\")\n",
    "for hot in hot_soup:\n",
    "    熱門指數 = hot.text.strip()\n",
    "mydict['熱門指數'] = 熱門指數\n",
    "\n",
    "    #餐廳評分\n",
    "r_rate = soup.select(\"span.rating.rating4\")\n",
    "mydict['rating'] = r_rate[0].text\n",
    "    #圖片\n",
    "img_url = soup.select(\".pull-left > .media-object.cover\")\n",
    "img_url = img_url[0].get(\"style\").split(\"(\")[1].split(\")\")[0]\n",
    "print(img_url)\n",
    "type\n",
    "    #作者\n",
    "author_name = soup.select(\"a.name\")\n",
    "author_name = author_name[0].text\n",
    "mydict['author_name'] = author_name\n",
    "\n",
    "    #作者 url\n",
    "author_url = soup.find(\"a\", {\"class\":\"name\"})\n",
    "author_url = author_url.get(\"href\")\n",
    "mydict['author_url'] = author_url\n",
    "\n",
    "    # 標籤 再做細部處理==>去掉旁邊的html標籤\n",
    "tag_list=[]\n",
    "tags = soup.find_all(\"a\", {\"rel\":\"tag\"})\n",
    "for tag in tags:\n",
    "    tag = tag.text\n",
    "    tag_list.append(tag)\n",
    "\n",
    "mydict['tag']=tag\n",
    "\n",
    "    #觀看人數\n",
    "see_soup = soup.select(\"div.stat\")\n",
    "see_soup = see_soup[0].text\n",
    "mydict['see']=see_soup\n",
    "\n",
    "    #餐廳電話號碼\n",
    "phone_number = soup.select(\"div.phone.right\")[0].text.split(\":\")[1]\n",
    "phone_number\n",
    "mydict['phone_number'] = phone_number\n",
    "    #超連結\n",
    "url = soup.find(\"a\", {\"target\":\"_self\"})\n",
    "url= url.get(\"href\")\n",
    "#     url = soup.select('div.restaurant.item.right > h4 > a')\n",
    "#     for tag in url:\n",
    "#         url = tag['href']\n",
    "url_final = 'https://ifoodie.tw'+url\n",
    "mydict['web_url'] = url_final\n",
    "print(mydict)\n",
    "    \n",
    "\n",
    "   "
   ]
  },
  {
   "cell_type": "code",
   "execution_count": 219,
   "metadata": {
    "collapsed": false
   },
   "outputs": [
    {
     "data": {
      "text/plain": [
       "str"
      ]
     },
     "execution_count": 219,
     "metadata": {},
     "output_type": "execute_result"
    }
   ],
   "source": [
    "type(img_url)"
   ]
  },
  {
   "cell_type": "code",
   "execution_count": 282,
   "metadata": {
    "collapsed": false
   },
   "outputs": [
    {
     "name": "stdout",
     "output_type": "stream",
     "text": [
      "山丼 - 快滿出來的牛肉讓人快要忍不住 . 溫泉蛋太犯規 ! 士林店還有自己限定的碳烤豚肉丼口味 ( 自動販賣機點餐 / 無服務費 / 士林捷運站一號出口 )\n",
      "吸睛度比美味高很多的玫瑰和牛丼-山丼士林店@捷運士林站@中正路\n",
      "捷運士林站美食推薦｜山丼  Choice牛排做成的豪華牛排丼飯\n",
      "山丼-肉量超多的燒肉丼飯專賣（士林捷運站）\n"
     ]
    }
   ],
   "source": [
    "import requests\n",
    "from selenium import webdriver\n",
    "from bs4 import BeautifulSoup\n",
    "import traceback as tb\n",
    "import json\n",
    "\n",
    "res = requests.get('https://ifoodie.tw/restaurant/5875235d2756dd4b7e64057a')\n",
    "soup = BeautifulSoup(res.text, 'lxml')\n",
    "\n",
    "\n",
    "    #營業地址\n",
    "mydict={}\n",
    "reup = soup.select(\"span.info_detail\")\n",
    "mydict['address']=reup[0].text\n",
    "    #營業時間\n",
    "mydict['opentime']=reup[1].text\n",
    "    #均消\n",
    "mydict['avg_consume']=reup[2].text\n",
    "\n",
    "    #餐廳名字\n",
    "restaurant_name = soup.select(\"h1.title\")[0]\n",
    "restaurant_name=restaurant_name.text\n",
    "mydict['restaurant_name']=restaurant_name\n",
    "    #餐廳分類\n",
    "reup1 = soup.select(\"a.info_detail\")\n",
    "\n",
    "for tag1 in reup1:\n",
    "    tag1=tag1.text\n",
    "    mydict['category']=tag1\n",
    "\n",
    "    #訪客言談 細部處理 去掉旁邊的html標籤\n",
    "\n",
    "messages = soup.select(\"div.message > div\")\n",
    "for message in messages:\n",
    "    message = message.text\n",
    "#     print(message)\n",
    "mydict['message'] = message\n",
    "\n",
    "    \n",
    "    "
   ]
  },
  {
   "cell_type": "code",
   "execution_count": 277,
   "metadata": {
    "collapsed": false
   },
   "outputs": [
    {
     "data": {
      "text/plain": [
       "bs4.element.ResultSet"
      ]
     },
     "execution_count": 277,
     "metadata": {},
     "output_type": "execute_result"
    }
   ],
   "source": [
    "type(message)"
   ]
  },
  {
   "cell_type": "code",
   "execution_count": 260,
   "metadata": {
    "collapsed": true
   },
   "outputs": [],
   "source": [
    "res = requests.get('https://ifoodie.tw/restaurant/58a7096b2756dd06f13c338a')\n",
    "soup = BeautifulSoup(res.text, 'lxml')"
   ]
  },
  {
   "cell_type": "code",
   "execution_count": 261,
   "metadata": {
    "collapsed": false
   },
   "outputs": [
    {
     "name": "stdout",
     "output_type": "stream",
     "text": [
      "[<span class=\"info_detail\" data-reactid=\".wp0ts3fym8.1.0.1.0.0.1.3.0.2\" itemprop=\"address\">404台灣台中市北區漢口路四段375號</span>, <span class=\"info_detail\" data-reactid=\".wp0ts3fym8.1.0.1.0.0.1.3.1.2\" itemprop=\"telephone\">0422360438</span>, <span class=\"info_detail\" data-reactid=\".wp0ts3fym8.1.0.1.0.0.1.3.2.2\" datetime=\"尚無營業時間資訊\" itemprop=\"openingHoursSpecification\">尚無營業時間資訊</span>]\n"
     ]
    }
   ],
   "source": [
    "mydict={}\n",
    "reup = soup.select(\"span.info_detail\")\n",
    "print(reup)\n",
    "mydict['address']=reup[0].text\n",
    "    #營業時間\n",
    "mydict['opentime']=reup[1].text\n",
    "    #均消\n",
    "mydict['avg_consume']=reup[2].text\n",
    "\n",
    "    #餐廳名字\n",
    "restaurant_name = soup.select(\"h1.title\")[0]\n",
    "restaurant_name=restaurant_name.text\n",
    "mydict['restaurant_name']=restaurant_name\n",
    "    #餐廳分類\n",
    "reup1 = soup.select(\"a.info_detail\")\n",
    "\n",
    "for tag1 in reup1:\n",
    "    tag1=tag1.text\n",
    "    mydict['category']=tag1\n"
   ]
  },
  {
   "cell_type": "code",
   "execution_count": 262,
   "metadata": {
    "collapsed": false
   },
   "outputs": [
    {
     "name": "stdout",
     "output_type": "stream",
     "text": [
      "{'restaurant_name': 'KING JUICY', 'avg_consume': '尚無營業時間資訊', 'category': '小吃類', 'address': '404台灣台中市北區漢口路四段375號', 'opentime': '0422360438'}\n"
     ]
    }
   ],
   "source": [
    "print(mydict)"
   ]
  },
  {
   "cell_type": "code",
   "execution_count": 263,
   "metadata": {
    "collapsed": true
   },
   "outputs": [],
   "source": [
    "messages = soup.find_all(\"div\", {\"itemprop\":\"description\"})"
   ]
  },
  {
   "cell_type": "code",
   "execution_count": 264,
   "metadata": {
    "collapsed": false
   },
   "outputs": [
    {
     "data": {
      "text/plain": [
       "[<div data-reactid=\".wp0ts3fym8.1.0.1.0.1.2.1.$0.1.1.1.1\" itemprop=\"description\">台中北區國王級美食。KING juicy。食尚玩家報導燒肉咬蛋吐司、脆皮蛋餅、比臉大國王雞排、無毒檸檬蝶豆花手搖飲宵夜時段同時滿足飢餓的靈魂!</div>,\n",
       " <div data-reactid=\".wp0ts3fym8.1.0.1.0.1.2.1.$1.1.1.1.1\" itemprop=\"description\">KING JUICY 國王的 知名燒肉咬蛋和經典脆皮泡菜蛋餅全天供應想吃就吃 還有萬惡脆皮多汁炸雞 </div>]"
      ]
     },
     "execution_count": 264,
     "metadata": {},
     "output_type": "execute_result"
    }
   ],
   "source": [
    "messages"
   ]
  },
  {
   "cell_type": "code",
   "execution_count": 265,
   "metadata": {
    "collapsed": false,
    "scrolled": true
   },
   "outputs": [
    {
     "data": {
      "text/plain": [
       "<div data-reactid=\".wp0ts3fym8.1.0.1.0.1.2.1.$0.1.1.1.1\" itemprop=\"description\">台中北區國王級美食。KING juicy。食尚玩家報導燒肉咬蛋吐司、脆皮蛋餅、比臉大國王雞排、無毒檸檬蝶豆花手搖飲宵夜時段同時滿足飢餓的靈魂!</div>"
      ]
     },
     "execution_count": 265,
     "metadata": {},
     "output_type": "execute_result"
    }
   ],
   "source": [
    "messages[0]"
   ]
  },
  {
   "cell_type": "code",
   "execution_count": 266,
   "metadata": {
    "collapsed": false
   },
   "outputs": [
    {
     "data": {
      "text/plain": [
       "'台中北區國王級美食。KING juicy。食尚玩家報導燒肉咬蛋吐司、脆皮蛋餅、比臉大國王雞排、無毒檸檬蝶豆花手搖飲宵夜時段同時滿足飢餓的靈魂!'"
      ]
     },
     "execution_count": 266,
     "metadata": {},
     "output_type": "execute_result"
    }
   ],
   "source": [
    "messages[0].text"
   ]
  },
  {
   "cell_type": "code",
   "execution_count": 267,
   "metadata": {
    "collapsed": false
   },
   "outputs": [
    {
     "name": "stdout",
     "output_type": "stream",
     "text": [
      "台中北區國王級美食。KING juicy。食尚玩家報導燒肉咬蛋吐司、脆皮蛋餅、比臉大國王雞排、無毒檸檬蝶豆花手搖飲宵夜時段同時滿足飢餓的靈魂!\n",
      "KING JUICY 國王的 知名燒肉咬蛋和經典脆皮泡菜蛋餅全天供應想吃就吃 還有萬惡脆皮多汁炸雞 \n"
     ]
    }
   ],
   "source": [
    "for message in messages:\n",
    "    print(message.text"
   ]
  },
  {
   "cell_type": "code",
   "execution_count": 269,
   "metadata": {
    "collapsed": false
   },
   "outputs": [],
   "source": [
    "\n",
    "message_mans=soup.select('div.right_wrap > div.user_name > a')\n",
    "for message_man in message_mans:\n",
    "    message_man = message_man.text\n",
    "    mydict['message_man'] = message_man\n",
    "    \n",
    "    "
   ]
  },
  {
   "cell_type": "code",
   "execution_count": 135,
   "metadata": {
    "collapsed": false
   },
   "outputs": [
    {
     "name": "stdout",
     "output_type": "stream",
     "text": [
      "[]\n"
     ]
    }
   ],
   "source": [
    "message_times=soup.select('div.data-reactid')\n",
    "#for message_time in message_times:\n",
    "    \n",
    "print(message_times)\n",
    "    "
   ]
  },
  {
   "cell_type": "code",
   "execution_count": 138,
   "metadata": {
    "collapsed": true
   },
   "outputs": [],
   "source": [
    "message_times = soup.find_all(\"span\", {\"data-reactid\":\"19cqls9naww\"})"
   ]
  },
  {
   "cell_type": "code",
   "execution_count": 139,
   "metadata": {
    "collapsed": false
   },
   "outputs": [
    {
     "data": {
      "text/plain": [
       "[]"
      ]
     },
     "execution_count": 139,
     "metadata": {},
     "output_type": "execute_result"
    }
   ],
   "source": [
    "message_times"
   ]
  },
  {
   "cell_type": "code",
   "execution_count": 132,
   "metadata": {
    "collapsed": false
   },
   "outputs": [
    {
     "data": {
      "text/plain": [
       "list"
      ]
     },
     "execution_count": 132,
     "metadata": {},
     "output_type": "execute_result"
    }
   ],
   "source": [
    "type(message_times)"
   ]
  },
  {
   "cell_type": "code",
   "execution_count": null,
   "metadata": {
    "collapsed": true
   },
   "outputs": [],
   "source": []
  }
 ],
 "metadata": {
  "anaconda-cloud": {},
  "kernelspec": {
   "display_name": "Python [conda root]",
   "language": "python",
   "name": "conda-root-py"
  },
  "language_info": {
   "codemirror_mode": {
    "name": "ipython",
    "version": 3
   },
   "file_extension": ".py",
   "mimetype": "text/x-python",
   "name": "python",
   "nbconvert_exporter": "python",
   "pygments_lexer": "ipython3",
   "version": "3.5.2"
  }
 },
 "nbformat": 4,
 "nbformat_minor": 1
}
