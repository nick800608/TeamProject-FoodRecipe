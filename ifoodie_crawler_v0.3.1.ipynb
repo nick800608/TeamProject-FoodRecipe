{
 "cells": [
  {
   "cell_type": "code",
   "execution_count": null,
   "metadata": {
    "collapsed": true
   },
   "outputs": [],
   "source": [
    "import requests\n",
    "from bs4 import BeautifulSoup\n",
    "import traceback as tb\n",
    "import json\n",
    "import re"
   ]
  },
  {
   "cell_type": "markdown",
   "metadata": {},
   "source": [
    "# 爬蟲程式進入點"
   ]
  },
  {
   "cell_type": "code",
   "execution_count": null,
   "metadata": {
    "collapsed": true
   },
   "outputs": [],
   "source": [
    "def ifoodie_crawler(limit_number):\n",
    "    for offset in range(0,11800,limit_number):\n",
    "        search_url = \"https://ifoodie.tw/api/blog/?offset={}&limit={}&order_by=-date\".format(offset,limit_number)\n",
    "        print(\"[INFO]start crawling {}\".format(search_url))\n",
    "        get_all_restaurant_commend_info(search_url, offset, limit_number)"
   ]
  },
  {
   "cell_type": "markdown",
   "metadata": {},
   "source": [
    "# 取得餐廳評論的程式"
   ]
  },
  {
   "cell_type": "code",
   "execution_count": null,
   "metadata": {
    "collapsed": true
   },
   "outputs": [],
   "source": [
    "def get_all_restaurant_commend_info(search_url, offset, limit_number):\n",
    "    res = requests.get(search_url)\n",
    "    soup = BeautifulSoup(res.text, 'lxml')\n",
    "    pre_dict_list = soup.select('p')[0].text.split('response\\\": [')\n",
    "    dict_list = pre_dict_list[1].split('''], \"success\"''')[0]\n",
    "\n",
    "    pattern_split_dict = r'}, {'\n",
    "    pre_dict_list = re.split(pattern_split_dict, dict_list)\n",
    "\n",
    "    after_dict = '}'\n",
    "    pre_dict = '{'\n",
    "\n",
    "    json_objects_list = []\n",
    "    pre_dict_list_size_int = len(pre_dict_list)\n",
    "    \n",
    "    first_restaurant_commend = '{}{}'.format(pre_dict_list[0],after_dict)\n",
    "    try:\n",
    "        json_object = json.loads(first_restaurant_commend)\n",
    "        json_objects_list.append(json_object)\n",
    "    except:\n",
    "        print(\"[ERROR]first_restaurant_commend can't decode to JsonType\")\n",
    "        print(\"[ERROR-INFO]{}, object{}\".format(search_url,1))\n",
    "\n",
    "    for dict_number in range(1,pre_dict_list_size_int-1):\n",
    "        restaurant_commend = '{}{}{}'.format(pre_dict,pre_dict_list[dict_number],after_dict)\n",
    "\n",
    "        try:\n",
    "            json_object = json.loads(restaurant_commend)\n",
    "            json_objects_list.append(json_object)\n",
    "        except:\n",
    "            print(\"[ERROR]restaurant_commend can't decode to JsonType\")\n",
    "            print(\"[ERROR-INFO]{}, object{}\".format(search_url,dict_number+1))\n",
    "            continue\n",
    "\n",
    "    last_restaurant_commend = '{}{}'.format(pre_dict,pre_dict_list[pre_dict_list_size_int-1])\n",
    "    try:\n",
    "        json_object = json.loads(last_restaurant_commend)\n",
    "        json_objects_list.append(json_object)\n",
    "    except:\n",
    "        print(\"[ERROR]last_restaurant_commend can't decode to JsonType\")\n",
    "        print(\"[ERROR-INFO]{}, object{}\".format(search_url,pre_dict_list_size_int))\n",
    "    \n",
    "    with open('ifoodie_json_list_{}to{}.json'.format(offset,offset+limit_number), 'a',encoding='utf8') as fa:\n",
    "        data = json.dumps(json_objects_list, ensure_ascii=False)\n",
    "        fa.write(data)\n",
    "        print(\"[INFO]crawling {} was finish\".format(search_url))"
   ]
  },
  {
   "cell_type": "markdown",
   "metadata": {},
   "source": [
    "# 最後測試是否寫進去的東西讀出來之後可以用json格式來取值"
   ]
  },
  {
   "cell_type": "code",
   "execution_count": null,
   "metadata": {
    "collapsed": true
   },
   "outputs": [],
   "source": [
    "with open('ifoodie_json_list_1400to1600.json', 'r',encoding='utf8') as fr:\n",
    "    data = json.loads(fr.read())"
   ]
  },
  {
   "cell_type": "code",
   "execution_count": null,
   "metadata": {
    "collapsed": true
   },
   "outputs": [],
   "source": [
    "data[7]"
   ]
  },
  {
   "cell_type": "code",
   "execution_count": null,
   "metadata": {
    "collapsed": true
   },
   "outputs": [],
   "source": [
    "data[7][\"description\"]"
   ]
  },
  {
   "cell_type": "markdown",
   "metadata": {},
   "source": [
    "# 可以用字典檔的KV來取值了，OK!"
   ]
  }
 ],
 "metadata": {
  "kernelspec": {
   "display_name": "Python [default]",
   "language": "python",
   "name": "python3"
  },
  "language_info": {
   "codemirror_mode": {
    "name": "ipython",
    "version": 3
   },
   "file_extension": ".py",
   "mimetype": "text/x-python",
   "name": "python",
   "nbconvert_exporter": "python",
   "pygments_lexer": "ipython3",
   "version": "3.5.2"
  }
 },
 "nbformat": 4,
 "nbformat_minor": 1
}
