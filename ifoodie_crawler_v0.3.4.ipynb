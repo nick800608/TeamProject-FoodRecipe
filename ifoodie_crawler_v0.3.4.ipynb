{
 "cells": [
  {
   "cell_type": "code",
   "execution_count": 1,
   "metadata": {
    "collapsed": true
   },
   "outputs": [],
   "source": [
    "import requests\n",
    "from bs4 import BeautifulSoup\n",
    "import traceback as tb\n",
    "import json\n",
    "import re"
   ]
  },
  {
   "cell_type": "markdown",
   "metadata": {},
   "source": [
    "# 爬蟲程式進入點"
   ]
  },
  {
   "cell_type": "code",
   "execution_count": 3,
   "metadata": {
    "collapsed": true
   },
   "outputs": [],
   "source": [
    "def ifoodie_crawler(limit_number):\n",
    "    for offset in range(0,11800,limit_number):\n",
    "        search_url = \"https://ifoodie.tw/api/blog/?offset={}&limit={}&order_by=-date\".format(offset,limit_number)\n",
    "        print(\"[INFO]start crawling {}\".format(search_url))\n",
    "        get_all_restaurant_commend_info(search_url, offset, limit_number)"
   ]
  },
  {
   "cell_type": "markdown",
   "metadata": {},
   "source": [
    "# 取得餐廳評論的程式"
   ]
  },
  {
   "cell_type": "code",
   "execution_count": 4,
   "metadata": {
    "collapsed": true
   },
   "outputs": [],
   "source": [
    "def get_all_restaurant_commend_info(search_url, offset, limit_number):\n",
    "    res = requests.get(search_url)\n",
    "    soup = BeautifulSoup(res.text, 'lxml')\n",
    "    pre_dict_list = soup.select('p')[0].text.split('response\\\": [')\n",
    "    dict_list = pre_dict_list[1].split('''], \"success\"''')[0]\n",
    "\n",
    "    pattern_split_dict = r'}, {'\n",
    "    pre_dict_list = re.split(pattern_split_dict, dict_list)\n",
    "\n",
    "    after_dict = '}'\n",
    "    pre_dict = '{'\n",
    "\n",
    "    json_objects_list = []\n",
    "    pre_dict_list_size_int = len(pre_dict_list)\n",
    "    \n",
    "    first_restaurant_commend = '{}{}'.format(pre_dict_list[0],after_dict)\n",
    "    try:\n",
    "        json_object = json.loads(first_restaurant_commend)\n",
    "        json_objects_list.append(json_object)\n",
    "    except:\n",
    "        print(\"[ERROR]first_restaurant_commend can't decode to JsonType\")\n",
    "        print(\"[ERROR-INFO]{}, object{}\".format(search_url,1))\n",
    "\n",
    "    for dict_number in range(1,pre_dict_list_size_int-1):\n",
    "        restaurant_commend = '{}{}{}'.format(pre_dict,pre_dict_list[dict_number],after_dict)\n",
    "\n",
    "        try:\n",
    "            json_object = json.loads(restaurant_commend)\n",
    "            json_objects_list.append(json_object)\n",
    "        except:\n",
    "            print(\"[ERROR]restaurant_commend can't decode to JsonType\")\n",
    "            print(\"[ERROR-INFO]{}, object{}\".format(search_url,dict_number+1))\n",
    "            continue\n",
    "\n",
    "    last_restaurant_commend = '{}{}'.format(pre_dict,pre_dict_list[pre_dict_list_size_int-1])\n",
    "    try:\n",
    "        json_object = json.loads(last_restaurant_commend)\n",
    "        json_objects_list.append(json_object)\n",
    "    except:\n",
    "        print(\"[ERROR]last_restaurant_commend can't decode to JsonType\")\n",
    "        print(\"[ERROR-INFO]{}, object{}\".format(search_url,pre_dict_list_size_int))\n",
    "    \n",
    "    with open('ifoodie_json_list_{}to{}.json'.format(offset,offset+limit_number), 'a',encoding='utf8') as fa:\n",
    "        data = json.dumps(json_objects_list, ensure_ascii=False)\n",
    "        fa.write(data)\n",
    "        print(\"[INFO]crawling {} was finish\".format(search_url))"
   ]
  },
  {
   "cell_type": "code",
   "execution_count": null,
   "metadata": {
    "collapsed": true
   },
   "outputs": [],
   "source": [
    "ifoodie_crawler(200)"
   ]
  },
  {
   "cell_type": "markdown",
   "metadata": {},
   "source": [
    "# 最後測試是否寫進去的東西讀出來之後可以用json格式來取值"
   ]
  },
  {
   "cell_type": "code",
   "execution_count": 6,
   "metadata": {
    "collapsed": false
   },
   "outputs": [],
   "source": [
    "with open('ifoodie_json_list_0to200.json', 'r',encoding='utf8') as fr:\n",
    "    data_json = json.loads(fr.read())"
   ]
  },
  {
   "cell_type": "code",
   "execution_count": 7,
   "metadata": {
    "collapsed": false,
    "scrolled": true
   },
   "outputs": [
    {
     "data": {
      "text/plain": [
       "str"
      ]
     },
     "execution_count": 7,
     "metadata": {},
     "output_type": "execute_result"
    }
   ],
   "source": [
    "type(data[2][\"user\"][\"display_name\"])"
   ]
  },
  {
   "cell_type": "code",
   "execution_count": 9,
   "metadata": {
    "collapsed": false
   },
   "outputs": [
    {
     "data": {
      "text/plain": [
       "'醬好手作創意料理'"
      ]
     },
     "execution_count": 9,
     "metadata": {},
     "output_type": "execute_result"
    }
   ],
   "source": [
    "data[2][\"restaurant\"][\"name\"]"
   ]
  },
  {
   "cell_type": "code",
   "execution_count": 23,
   "metadata": {
    "collapsed": false,
    "scrolled": true
   },
   "outputs": [],
   "source": [
    "import csv\n",
    "def ifoodieDataTranslate(data_json):\n",
    "    complete_info_list=[]\n",
    "    for i, _ in enumerate(data):\n",
    "        info_list=[]    \n",
    "\n",
    "        try:\n",
    "            phone_str=str(data[i][\"phone\"])\n",
    "            info_list.append(phone_str)\n",
    "        except:\n",
    "            print(\"can't find phone\")\n",
    "\n",
    "        try:\n",
    "            rating_str=str(data[i][\"rating\"])\n",
    "            info_list.append(rating_str)\n",
    "        except:\n",
    "            print(\"can't find rating\")\n",
    "\n",
    "        try:\n",
    "            id_str=str(data[i][\"id\"])\n",
    "            info_list.append(id_str)\n",
    "        except:\n",
    "            print(\"can't find id\")\n",
    "\n",
    "        try:\n",
    "            city_str=str(data[i][\"city\"])\n",
    "            info_list.append(city_str)\n",
    "        except:\n",
    "            print(\"can't find city\")\n",
    "\n",
    "        try:\n",
    "            thumb_str=str(data[i][\"thumb\"])\n",
    "            info_list.append(thumb_str)\n",
    "        except:\n",
    "            print(\"can't find thumb\")\n",
    "\n",
    "        try:\n",
    "            browse_cnt_str=str(data[i][\"stat\"][\"browse_cnt\"])\n",
    "            info_list.append(browse_cnt_str)\n",
    "        except:\n",
    "            print(\"can't find browse_cnt\")\n",
    "\n",
    "        try:\n",
    "            favorite_cnt_str=str(data[i][\"stat\"][\"favorite_cnt\"])\n",
    "            info_list.append(favorite_cnt_str)\n",
    "        except:\n",
    "            print(\"can't find favorite_cnt\")\n",
    "\n",
    "        try:\n",
    "            share_cnt_str=str(data[i][\"stat\"][\"share_cnt\"])\n",
    "            info_list.append(share_cnt_str)\n",
    "        except:\n",
    "            print(\"can't find share_cnt\")\n",
    "\n",
    "        try:\n",
    "            recommend_cnt_str=str(data[i][\"stat\"][\"recommend_cnt\"])\n",
    "            info_list.append(recommend_cnt_str)\n",
    "        except:\n",
    "            print(\"can't find recommend_cnt\")\n",
    "\n",
    "        try:\n",
    "            price_str=str(data[i][\"price\"])\n",
    "            info_list.append(price_str)\n",
    "        except:\n",
    "            print(\"can't find price\")\n",
    "            \n",
    "        try:\n",
    "            follower_cnt_str=str(data[i][\"user\"][\"follower_cnt\"])\n",
    "            info_list.append(follower_cnt_str)\n",
    "        except:\n",
    "            print(\"can't find follower_cnt\")\n",
    "            \n",
    "        try:\n",
    "            info_list.append(data[i][\"user\"][\"display_name\"])\n",
    "        except:\n",
    "            print(\"can't find display_name\")\n",
    "\n",
    "        try:\n",
    "            following_cnt_str=str(data[i][\"user\"][\"following_cnt\"])\n",
    "            info_list.append(following_cnt_str)\n",
    "        except:\n",
    "            print(\"can't find following_cnt\")\n",
    "\n",
    "        try:\n",
    "            post_cnt_str=str(data[i][\"user\"][\"post_cnt\"])\n",
    "            info_list.append(post_cnt_str)\n",
    "        except:\n",
    "            print(\"can't find post_cnt\")\n",
    "\n",
    "        try:\n",
    "            browse_cnt_str=str(data[i][\"user\"][\"browse_cnt\"])\n",
    "            info_list.append(browse_cnt_str)\n",
    "        except:\n",
    "            print(\"can't find browse_cnt\")\n",
    "\n",
    "        try:\n",
    "            checkin_cnt_str=str(data[i][\"user\"][\"checkin_cnt\"])\n",
    "            info_list.append(checkin_cnt_str)\n",
    "        except:\n",
    "            print(\"can't find checkin_cnt\")\n",
    "\n",
    "        try:\n",
    "            user_id_str=data[i][\"user\"][\"id\"]\n",
    "            info_list.append(user_id_str)\n",
    "        except:\n",
    "            print(\"can't find user_id\")\n",
    "\n",
    "        try:\n",
    "            date_str=str(data[i][\"date\"])\n",
    "            info_list.append(date_str)\n",
    "        except:\n",
    "            print(\"can't find date\")    \n",
    "\n",
    "        try:\n",
    "            info_list.append(data[i][\"restaurant\"][\"name\"])\n",
    "        except:\n",
    "            print(\"can't find restaurant_name\")\n",
    "\n",
    "        try:   \n",
    "            info_list.append(str(data[i][\"restaurant\"][\"rating\"]))\n",
    "        except:\n",
    "            print(\"can't find restaurant_rating\") \n",
    "\n",
    "        try:\n",
    "            info_list.append(str(data[i][\"restaurant\"][\"opening_hours\"]))\n",
    "        except:\n",
    "            print(\"can't find restaurant_opening_hours\")  \n",
    "\n",
    "\n",
    "        try:   \n",
    "            info_list.append(data[i][\"restaurant\"][\"address\"])\n",
    "        except:\n",
    "            print(\"can't find restaurant_opening_hours\")   \n",
    "\n",
    "        try:    \n",
    "            info_list.append(str(data[i][\"restaurant\"][\"blog_cnt\"]))\n",
    "        except:\n",
    "            print(\"can't find restaurant_opening_hours\")       \n",
    "\n",
    "        try:    \n",
    "            info_list.append(data[i][\"restaurant\"][\"cover_url\"])\n",
    "        except:\n",
    "            print(\"can't find restaurant_cover_url\")     \n",
    "\n",
    "        try:    \n",
    "            info_list.append(data[i][\"restaurant\"][\"admin_name\"])\n",
    "        except:\n",
    "            print(\"can't find restaurant_admin_name\")\n",
    "\n",
    "        try:    \n",
    "            info_list.append(str(data[i][\"restaurant\"][\"visit_cnt\"]))\n",
    "        except:\n",
    "            print(\"can't find restaurant_visit_cnt\")\n",
    "\n",
    "        try:    \n",
    "            info_list.append(str(data[i][\"restaurant\"][\"avg_price\"]))\n",
    "        except:\n",
    "            print(\"can't find restaurant_avg_price\")\n",
    "\n",
    "        try:    \n",
    "            info_list.append(str(data[i][\"restaurant\"][\"lat\"]))\n",
    "        except:\n",
    "            print(\"can't find restaurant_lat\")    \n",
    "\n",
    "        try:    \n",
    "            info_list.append(str(data[i][\"restaurant\"][\"lng\"]))\n",
    "        except:\n",
    "            print(\"can't find restaurant_lng\")     \n",
    "\n",
    "        try:\n",
    "            info_list.append(data[i][\"url\"])\n",
    "        except:\n",
    "            print(\"can't find url\") \n",
    "\n",
    "        try:\n",
    "            info_list.append(data[i][\"title\"])\n",
    "        except:\n",
    "            print(\"can't find title\") \n",
    "\n",
    "        #for e in info_list:\n",
    "        print(\",\".join(info_list))\n",
    "\n",
    "        complete_info_list.append(info_list)\n",
    "\n",
    "    \n",
    "    with open('test.csv', 'a+', encoding='utf8') as fp:\n",
    "        \n",
    "        a = csv.writer(fp, delimiter=',')\n",
    "        a.writerows(complete_info_list)"
   ]
  },
  {
   "cell_type": "code",
   "execution_count": null,
   "metadata": {
    "collapsed": true
   },
   "outputs": [],
   "source": [
    "complete_info_list[0]"
   ]
  },
  {
   "cell_type": "code",
   "execution_count": null,
   "metadata": {
    "collapsed": true
   },
   "outputs": [],
   "source": [
    "with open('test.csv', 'r', encoding='utf8') as csvfile:\n",
    "    readCSV = csv.reader(csvfile, delimiter=',')\n",
    "    for row in readCSV:\n",
    "        print(\"\".join(row))   "
   ]
  }
 ],
 "metadata": {
  "anaconda-cloud": {},
  "kernelspec": {
   "display_name": "Python [default]",
   "language": "python",
   "name": "python3"
  },
  "language_info": {
   "codemirror_mode": {
    "name": "ipython",
    "version": 3
   },
   "file_extension": ".py",
   "mimetype": "text/x-python",
   "name": "python",
   "nbconvert_exporter": "python",
   "pygments_lexer": "ipython3",
   "version": "3.5.2"
  }
 },
 "nbformat": 4,
 "nbformat_minor": 1
}
