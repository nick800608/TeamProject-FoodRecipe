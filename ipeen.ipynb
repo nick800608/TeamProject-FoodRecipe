{
 "cells": [
  {
   "cell_type": "code",
   "execution_count": 1,
   "metadata": {
    "collapsed": false,
    "scrolled": true
   },
   "outputs": [],
   "source": [
    "\n",
    "\n",
    "import requests as r\n",
    "from bs4 import BeautifulSoup as bs\n",
    "import json \n",
    "from pymongo import *\n",
    "\n",
    "url_base = 'http://www.ipeen.com.tw'"
   ]
  },
  {
   "cell_type": "code",
   "execution_count": 2,
   "metadata": {
    "collapsed": false
   },
   "outputs": [],
   "source": [
    "#爬取愛評網各個縣市分類的餐廳評論頁數網址\n",
    "def page_crawler():\n",
    "#     city_list = ['keelung','taipei','xinbei','taoyuan','hsinchu','hsinchucounty','miaoli','taichung','nantou','changhua','yunlin','chiayi'\n",
    "#                 ,'chiayicounty','tainan','kaohsiung','pintung','ilan','hualian','taitung','penghu','lianjiang','kinmen']\n",
    "    \n",
    "    \n",
    "    \n",
    "    #台灣餐廳評論的所有頁數從最新到最舊\n",
    "    \n",
    "    try:\n",
    "        url = 'http://www.ipeen.com.tw/search/taiwan/000/1-0-0-0/'\n",
    "        res = r.get(url)\n",
    "        res.encoding=\"utf-8\"\n",
    "        soup = bs(res.text, 'lxml')\n",
    "        #取得最後一頁的頁數\n",
    "        finalpage = soup.select('.next_p_s > a')[0].get('href').split('=')[1]\n",
    "        int_page = int(finalpage)\n",
    "        for i in range(1,int_page+1):\n",
    "            page_url = url+'?p={}'.format(i)\n",
    "            print(page_url)\n",
    "            #呼叫取得餐廳裡的所有評論網址的方法\n",
    "            all_restaurant_list(page_url)\n",
    "    #避免遇到index error\n",
    "    except IndexError:\n",
    "        print(\"[ERROR] : index error!\")\n",
    "        "
   ]
  },
  {
   "cell_type": "code",
   "execution_count": 7,
   "metadata": {
    "collapsed": true
   },
   "outputs": [],
   "source": [
    "#爬取所有餐廳list，並看該餐廳最大的評論數目\n",
    "def all_restaurant_list(url):\n",
    "    res = r.get(url)\n",
    "    res.encoding=\"utf-8\"\n",
    "    soup = bs(res.text, 'lxml')\n",
    "    \n",
    "    \n",
    "    \n",
    "    #每頁最多有15個餐廳list\n",
    "    last_list = soup.select('.serShop')[-1].select('h3')[0].get('id').split('_')[2]\n",
    "    int_list = int(last_list)\n",
    "    \n",
    "    for i in range(1,int_list+1):\n",
    "        try:\n",
    "            #取到的是/shop/數字\n",
    "            restaurant_num = soup.select('#shop_h3_{} > a'.format(i))[0].get('href').split('-')[0]\n",
    "            print(restaurant_num)\n",
    "            #取得每間餐廳評論的最大數目\n",
    "            restaurant_url = 'http://www.ipeen.com.tw/shop/{}/comments?p=1&sortway=d&so=shop_default'.format(restaurant_num.split('/')[2])\n",
    "            res_r = r.get(restaurant_url)\n",
    "            res_r.encoding=\"utf-8\"\n",
    "            soup_r = bs(res_r.text, 'lxml')\n",
    "            total_share = soup_r.select('h2.main-title')[0].text.split('(')[1].split(')')[0]\n",
    "            int_share = int(total_share)\n",
    "            int_page=0\n",
    "            if int_share%5==0:\n",
    "                int_page=int_share/5\n",
    "            else:\n",
    "                int_page=int_share/5+1\n",
    "            for i in range(1,int_page+1):\n",
    "                \n",
    "                share_page = '/comments?p={}&sortway=d&so=shop_default'.format(i)\n",
    "                share_url = url_base + restaurant_num + share_page\n",
    "                print(share_url)\n",
    "                restaurant_share(restaurant_url)\n",
    "        except IndexError:\n",
    "            print(\"[ERROR] : no page!\")\n",
    "    "
   ]
  },
  {
   "cell_type": "code",
   "execution_count": 4,
   "metadata": {
    "collapsed": true
   },
   "outputs": [],
   "source": [
    "#爬取單一餐廳的所有食記網址\n",
    "def restaurant_share(url):\n",
    "    res = r.get(url)\n",
    "    res.encoding=\"utf-8\"\n",
    "    soup = bs(res.text, 'lxml')\n",
    "\n",
    "    total_list=[]\n",
    "    comment_list = soup.find_all('a',{'itemprop':'discussionUrl url'})\n",
    "    for comment in comment_list:\n",
    "        comment_url = comment.get('href')\n",
    "        c_url = url_base + comment_url\n",
    "#         print(c_url)\n",
    "        dicts = comment_crawler(c_url)\n",
    "        total_list.append(dicts)\n",
    "    goto_mongo(total_list)"
   ]
  },
  {
   "cell_type": "code",
   "execution_count": 12,
   "metadata": {
    "collapsed": false
   },
   "outputs": [
    {
     "name": "stdout",
     "output_type": "stream",
     "text": [
      "{'web_url': 'http://www.ipeen.com.tw/comment/902978', 'open_time': ['11:30~16:00、', '17:30~22:00'], 'restaurant_location': '台北市中山區南京西路12巷13弄9號', 'img_url': ['http://iphoto.ipeen.com.tw/images/v2/service/seal/confused_smile.gif', 'http://iphoto.ipeen.com.tw/images/v2/service/seal/sad_smile.gif', 'http://iphoto.ipeen.com.tw/photo/comment/1259892/902978/cm20150819___6a4a93d99811f576534ff9bf4c722fdc685.jpg', 'http://iphoto.ipeen.com.tw/photo/comment/1259892/902978/cm20150819___028094f4fe538ba2a20d3ef36884f931635.jpg', 'http://iphoto.ipeen.com.tw/photo/comment/1259892/902978/cm20150819___2236145b58fa4339eb8a8ee18f1c7005248.jpg', 'http://iphoto.ipeen.com.tw/images/v2/service/seal/regular_smile.gif', 'http://iphoto.ipeen.com.tw/photo/comment/1259892/902978/cm20150819___db6fa5e149d8dc589faed4dadc86ca1c276.jpg', 'http://iphoto.ipeen.com.tw/images/v2/service/seal/omg_smile.gif', 'http://iphoto.ipeen.com.tw/photo/comment/1259892/902978/cm20150819___088b17ce7db87217c8bed67b86429282733.jpg', 'http://iphoto.ipeen.com.tw/photo/comment/1259892/902978/cm20150819___2cdbfc2dfdbf239d74139a63aec22874118.jpg', 'http://iphoto.ipeen.com.tw/photo/comment/1259892/902978/cm20150819___cb8ccab155c7b12b99b58dffacbd113f900.jpg', 'http://iphoto.ipeen.com.tw/images/v2/service/seal/embaressed_smile.gif', 'http://iphoto.ipeen.com.tw/photo/comment/1259892/902978/cm20150819___5c818ce929463594c9e967404322f336688.jpg', 'http://iphoto.ipeen.com.tw/photo/comment/1259892/902978/cm20150819___442a1f59579731e1bd64c99a96e49ad4667.jpg', 'http://iphoto.ipeen.com.tw/images/v2/service/seal/regular_smile.gif', 'http://iphoto.ipeen.com.tw/photo/comment/1259892/902978/cm20150819___819cda82b94cff76a98098b6e3076aee254.jpg', 'http://iphoto.ipeen.com.tw/photo/comment/1259892/902978/cm20150819___1c42f77274738404bd89c9a114c4591b503.jpg', 'http://iphoto.ipeen.com.tw/photo/comment/1259892/902978/cm20150819___4b59a5a1b1f739c8ad30dc158e8d0a44684.jpg', 'http://iphoto.ipeen.com.tw/photo/comment/1259892/902978/cm20150819___424b5f313aa58c25dd6a34061fafb6b9630.jpg', 'http://iphoto.ipeen.com.tw/photo/comment/1259892/902978/cm20150819___746c92f9a576500e6e3db626eed37390688.jpg', 'http://iphoto.ipeen.com.tw/photo/comment/1259892/902978/cm20150819___f18f56c9ff12973e5ab2bc908a765a48673.jpg', 'http://iphoto.ipeen.com.tw/photo/comment/1259892/902978/cm20150819___b812c262f51ea0cb3f709d2acecd9d1e478.jpg', 'http://iphoto.ipeen.com.tw/photo/comment/1259892/902978/cm20150819___6ed36a04cf6e0a2e23cedb193b02fa2f334.jpg', 'http://iphoto.ipeen.com.tw/photo/comment/1259892/902978/cm20150819___eca4dc98004a41b1f413e5c1d2d58988355.jpg', 'http://iphoto.ipeen.com.tw/images/v2/service/seal/thumbs_up.gif', 'http://iphoto.ipeen.com.tw/photo/comment/1259892/902978/cm20150819___81c355d958d313d8dd3df330dd6ef1e0443.jpg', 'http://iphoto.ipeen.com.tw/images/v2/service/seal/tounge_smile.gif', 'http://iphoto.ipeen.com.tw/photo/comment/1259892/902978/cm20150819___120c3d320d2353514fb4210ac32e57ae919.jpg', 'http://iphoto.ipeen.com.tw/images/v2/service/seal/heart.gif', 'http://iphoto.ipeen.com.tw/photo/comment/1259892/902978/cm20150819___a774fafac571cf681b7ea19dff27673f854.jpg', 'http://iphoto.ipeen.com.tw/images/v2/service/seal/tounge_smile.gif', 'http://iphoto.ipeen.com.tw/photo/comment/1259892/902978/cm20150819___ba6c61d3db55c549a96b237951d97779373.jpg', 'http://iphoto.ipeen.com.tw/photo/comment/1259892/902978/cm20150819___6f34d1f50ffabc739459e2d225408d0d290.jpg', 'http://iphoto.ipeen.com.tw/images/v2/service/seal/thumbs_up.gif', 'http://iphoto.ipeen.com.tw/images/v2/service/seal/tounge_smile.gif', 'http://iphoto.ipeen.com.tw/photo/comment/1259892/902978/cm20150819___2c8f25840f03a04b5340fe3fc087bcb4569.jpg', 'http://iphoto.ipeen.com.tw/photo/comment/1259892/902978/cm20150819___94d9636518398b73ec85792d86698622383.jpg', 'http://iphoto.ipeen.com.tw/images/v2/service/seal/heart.gif', 'http://iphoto.ipeen.com.tw/photo/comment/1259892/902978/cm20150819___a5351ba7364b32a96c2b608c9de014a3871.jpg', 'http://iphoto.ipeen.com.tw/images/v2/service/seal/tounge_smile.gif', 'http://iphoto.ipeen.com.tw/photo/comment/1259892/902978/cm20150819___de1d25da7e71ebf924d4bc28fe714725877.jpg', 'http://iphoto.ipeen.com.tw/photo/comment/1259892/902978/cm20150819___128992c4c96398d2523581d0e77d7f2d179.jpg', 'http://iphoto.ipeen.com.tw/images/v2/service/seal/tounge_smile.gif', 'http://iphoto.ipeen.com.tw/photo/comment/1259892/902978/cm20150819___66c787badb831f0aeb8f9669748db222531.jpg', 'http://iphoto.ipeen.com.tw/photo/comment/1259892/902978/cm20150819___8cfb77260f1666f02deb65e89b3355ef136.jpg', 'http://iphoto.ipeen.com.tw/images/v2/service/seal/tounge_smile.gif', 'http://iphoto.ipeen.com.tw/photo/comment/1259892/902978/cm20150819___145c5d3253396e807fc4a42ade1ad19a894.jpg', 'http://iphoto.ipeen.com.tw/photo/comment/1259892/902978/cm20150819___7ea5d3aeaa051ae23748369f2d271614404.jpg', 'http://iphoto.ipeen.com.tw/images/v2/service/seal/embaressed_smile.gif', 'http://iphoto.ipeen.com.tw/images/v2/service/seal/thumbs_up.gif', 'http://iphoto.ipeen.com.tw/photo/comment/1259892/902978/cm20150819___b43fbe0633d1ec2f4184aafbf7c2d935112.jpg', 'http://iphoto.ipeen.com.tw/images/v2/service/seal/thumbs_up.gif', 'http://iphoto.ipeen.com.tw/images/v2/service/seal/tounge_smile.gif', 'http://iphoto.ipeen.com.tw/images/v2/service/seal/heart.gif', 'http://iphoto.ipeen.com.tw/images/v2/service/seal/heart.gif', 'http://iphoto.ipeen.com.tw/images/v2/service/seal/akiss.gif', 'http://iphoto.ipeen.com.tw/photo/comment/1259892/902978/cm20150819___3a4ed915c2d1b927b66ef0d7d54f5b96461.jpg', 'http://iphoto.ipeen.com.tw/photo/comment/1259892/902978/cm20150819___933a12fb3dd596714de203c63cfd2966402.jpg', 'http://iphoto.ipeen.com.tw/photo/comment/1259892/902978/cm20150819___9648de74e7ea2d6535a99bf3514bb333253.jpg'], 'dining_environment': '非常好', 'delicious': '非常好', 'comment': '中山站有一家一定要來吃的義大利麵 每次經過這一條小巷就會看到很多人在門口排隊\\n原來就是這間『螺絲瑪莉義麵坊』\\xa0聽說沒有訂位會很難吃到而且訂位必須兩天前訂喔~\\n不過蟲蟲是趁著平日中午來 沒想到還是得花30分鐘排隊\\xa0\\xa0\\xa0\\n\\n\\xa0\\n\\n門口外有座位讓客人等候\\n\\n\\n終於到我們用餐囉~好感動\\n\\n人真的很多~可見這義大利麵是非常吸引人的\\n\\n\\n\\n\\xa0\\n\\n店內的座位非常多 有兩層樓的位子 走下樓梯就是B1的用餐區~\\n\\n\\n\\n裝潢擺設非常的溫馨\\n\\n連等候位子的沙發都布置得非常可愛~\\n\\n\\n牆上的壁畫鮮豔亮麗 為用餐環境增添了舒適明亮\\n\\n\\n服務人員態度非常好 送餐速度也很有效率~\\n\\n\\xa0\\n\\n\\xa0\\n\\n\\xa0\\n\\n\\n\\n接下來就是點餐的時候拉~\\n義大利麵部分有多種醬汁 也有燉飯和焗烤可選擇~\\n詳細的餐點在這裡\\n(消費方式為每人低消一份主餐+10%服務費，餐前招待手工麵包，餐後招待甜點一份，用餐時間為兩個小時。)\\n\\n\\xa0\\n\\n\\xa0\\n\\n\\xa0\\n\\xa0\\n\\n餐前手工麵包\\n這條狀的手工麵包和其他家義式料理的餐包很不一樣 \\xa0口感非常特別 有彈性並非鬆軟酥脆 還有一股淡淡的奶香 很好吃\\n\\n\\xa0\\n奶油蘑菇濃湯40$\\n濃郁的濃湯 加入蘑菇熬煮 濃稠的口感散發淡淡奶油香\\n\\n\\n與手工麵包一起吃 也非常地搭\\xa0\\n\\n\\n\\xa0\\n粉紅醬鮮蝦雞肉義大利麵230$\\n特調的粉紅醬 是以濃郁白醬與酸甜茄汁醬一同熬煮 混搭的獨特醬汁非常特別\\n鮮蝦與Q彈的雞胸肉吸附滿滿醬汁 酸酸甜甜的味道非常好吃\\n\\n\\xa0\\n\\n\\n\\xa0\\n海鮮燉飯270$\\n燉飯採用義大利米為主 \\xa0米芯微熟 保留米飯Q度\\xa0\\xa0口感比一般米還要硬一點\\n搭配多種新鮮海鮮料 一起燉煮 米飯能吃出海鮮的鮮甜味 每一口都感覺是精華\\xa0\\n\\n\\xa0\\n\\n\\n干貝的部分採七分熟 剛好的熟度讓干貝更鮮甜\\xa0\\n\\n\\n\\xa0\\n香辣海鮮墨魚義大利麵 270$\\n黑黑的墨魚麵條加入微辣的番茄醬汁與新鮮的干貝 蛤蠣 \\xa0魷魚 鮮蝦等多種海鮮料 酸辣的滋味一點也不膩\\n\\n\\xa0\\n\\n\\n\\xa0\\n奶油培根起司筆管麵\\xa0\\xa0170$\\n煙燻培根爆炒後 加入濃稠的奶油醬汁和濃郁起司 麵條以筆管麵為主 每一條筆管麵都能吸附滿滿的奶油醬\\n\\n\\xa0\\n\\n\\n甜點菜單在用完主餐後送來 \\xa0因為只要點主餐 店裡會招待一份特製甜點\\xa0\\n\\n\\n\\xa0\\n熔岩巧克力\\n現烤的熔岩巧克力蛋糕 須等待10分鐘~\\n\\n\\n鬆軟的巧克力蛋糕用湯匙一挖開 濃濃的巧克力醬慢慢流出 看了就讓人忍不住想趕快吃\\n採用微苦的巧克力所以蛋糕和巧克力醬不會太甜\\xa0\\n\\n\\n\\xa0\\n焦糖布丁\\n店裡超人氣的甜點 來吃一定要點的焦糖布丁 真的非常讚\\n布丁部分加入紅茶一同製作口感綿密配上微苦的焦糖 每一口都有紅茶的香氣\\xa0\\xa0\\n\\n\\xa0\\n\\n\\xa0\\n\\n\\xa0\\n\\n\\n\\n\\n\\n\\n預約電話 : 02-2521-9822\\n\\n\\n\\n\\n\\n\\n\\n\\n\\n店家地址 :\\xa0台北市中山區南京西路12巷13弄9號\\n營業時間 :\\xa0AM 11:30 ~ PM 14:30（16:00 休息）\\xa0 \\xa0 \\xa0 \\xa0 \\xa0 \\xa0 \\xa0 \\xa0 \\xa0PM 17:30 ~ PM 20:30（22:00 打烊）', 'created_date': '2015-08-19 14:50:41', 'author_url': 'http://www.ipeen.com.tw/comment/902978/home/ipeen1259892', 'service_quality': '非常滿意', 'avg_consume': '275', 'author_name': '蟲蟲穎', 'category': '義式料理', 'phone_number': '02-2521-9822', 'restaurant_name': '螺絲瑪莉 Rose Mary'}\n",
      "{'web_url': 'http://www.ipeen.com.tw/comment/900324', 'open_time': ['11:30~16:00、', '17:30~22:00'], 'restaurant_location': '台北市中山區南京西路12巷13弄9號', 'img_url': ['http://iphoto.ipeen.com.tw/photo/comment/372409/900324/cgm0c7b631db9385f681a2969ef2c5dba24551.jpg', 'http://iphoto.ipeen.com.tw/photo/comment/372409/900324/cgmaf38848db30a6ed109ecd45e0fb3a9ce384.gif', 'http://iphoto.ipeen.com.tw/photo/comment/372409/900324/cgmc46de7e16e125051991cab001ac0403e668.jpg', 'http://iphoto.ipeen.com.tw/photo/comment/372409/900324/cgm95a69edfda30a35e9d436db359d23adc808.gif', 'http://iphoto.ipeen.com.tw/photo/comment/372409/900324/cgmf2545f826736de90808119d5377e1d07855.jpg', 'http://iphoto.ipeen.com.tw/photo/comment/372409/900324/cgm0a3830aa9289d0024b4f77e119c0af3f857.jpg', 'http://iphoto.ipeen.com.tw/photo/comment/372409/900324/cgme19117206da4bfb1968301d5cd0ab89d611.jpg', 'http://iphoto.ipeen.com.tw/photo/comment/372409/900324/cgmf00d5a407b4d91668aa379ad8341b55f683.jpg'], 'dining_environment': '好', 'delicious': '很好', 'comment': '。---------------------------------。RoseMary螺絲瑪莉義式餐廳台北市南京西路12巷13弄9號(02)2521-9822。---------------------------------。\\n這間餐廳就在新光三越中山店巷子進來不到5分鐘的路程，\\n從店家的外觀看起來，挺有特色的，是吧？！\\n所以我們一定要在外面拍了幾張照片的阿！\\n不過因為是巷子裡，我們也是等了一下子才找到人幫我們拍照咧！\\n在進到店內前，還可以看到小小的庭園造景。\\n挺有特色的風格，也讓人不拍照都不行咧～\\n這邊是結帳的地方。\\n出餐的地方在這邊。\\n\\xa0\\n(((繼續閱讀...)))', 'created_date': '2015-08-14 15:00:06', 'author_url': 'http://www.ipeen.com.tw/comment/900324/home/ipeen372409', 'service_quality': '滿意', 'avg_consume': '275', 'author_name': 'Disni', 'category': '義式料理', 'phone_number': '02-2521-9822', 'restaurant_name': '螺絲瑪莉 Rose Mary'}\n",
      "{'web_url': 'http://www.ipeen.com.tw/comment/889562', 'open_time': ['11:30~16:00、', '17:30~22:00'], 'restaurant_location': '台北市中山區南京西路12巷13弄9號', 'img_url': ['http://iphoto.ipeen.com.tw/photo/comment/776/889562/cgmf8d12ec5c6f17bc63220382836d4b3fd770.gif', 'http://iphoto.ipeen.com.tw/photo/comment/776/889562/cgm94a44b521657b26f85ccfb353f81118c900.gif', 'http://iphoto.ipeen.com.tw/photo/comment/776/889562/cgme01fc087b347210a83bb6a7a5b4ad3c7213.jpg', 'http://iphoto.ipeen.com.tw/photo/comment/776/889562/cgmef1e3f504d556a635e6715167d8ff93c250.gif', 'http://iphoto.ipeen.com.tw/photo/comment/776/889562/cgm94cc8504815c03a015835a9ee840b54c555.jpg', 'http://iphoto.ipeen.com.tw/photo/comment/776/889562/cgm3382156e9435491aefde4578df796745183.jpg', 'http://iphoto.ipeen.com.tw/photo/comment/776/889562/cgm3fa22ff62ec5eb1224c2a34a27c27467735.jpg', 'http://iphoto.ipeen.com.tw/photo/comment/776/889562/cgmf971feef0a57cb206115ec593ddc1803237.gif', 'http://iphoto.ipeen.com.tw/photo/comment/776/889562/cgmec967d93bef93bbc6ac586ec411554de143.jpg', 'http://iphoto.ipeen.com.tw/photo/comment/776/889562/cgmf263d827fff8bc61518d95f6d9078f8b298.jpg', 'http://iphoto.ipeen.com.tw/photo/comment/776/889562/cgmf971feef0a57cb206115ec593ddc1803237.gif', 'http://iphoto.ipeen.com.tw/photo/comment/776/889562/cgmd39be473705da92cd3cf2bbb00fb2088716.gif', 'http://iphoto.ipeen.com.tw/photo/comment/776/889562/cgmfe01328a57e28d060568cdd24fc27285373.gif', 'http://iphoto.ipeen.com.tw/photo/comment/776/889562/cgme047bedac0b34d9d11d95c376f7666a9434.jpg', 'http://iphoto.ipeen.com.tw/photo/comment/776/889562/cgm722c08b358df65deb0fb12b1c855099e226.jpg', 'http://iphoto.ipeen.com.tw/photo/comment/776/889562/cgm6b594734a8df9c2df6aece80fa92d092253.jpg'], 'dining_environment': '好', 'delicious': '好', 'comment': \"6月的時候上了台北~~在我生日的前一天~~\\n明明是假日,但是T上班....It's OK~~(雙手攤開~~)\\n上台北找我家小米姐去!!\\n\\n小米姐姐和我年紀差距蠻多的\\n但是~~我們無話不聊~~不論工作或是生活~~他都很疼我\\n我常常覺得~~我是個很幸福的人!!!因為~~我身邊有很多貴人~~^^\\n很多對我很好的朋友^^\\n這天~~和小米姐姐來到這家小巷弄中的Rose Mary喔~~\\n\\n我們來的時候比較早\\n所以剛好有位子\\n一進去沒多久~~一下子就滿滿人了XD\\n\\xa0\\n\\n餐點價位不會太貴\\n大約200~300\\n餐點都是單點\\n點餐之後會送上麵包\\n麵包屬於長條狀~~吃起來頗有嚼勁的~~口感不錯~~不會過甜~~\\n很有麵粉原味的香氣~~~不錯!!!\\n\\n姐姐單點了南瓜湯~~\\n口感不錯\\n但是聽姐姐說~~鮮奶油加了過多\\n後來胃很脹~~不舒服?!\\n\\n我單點了一杯冰拿鐵\\n非常一般般的拿鐵XD\\n\\n蒜香海鮮義大利麵\\n其實本來有墨魚海鮮義大利麵~~但是是茄汁~~~\\n喜歡墨魚麵又喜歡蒜味的我~~考慮好久~~只好拋棄墨魚選擇香蒜了~~XD\\n後來看看隔壁的墨魚麵~~好好吃的樣子喔!!!!\\n不過~~我的也不錯\\n海鮮料不少~~吃起來口感也新鮮彈牙\\n加了蒜味下去調味~~口感不錯\\n但是~~吃起來我覺得油加很多\\n~~因為吃到最後~~~~盤底都是油.......\\nㄧ般來說~~我覺的蒜炒應該是大蒜下去爆香~~不會像這樣底盤都是油才對....\\n還是我的嘴被NINI和托斯卡尼尼養刁了?!\\n但是麵條不會過硬~口感剛剛好!!!\\n\\n姐姐點了好像是野菇燉飯~~\\n他沒吃完......\\n\\n付餐甜點可以4選1\\n\\xa0\\n\\n我們都選了焦糖布丁\\n不錯吃~~但是口感偏硬一點\\n不過吃起來算是OK~~雞蛋味加上香草香氣~~挺香的!!\\n基本上~~這家Rose Mary吃起來口感OK~~但是也不知道識不是店家材料問題\\n或許添加過多奶油??\\n我們兩個一路胃脹到晚上.............................\\n所以~~我判定~~他就算口味不錯~~我應該會很久很久不會想去吃他~~XD\", 'created_date': '2015-07-24 12:04:57', 'author_url': 'http://www.ipeen.com.tw/comment/889562/home/ipeen00776', 'service_quality': '滿意', 'avg_consume': '275', 'author_name': '小U的快樂生活', 'category': '義式料理', 'phone_number': '02-2521-9822', 'restaurant_name': '螺絲瑪莉 Rose Mary'}\n",
      "{'web_url': 'http://www.ipeen.com.tw/comment/873356', 'open_time': ['11:30~16:00、', '17:30~22:00'], 'restaurant_location': '台北市中山區南京西路12巷13弄9號', 'img_url': ['http://iphoto.ipeen.com.tw/photo/comment/546716/873356/cm20150527___1d4823d204f9daef3c3b03b28a28ad26272.jpg', 'http://iphoto.ipeen.com.tw/photo/comment/546716/873356/cm20150527___381efc03c9e8693c4df962e13a35fab1973.jpg', 'http://iphoto.ipeen.com.tw/photo/comment/546716/873356/cm20150527___75cec1a392f953d6e7d9dea1dbce2673288.jpg', 'http://iphoto.ipeen.com.tw/photo/comment/546716/873356/cm20150527___b17c414f9b5b56f60808afeb2983fdf9797.jpg', 'http://iphoto.ipeen.com.tw/photo/comment/546716/873356/cm20150527___371da447ab3d612833af14cd58a67a51606.jpg', 'http://iphoto.ipeen.com.tw/photo/comment/546716/873356/cm20150527___0ed9cd5ead553aca626dc002fbc0458c918.jpg', 'http://iphoto.ipeen.com.tw/photo/comment/546716/873356/cm20150527___ce51e3e7566f6bf7f214865172b5c5e2664.jpg', 'http://iphoto.ipeen.com.tw/photo/comment/546716/873356/cm20150527___3c1d88b1e1828201a7b674055321ed8a681.jpg', 'http://iphoto.ipeen.com.tw/photo/comment/546716/873356/cm20150527___c5ab1d37a77ca6f932b64f97380c29b0974.jpg', 'http://iphoto.ipeen.com.tw/photo/comment/546716/873356/cm20150527___134aa371d6e6c9e373c4a7937fdcb482147.jpg', 'http://iphoto.ipeen.com.tw/photo/comment/546716/873356/cm20150527___eab39c8585f9478acee84ffff2fc9818534.jpg', 'http://iphoto.ipeen.com.tw/photo/comment/546716/873356/cm20150527___580249ea7dcac4199fc245666b15793e751.jpg', 'http://iphoto.ipeen.com.tw/photo/comment/546716/873356/cm20150527___f772da2e0944f02d67b703d680eaa48d103.jpg', 'http://iphoto.ipeen.com.tw/photo/comment/546716/873356/cm20150527___4c5fc75a157d4e21d6fe24cf0c25b82b741.jpg', 'http://iphoto.ipeen.com.tw/photo/comment/546716/873356/cm20150527___85230280fc447ea1dfe97532d0ce3ab2616.jpg', 'http://iphoto.ipeen.com.tw/photo/comment/546716/873356/cm20150527___bbdad6a363774dcfd4f70ebf5c4286b6454.jpg', 'http://iphoto.ipeen.com.tw/photo/comment/546716/873356/cm20150527___78b3ac69f90addad828c1fd222ea3bbd727.jpg'], 'dining_environment': '很好', 'delicious': '很好', 'comment': '這次到台北要幫朋友慶生\\n但是因為沒有提早決定要吃什麼\\n所以朋友找了一下網路的推薦\\n發現了這一間\\n我就說這間我吃過還不錯\\n於是就立刻拍板定案\\n原先我以為一定沒位子\\n好險雖然訂位已滿\\n但是他們有保留50個名額給現場候位的客人\\n於是我們11點半就到店門口等候\\n沒想到已經來這麼多人了\\n差一點排不進50個名額\\n\\n熱的要死\\n等了一段時間\\n終於等到開門了(謝天謝地\\n客人陸續進去才知道原來剛才在排隊的客人有部份是有訂位的(虛驚一場\\n這是店家一樓的座位\\n位子不算少\\n只是地下一樓更多\\n一樓一下就被坐滿了\\n明明才剛開門\\n所以我們被安排到地下一樓坐\\n\\n這是店家的櫃檯\\n非常的小\\n應該是爲了省空間吧\\n\\n下了地下一樓後\\n還有另外一個櫃檯大多了\\n\\n這是店家的菜單\\n他們的義大利麵的醬汁分很多種\\n除了常見的紅 白 青醬以外\\n還有特調醬汁\\n這是他們主打的\\n\\n\\n\\n店家的湯是要另外單點的\\n飲料也是\\n\\n\\xa0這是朋友點的湯-洋蔥清湯\\n聽朋友說味道很濃郁很香\\n而且裡面滿滿的洋蔥\\n都煮的很軟爛\\n這道湯品他們很滿意\\n\\n\\n\\n這是附上的麵包條\\n非常的好吃\\n很香軟\\n但是有不失嚼勁\\n\\n\\n\\n\\n\\n之前來是吃義大利麵\\n最近愛上燉飯\\n想吃看看燉飯如何\\n這是我的-牛肝菌鮮菇燉飯\\n一上來我就覺得一定不錯\\n沒想到吃到都變專家了\\n這燉飯的味道很濃郁\\n只有一個字\"香\"可以形容\\n而且米飯非常的粒粒分明\\n不會太爛但也不會不像燉飯\\n真的超級美味\\n下次去應該還會在點這道吧\\n\\n\\n\\xa0這是朋友的-龍蝦醬鮮蝦干貝義大利麵\\n我朋友想吃筆管麵\\n所以換了麵\\n不然這個麵原本是細麵\\n龍蝦醬的香味非常濃\\n是一般在外面吃不到的口味\\n非常的特別\\n是店家最主打的商品\\n蝦子都幫忙剝好殼\\n非常的方便 很貼心\\n\\n\\n\\n\\n\\n\\n\\n\\n這是朋友的-白酒蛤蜊義大利麵\\n非常中規中矩的一道料理\\n因為是清炒的\\n所以沒有太多醬汁\\n不過白酒香和蛤蜊的精華湯汁搭配起來\\n就是最美味的醬汁了\\n而且蛤蜊給的很豪邁\\n非常多顆\\n麵條也不會過爛或過硬\\n非常的剛好\\n\\n\\n\\xa0這是朋友的-番茄蔬食義大利麵\\n因為朋友吃素\\n所以才有機會看見滿滿的蔬菜山\\n這蔬菜的量也太多了吧\\n肉食者看到這盤應該會暈倒XD\\n我有偷吃了一些\\n覺得味道還OK\\n蔬菜都保留著脆度\\n感覺還不錯\\n\\n\\n\\n\\n吃飽飯後服務生會邊收盤子\\n邊遞上一張甜點的菜單\\n這次的甜點比上次來還多\\n挑了好久\\n決定吃焦糖布丁\\n本來想點南瓜起司蛋糕\\n但是他們說賣完了(殘念\\n\\n這是朋友的熔岩巧克力\\n上次也有點這個\\n感覺蛋糕體稍為乾了點\\n但是搭配上巧克力就很美味\\n因為巧克力很濕潤\\n非常的搭\\n\\n\\n這是新口味的杏仁霜派\\n原本聽到杏仁有點不敢吃\\n真的很怕杏仁的味道\\n但是後來吃了一小口\\n很冰 很順口\\n一點都沒有杏仁可怕的味道\\n我覺得整體吃起來還不錯\\n\\n這是芒果雪霜\\n也是很冰\\n但是味道我沒有很喜歡\\n這道是當天公認分數最低的\\n\\n再來就要揭曉第一名了\\n登登登登\\n就是我的焦糖布丁\\n這個布丁真的很好吃\\n除了口感滑順\\n布丁很軟嫩但不爛\\n焦糖不會太甜\\n甜度很適中\\n而且微微帶點苦味\\n完全把布丁的甜帶出來\\n非常棒的一道甜點\\n要是可以單買我一定立刻帶回家\\n\\n\\n\\xa0\\n再訪的經驗還是很好\\n有機會還會再去的', 'created_date': '2015-06-21 16:08:42', 'author_url': 'http://www.ipeen.com.tw/comment/873356/home/ipeen546716', 'service_quality': '很滿意', 'avg_consume': '275', 'author_name': '靜香兒', 'category': '義式料理', 'phone_number': '02-2521-9822', 'restaurant_name': '螺絲瑪莉 Rose Mary'}\n",
      "{'web_url': 'http://www.ipeen.com.tw/comment/866918', 'open_time': ['11:30~16:00、', '17:30~22:00'], 'restaurant_location': '台北市中山區南京西路12巷13弄9號', 'img_url': ['http://iphoto.ipeen.com.tw/photo/comment/549542/866918/cm20150608___19ee5aee3e58e1f1c7ca9d3ef6d18c8f236.jpg', 'http://iphoto.ipeen.com.tw/photo/comment/549542/866918/cm20150608___c35cf4bf8ad70ea2d65686155a8ed331376.jpg', 'http://iphoto.ipeen.com.tw/photo/comment/549542/866918/cm20150608___f295b6e2d65bbd21a6829cc674eaf39c529.jpg', 'http://iphoto.ipeen.com.tw/photo/comment/549542/866918/cm20150608___e252920ebd09c273b978b711d26aec16397.jpg', 'http://iphoto.ipeen.com.tw/photo/comment/549542/866918/cm20150608___240f2999fe87fd0044680ee0b2aaa398786.jpg', 'http://iphoto.ipeen.com.tw/photo/comment/549542/866918/cm20150608___1c4d3c5ec24f2608cddf26b89deb2943647.jpg', 'http://iphoto.ipeen.com.tw/photo/comment/549542/866918/cm20150608___93f76140b7516ffec3f77e34a0a93d22805.jpg', 'http://iphoto.ipeen.com.tw/photo/comment/549542/866918/cm20150608___54d72a133ca41d0863a0f1c2bad13513738.jpg', 'http://iphoto.ipeen.com.tw/photo/comment/549542/866918/cm20150608___4fea059dea9d0c12f394285e0a91ed9a228.jpg', 'http://iphoto.ipeen.com.tw/photo/comment/549542/866918/cm20150608___4ae9e7ada13133446b363236104586f2925.jpg', 'http://iphoto.ipeen.com.tw/photo/comment/549542/866918/cm20150608___b30acc44d0975d5f1768b7728a7b84c3231.jpg', 'http://iphoto.ipeen.com.tw/photo/comment/549542/866918/cm20150608___2388ef31899c6b70e10897a50e51594d197.jpg', 'http://iphoto.ipeen.com.tw/images/v2/service/seal/titter.gif', 'http://iphoto.ipeen.com.tw/images/v2/service/seal/titter.gif', 'http://iphoto.ipeen.com.tw/images/v2/service/seal/thumbs_up.gif', 'http://iphoto.ipeen.com.tw/images/v2/service/seal/thumbs_up.gif', 'http://iphoto.ipeen.com.tw/images/v2/service/seal/thumbs_up.gif', 'http://iphoto.ipeen.com.tw/images/v2/service/seal/thumbs_up.gif', 'http://iphoto.ipeen.com.tw/images/v2/service/seal/blueroad2.gif'], 'dining_environment': '很好', 'delicious': '很好', 'comment': '螺絲瑪莉 Rose Mary\\n\\n\\n\\n\\n02-2521-9822\\n\\n\\n台北市中山區南京西路12巷13弄9號\\n------------------------------------------------------\\n真的不說捷運中山站附近的排隊店『螺絲瑪莉』CP值真的高！\\n\\xa0\\n每次經過的時候總會因為他人實在太多了而放棄他\\n\\xa0\\n但這次時間比較充裕，排了一下隊還是進去吃了喔！\\n\\xa0\\n當天是假日，大約一點半去登記候位，約莫兩點多就可進去用餐了，店內空間很大，還有裝飾得很舒適的超大間地下室用餐空間~\\n\\xa0\\n\\n\\n\\xa0\\n他們的點餐方式都是採單點式，點主餐皆有附餐後甜點和餐前麵包!!!! 很棒吧\\n\\xa0\\n\\n因為當天有點晚進去用餐，一些熱門的招牌菜色已銷售一空，嗚嗚\\n\\n\\xa0\\n├奶油蘑菇濃湯┤ $40\\n\\xa0\\n以這價位而言，阿花喵覺得湯很超值，沒有便宜小店濃湯使用的素材，都是紮實的食材\\n\\xa0\\n雖然不是特別濃郁，但也絕對是好喝的\\n\\xa0\\n\\n\\n\\xa0\\n\\n├小茴香鮭魚焗飯┤ $230\\n\\xa0\\n這是猴狗狗點的，阿花喵本身不是很愛茴香的味道\\n\\xa0\\n這道茴香味真的超重，也是一種真材實料的表現吧XDD\\n\\xa0\\n\\n\\n\\xa0\\n\\n\\n\\n\\xa0\\n\\n├粉紅醬鮮蝦雞肉┤ $230\\n\\xa0\\n印象中蝦子至少有4-5隻，雞肉挺多片的，這價位真的完全合理，況且還有附好吃甜點！\\n\\xa0\\n麵條裹上醬汁，吃在嘴裡香氣十足，非常涮口，加上一點點小辣更增添整體層次感\\n\\xa0\\n\\n\\n\\n\\n\\xa0\\n├杏仁霜派┤ $主餐贈送\\n\\xa0\\n大大出乎意料的好吃甜點！！平常餐廳免費附的甜點幾乎都是簡單的餅乾阿小小蛋糕之類\\n\\xa0\\n但殊不知居然來了個這麼外在與內涵兼具的模範甜點！\\n\\xa0\\n\\n\\n\\xa0\\n不是路邊賣的那種杏仁茶的味道，說真的那阿花喵也不敢喝\\n\\xa0\\n像是水分比較多一些的冰淇淋，但沒有這麼綿密，也不這麼甜，吃起來不膩口\\n\\xa0\\n帶著淡淡堅果香，是會讓人眼睛一亮的好孩子，這真的可以給99分!!\\n\\xa0\\n\\n\\n\\xa0\\n├熔岩巧克力┤ $主餐贈送\\n\\xa0\\n哎呀呀！這熔岩巧克力厲害的部分可是在裏頭的呢\\n\\xa0\\n\\n\\n\\xa0\\n你看看，切開了一小角，巧克力忍不住咕嚕咕嚕的流出來，氾濫成災了啦\\n\\xa0\\n\\n\\xa0\\n\\n\\n\\xa0\\n帶著濕潤的巧克力，一口咬下布朗尼好幸福喔呼呼呼\\n\\xa0\\n巧克力微甜不卡喉，但也沒有巧克力該有的獨特苦味 (這點倒是比較可惜)\\n\\xa0\\n但基於他是免費附贈的甜點，這道可以給他95分！\\n\\xa0\\n\\n\\xa0\\n真的要親自來嘗試看看，才知道『螺絲瑪莉』為何可以大排長龍！\\n\\xa0\\nCP值高，東西又好吃，氣氛環境也不錯，大家一定得去嚐嚐~~\\n\\xa0\\n\\n\\n更多中山站推薦\\n\\xa0\\n【中山│咖啡甜點】休閒輕鬆談正事的「Libo」咖啡▲不限時、wifi、插座▲咖啡豆小餅乾販售（附店家資訊、菜單）\\n\\n【中山│異國料理】♥口碑券2♥ 壽司進化版加州卷『Colorful Roll 樂卷』，橫越太平洋的美味（附菜單）\\n\\n\\n【中山│咖啡】各式動物想要偷吃我們食物的『公雞咖啡』，文青感咖啡廳，能坐上一愜意下午～\\n\\n\\n【中山│韓式】超嫩雞肉、超Q年糕，免動手的桌邊服務『春川達卡比二店』\\n\\n\\xa0\\n\\n\\n\\n\\xa0\\n\\n\\n\\n✿如果喜歡阿花喵的文章，麻煩幫忙按一下大拇指喔!!! ✿✿\\xa0\\n\\n\\xa0\\n你的大拇指是阿花喵的最大動力～(｡◕∀◕｡)', 'created_date': '2015-06-08 18:09:36', 'author_url': 'http://www.ipeen.com.tw/comment/866918/home/ipeen549542', 'service_quality': '非常滿意', 'avg_consume': '275', 'author_name': '阿花喵', 'category': '義式料理', 'phone_number': '02-2521-9822', 'restaurant_name': '螺絲瑪莉 Rose Mary'}\n"
     ]
    }
   ],
   "source": [
    "restaurant_share('http://www.ipeen.com.tw/shop/67012/comments?p=3&sortway=d&so=shop_default')"
   ]
  },
  {
   "cell_type": "code",
   "execution_count": 10,
   "metadata": {
    "collapsed": false
   },
   "outputs": [],
   "source": [
    "#爬取食記裡所需要的資料\n",
    "def comment_crawler(url):\n",
    "    \n",
    "#     total_list=[]\n",
    "   \n",
    "    try: \n",
    "#         url = 'http://www.ipeen.com.tw/comment/{}'.format(i)\n",
    "        res = r.get(url)\n",
    "        res.encoding=\"utf-8\"\n",
    "        soup = bs(res.text, 'lxml')\n",
    "        mydict = {}\n",
    "        #餐廳名稱\n",
    "        restaurant_name = soup.select('.brief > p > a')[0].text.strip()\n",
    "        mydict['restaurant_name'] = restaurant_name\n",
    "\n",
    "        #餐廳地址\n",
    "        restaurant_location = soup.select('.info > ul > li')[2].text.split('：')[1].split('(')[0].strip()\n",
    "        mydict['restaurant_location'] = restaurant_location\n",
    "\n",
    "        #電話號碼\n",
    "        phone_number = soup.select('.info > ul > li')[1].text.split('：')[1]\n",
    "        mydict['phone_number'] = phone_number\n",
    "\n",
    "        #發表日期\n",
    "        created_date = soup.select('.date > span')[0].text\n",
    "        mydict['created_date'] = created_date\n",
    "\n",
    "        #營業時間\n",
    "        open_time_list=[]\n",
    "\n",
    "        open_time = soup.select('.businessHour-right > span')\n",
    "        for one_time in open_time:\n",
    "            open_time_list.append(one_time.text)\n",
    "        mydict['open_time'] = open_time_list    \n",
    "\n",
    "        #平均消費\n",
    "        avg_consume = soup.select('.other > ul > li')[3].text.split('：')[1].strip().split(' ')[0]\n",
    "        mydict['avg_consume'] = avg_consume\n",
    "\n",
    "        #url\n",
    "        mydict['web_url'] = url\n",
    "\n",
    "        #美味度\n",
    "        # deli = soup.select('.rating > dt')\n",
    "        # for d in deli:\n",
    "        #     n = deli.index(d)\n",
    "\n",
    "        delicious = soup.select('.rating > dd')[0].text\n",
    "        mydict['delicious'] = delicious\n",
    "\n",
    "        #服務品質\n",
    "        service_quality = soup.select('.rating > dd')[1].text\n",
    "        mydict['service_quality'] = service_quality\n",
    "\n",
    "        #環境氣氛\n",
    "        dining_environment = soup.select('.rating > dd')[2].text\n",
    "        mydict['dining_environment'] = dining_environment\n",
    "\n",
    "        #作者名稱\n",
    "        author_name = soup.find_all('a',{'data-action':'header_user'})[1].select('span')[0].text\n",
    "        mydict['author_name'] = author_name\n",
    "\n",
    "        #作者url\n",
    "        a_url = soup.find_all('a',{'data-action':'header_user'})[0].get('href').split('../')[1]\n",
    "        author_url = url + '/' + a_url\n",
    "        mydict['author_url'] = author_url\n",
    "       \n",
    "        #種類\n",
    "        category = soup.find_all('span',{'itemprop':'title'})[4].text\n",
    "        mydict['category'] = category\n",
    "        \n",
    "        #餐廳評論\n",
    "        comment = soup.select('.description')[0].text.strip()\n",
    "        mydict['comment'] = comment\n",
    "       \n",
    "        \n",
    "        #圖片url\n",
    "        image_list = []\n",
    "        images = soup.select('.description')[0].find_all('img')\n",
    "        for image in images:\n",
    "            image_url = image.get('src')\n",
    "            image_list.append(image_url)\n",
    "        mydict['img_url'] =  image_list   \n",
    "        \n",
    "        print(mydict)\n",
    "#         total_list.append(mydict)\n",
    "        #寫進json檔\n",
    "#         with open('ipeen.json', 'w',encoding='utf8') as f:\n",
    "#             data = json.dumps(total_list, ensure_ascii=False)\n",
    "#             f.write(data)\n",
    "        #把每個dictionary都回傳給上個function並裝成list\n",
    "        return mydict\n",
    "    except IndexError: \n",
    "        print(\"[ERROR] : empty comment!\")\n",
    "           "
   ]
  },
  {
   "cell_type": "code",
   "execution_count": 11,
   "metadata": {
    "collapsed": true
   },
   "outputs": [],
   "source": [
    "#寫進mongoDB裡面\n",
    "def goto_mongo(lists):\n",
    "    client = MongoClient()\n",
    "    db = client['test']\n",
    "    collect = db['test_ipeen']\n",
    "    #一次insert一整個list\n",
    "    collect.insert_many(lists)"
   ]
  },
  {
   "cell_type": "code",
   "execution_count": 31,
   "metadata": {
    "collapsed": false
   },
   "outputs": [
    {
     "name": "stdout",
     "output_type": "stream",
     "text": [
      "[{'open_time': ['12:00~23:00'], 'comment': '年初四很多服務業都開工了，知名\"鬆餅下午茶\"餐廳『咖啡弄』也在今天開工，沙拉就來跟大家湊個熱鬧開工大吉『咖啡弄(忠孝店)』位在捷運忠孝復興站步行約5分鐘交通便利，11:45到門口阿娘威這人會不會太多了，12點才開門就已經這麼多人在門口等，越到時間人越聚越多，是說這裡沒店吃了嗎?這麼多人要吃\"咖啡弄\"真的是做口碑的等了15分鐘就開始唱名進場，另一邊迅速的坐滿，所以沙拉只拍了自己坐的這邊，走道還算寬敞，不會相戶碰撞，昏黃的燈光讓人覺得溫馨舒服\\xa0翻咖啡弄的菜單就像翻雜誌一樣時尚，而且不時的還有新菜單，來這裡就是要吃新菜色既然是吃正餐，我相中了分店限定的\"鼓汁排骨飯\"台港美食交流的\"鼓汁排骨飯\"是分店限定，也就是說只有在\"忠孝店\"、\"士林店\"才能吃到\"鼓汁排骨飯\"排骨本身軟中帶有嚼勁，尾韻帶有微辣喜歡吃辣的沙拉連同排骨和辣椒一起吃，辣椒本身後勁有些強，所以沒吃很辣的不建議學我這樣吃喔!單吃肉就很好吃了以簡餐的飯量來說其實我覺得蠻足的，除了排骨外還可以把底下的汁拿來淋在飯上很下飯喔!墨爾本龍蝦堡小小瓶的油醋可淋在沙拉上，酸酸的好開胃另提供鹽及胡椒可撒在薯塊，薯塊本身沒有任何油脂很爽口黃檸檬可以擠在龍蝦上，蝦醬可以拿來沾麵包，一切都是這麼完美龍蝦給的很大方，可別以為只有外面你看到的，連裡面都塞滿了龍蝦肉，料給的很大方，都爆出來了龍蝦熬的肉吃起來非常紮實，吃到這麼高級的漢堡後回不去了草莓冰淇淋鬆餅本來是想點新品莓果熱蛋糕，但今天開工第一天沒有原物料可以做改點千層酥，開店不到半小時就全數賣完，是說我有這麼好運嗎?應該去買張樂透了買不到想吃的，只好點了『咖啡弄』一向出名的鬆餅滿滿的草莓底下有一球草莓冰淇淋和一大球卡士達鬆餅很熱一上桌草莓馬上滑落露出浪漫粉的草莓冰淇淋烤的香酥的鬆餅一直是沙拉所喜歡的，吃下午茶時總是少不了他，外酥內容越嚼越有麵香新品：牛奶冰棒可可牛奶冰棒可可還附兩塊巧克力當甜點\\xa0這飲料真是太可愛了，自製濃郁的牛奶冰棒再淋上熱可可變成了可可牛奶，好喝又好玩桂圓紅棗茶，雖然過年這幾天每天都好天氣，但還是不忘要補氣一下除了整壺滿滿的桂圓枸杞外還有三顆桂圓乾，好久沒吃了回味一下咖啡弄的飲料從沒讓人失望過全餐吃下來兩主餐加一個甜點真的是非常飽也非常滿足地址：台北市大安區忠孝東路四段101巷45號營業時間：12:00~23:00電話：02-2711-1912粉絲團：『咖啡弄(忠孝店)』--------------------免費吃咖啡弄新品---------------------抽獎方式1.『沙拉飯團』按讚2.公開分享本文3.底下留言@tag 1位朋友『和我一起到咖啡弄吃高檔龍蝦堡』使用限\"咖啡弄忠孝店\"獎項：龍蝦堡*1名、蜜汁排骨飯*1名、莓果熱蛋糕*1名開獎日期2/25使用期間：3/5~3/31--------------------------------------------祝大家開工大吉喔!延伸閱讀台灣之光知名下午茶『咖啡弄-士林店』鬆餅/三明治/士林捷運站西門町人氣下午茶咖啡『Oyami cafe』義大利麵/鬆餅/捷運西門站台北‧東區餐廳「HERDOR Tea House」清新花茶/超值晚餐/下午茶\"忠孝敦化東區下午茶『Hs Cafe 高跟鞋公主』主題餐廳\"捷運忠孝復興站\"最受歡迎的甜點品牌『杏桃屋鬆餅屋』(阪急店)夢卡多蛋糕季節限定頂級皇室御用茶『FrenchWindows 琺蘭綺瑥朵茶餐館』市政府站', 'restaurant_location': '台北市大安區忠孝東路四段101巷45號', 'img_url': ['http://iphoto.ipeen.com.tw/photo/comment/100408/992764/cm20160211___7a4e7fab8c351ca0ba95ce32694ca021825.jpg', 'http://iphoto.ipeen.com.tw/photo/comment/100408/992764/cm20160211___4f07adde428780096fe1e7e37ccf26e0740.jpg', 'http://iphoto.ipeen.com.tw/photo/comment/100408/992764/cm20160211___de1e6382a0f178fe81beabe2ea514c10582.jpg', 'http://iphoto.ipeen.com.tw/photo/comment/100408/992764/cm20160211___5d4fedaaf468f3ffb52fddf4b63b3588166.jpg', 'http://iphoto.ipeen.com.tw/photo/comment/100408/992764/cm20160211___9c2cbce7eebde07cf2e7e07f346f8a1a678.jpg', 'http://iphoto.ipeen.com.tw/photo/comment/100408/992764/cm20160211___56c6e1aaa8e1d3792efc595c58c714f1848.jpg', 'http://iphoto.ipeen.com.tw/photo/comment/100408/992764/cm20160211___8916e8eb547482692ad5032331fd3dc4167.jpg', 'http://iphoto.ipeen.com.tw/photo/comment/100408/992764/cm20160211___565b8e627797ebe0435e2fd10a6bd662957.jpg', 'http://iphoto.ipeen.com.tw/photo/comment/100408/992764/cm20160211___b494a41fc883577fd310d2506efbcccd274.jpg', 'http://iphoto.ipeen.com.tw/photo/comment/100408/992764/cm20160211___941b76d41f6e360221bc819deb78badd347.jpg', 'http://iphoto.ipeen.com.tw/photo/comment/100408/992764/cm20160211___a52073d41f6d4e84c21d1c67a223f31d825.jpg', 'http://iphoto.ipeen.com.tw/photo/comment/100408/992764/cm20160211___f40a00b2c4f6ae4da6735eb640c1f15d905.jpg', 'http://iphoto.ipeen.com.tw/photo/comment/100408/992764/cm20160211___711888a408c54c0b6b4e0a33b8b2448f686.jpg', 'http://iphoto.ipeen.com.tw/photo/comment/100408/992764/cm20160211___92b4a62809b8e38729cb5ede40076be2889.jpg', 'http://iphoto.ipeen.com.tw/photo/comment/100408/992764/cm20160211___876b3a350e2c8848d76017d8f13456e8408.jpg', 'http://iphoto.ipeen.com.tw/photo/comment/100408/992764/cm20160211___b7736984780b1052b21919ccde5b51ee765.jpg', 'http://iphoto.ipeen.com.tw/photo/comment/100408/992764/cm20160211___84970125c7c85e065263294426c5ae87491.jpg', 'http://iphoto.ipeen.com.tw/photo/comment/100408/992764/cm20160211___8169e781ef80b792d75ac385a3313f4d578.jpg', 'http://iphoto.ipeen.com.tw/photo/comment/100408/992764/cm20160211___e0cffc016e6559cf08a1cf6ab156050d523.jpg', 'http://iphoto.ipeen.com.tw/photo/comment/100408/992764/cm20160211___5bf3667bcaa6fa9b74463ee0ad4beda3953.jpg', 'http://iphoto.ipeen.com.tw/photo/comment/100408/992764/cm20160211___f0349acc64a8b47c848443dd65e75e69641.jpg', 'http://iphoto.ipeen.com.tw/photo/comment/100408/992764/cm20160211___521c2beb1cceae64da4277b1abad8bd2553.jpg', 'http://iphoto.ipeen.com.tw/photo/comment/100408/992764/cm20160211___bee8639ac6474f061c11fc92a0a13d04285.jpg', 'http://iphoto.ipeen.com.tw/photo/comment/100408/992764/cm20160211___49dc053f52091e8da26b861112d0cf0e744.jpg'], 'service_quality': '滿意', 'avg_consume': '269 元', 'author_name': '沙拉公主', 'web_url': 'http://www.ipeen.com.tw/comment/992764', 'delicious': '很好', 'dining_environment': '好', 'phone_number': '台北市大安區忠孝東路四段101巷45號', 'author_url': 'http://www.ipeen.com.tw/comment/992764/home/ipeen100408', 'created_date': '2016-02-15 12:00:53', 'category': '甜點專賣', 'restaurant_name': '咖啡弄(忠孝店)'}]\n"
     ]
    }
   ],
   "source": [
    "with open('ipeen.json', 'r',encoding='utf8') as a:\n",
    "    data = json.load(a)\n",
    "    \n",
    "    print(data)"
   ]
  }
 ],
 "metadata": {
  "anaconda-cloud": {},
  "kernelspec": {
   "display_name": "Python [conda root]",
   "language": "python",
   "name": "conda-root-py"
  },
  "language_info": {
   "codemirror_mode": {
    "name": "ipython",
    "version": 3
   },
   "file_extension": ".py",
   "mimetype": "text/x-python",
   "name": "python",
   "nbconvert_exporter": "python",
   "pygments_lexer": "ipython3",
   "version": "3.5.2"
  }
 },
 "nbformat": 4,
 "nbformat_minor": 1
}
