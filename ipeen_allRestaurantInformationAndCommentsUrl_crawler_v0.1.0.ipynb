{
 "cells": [
  {
   "cell_type": "code",
   "execution_count": 1,
   "metadata": {
    "collapsed": true
   },
   "outputs": [],
   "source": [
    "import requests as r\n",
    "from bs4 import BeautifulSoup as bs\n",
    "import json \n",
    "from queue import Queue\n",
    "import threading\n",
    "import re\n",
    "import time\n",
    "import random\n",
    "import os"
   ]
  },
  {
   "cell_type": "code",
   "execution_count": 73,
   "metadata": {
    "collapsed": true
   },
   "outputs": [],
   "source": [
    "#pre_url_str = 'http://www.ipeen.com.tw/shop/1055186-%E6%BF%83%E5%92%96%E5%95%A1-PEI-CAFE-%E5%90%8E%E9%87%8C'\n",
    "pre_url_str = 'http://www.ipeen.com.tw/shop/1071950-%E7%B4%85%E8%91%89%E8%9B%8B%E7%B3%95'\n",
    "#pre_url_str = 'http://www.ipeen.com.tw/shop/33714-%E5%92%96%E5%95%A1%E5%BC%84-%E5%BF%A0%E5%AD%9D%E5%BA%97'"
   ]
  },
  {
   "cell_type": "code",
   "execution_count": 74,
   "metadata": {
    "collapsed": true
   },
   "outputs": [],
   "source": [
    "restaurant_id = pre_url_str.split('/')[-1].split('-')[0]\n",
    "restaurant_information_url = 'http://www.ipeen.com.tw/touch/shop.php?id={}'.format(restaurant_id)"
   ]
  },
  {
   "cell_type": "code",
   "execution_count": 75,
   "metadata": {
    "collapsed": false
   },
   "outputs": [
    {
     "data": {
      "text/plain": [
       "'1071950'"
      ]
     },
     "execution_count": 75,
     "metadata": {},
     "output_type": "execute_result"
    }
   ],
   "source": [
    "restaurant_id"
   ]
  },
  {
   "cell_type": "code",
   "execution_count": 76,
   "metadata": {
    "collapsed": false
   },
   "outputs": [
    {
     "data": {
      "text/plain": [
       "'http://www.ipeen.com.tw/touch/shop.php?id=1071950'"
      ]
     },
     "execution_count": 76,
     "metadata": {},
     "output_type": "execute_result"
    }
   ],
   "source": [
    "restaurant_information_url"
   ]
  },
  {
   "cell_type": "code",
   "execution_count": 77,
   "metadata": {
    "collapsed": false
   },
   "outputs": [
    {
     "name": "stdout",
     "output_type": "stream",
     "text": [
      "200\n",
      "0.26601529121398926\n"
     ]
    }
   ],
   "source": [
    "phoneStartTime = time.time()\n",
    "#test_restaurant_information_url = 'http://www.ipeen.com.tw/touch/shop.php?id=1055186'\n",
    "#test_restaurant_information_url = 'http://www.ipeen.com.tw/touch/shop.php?id=1071950'\n",
    "#test_restaurant_information_url = 'http://www.ipeen.com.tw/touch/shop.php?id=33714'\n",
    "header1 = {'Accept': 'text/html,application/xhtml+xml,application/xml;q=0.9,image/webp,*/*;q=0.8',\n",
    "          'Accept-Encoding': 'gzip, deflate, sdch',\n",
    "          'Accept-Language': 'zh-TW,zh;q=0.8,en-US;q=0.6,en;q=0.4',\n",
    "          'Cache-Control': 'no-cache',\n",
    "          'Connection': 'keep-alive',\n",
    "          'Host': 'www.ipeen.com.tw',\n",
    "          'Pragma': 'no-cache',\n",
    "          'DNT': '1',\n",
    "          'Upgrade-Insecure-Requests': '1',\n",
    "          'User-Agent': 'Mozilla/5.0 (iPhone; CPU iPhone OS 9_1 like Mac OS X) AppleWebKit/601.1.46 (KHTML, like Gecko) \\\n",
    "          Version/9.0 Mobile/13B143 Safari/601.1'\n",
    "          }\n",
    "#res_restaurant_information = r.get(test_restaurant_information_url, headers=header1)\n",
    "res_restaurant_information = r.get(restaurant_information_url, headers=header1)\n",
    "print(res_restaurant_information.status_code)\n",
    "soup_restaurant_information = bs(res_restaurant_information.text, 'lxml')\n",
    "phoneEndTime = time.time()\n",
    "print(phoneEndTime - phoneStartTime)"
   ]
  },
  {
   "cell_type": "code",
   "execution_count": null,
   "metadata": {
    "collapsed": true
   },
   "outputs": [],
   "source": []
  },
  {
   "cell_type": "code",
   "execution_count": 21,
   "metadata": {
    "collapsed": false
   },
   "outputs": [
    {
     "data": {
      "text/plain": [
       "<!DOCTYPE html>\n",
       "<!--[if lt IE 8]><html class=\"no-js ie7\" lang=\"zh-tw\"><![endif]--><!--[if IE 8]><html class=\"no-js ie8\" lang=\"zh-tw\"><![endif]--><!--[if IE 9]><html class=\"no-js ie9\" lang=\"zh-tw\"><![endif]--><!--[if IE 10]><html class=\"no-js ie10\" lang=\"zh-tw\"><![endif]--><!--[if gt IE 10]><!--><html class=\"no-js\" lang=\"zh-tw\"><!--<![endif]-->\n",
       "<head>\n",
       "<meta charset=\"utf-8\"/>\n",
       "<title>咖啡弄(忠孝店)@台北市大安區 - iPeen愛評網商家情報</title>\n",
       "<link href=\"/images/touch/frame/touch-icon-iphone.png\" rel=\"apple-touch-icon\"/>\n",
       "<link href=\"/images/touch/frame/touch-icon-ipad.png\" rel=\"apple-touch-icon\" sizes=\"76x76\"/>\n",
       "<link href=\"/images/touch/frame/touch-icon-iphone-retina.png\" rel=\"apple-touch-icon\" sizes=\"120x120\"/>\n",
       "<link href=\"/images/touch/frame/touch-icon-ipad-retina.png\" rel=\"apple-touch-icon\" sizes=\"152x152\"/>\n",
       "<meta content=\"【咖啡弄】台北市優質咖啡輕食館\n",
       "咖啡弄忠孝店為咖啡弄創始本店，當初因位於101巷小弄旁轉角，弄字\n",
       "又有玩弄美食之意，故取名為咖啡弄。忠孝店之初僅有今日一半大\n",
       "小，於2008年擴店整修，成為今日店中央為出餐內場，四周為座位區\n",
       "的室內環境。2012年三月，進行第二次整修\" name=\"description\"/>\n",
       "<meta content=\"咖啡弄(忠孝店),烘焙、甜點、零食,台北市,大安區,東區,下午茶,鬆餅,咖啡弄\" name=\"keywords\"/>\n",
       "<meta content=\"app-id=366479443\" name=\"apple-itunes-app\"/>\n",
       "<link href=\"http://www.ipeen.com.tw/shop/33714-咖啡弄-忠孝店\" rel=\"canonical\"/>\n",
       "<meta content=\"width=device-width, initial-scale=1, maximum-scale=1\" name=\"viewport\"/>\n",
       "<link href=\"/css/touch/frame/frame.css?20160215\" rel=\"stylesheet\"/>\n",
       "<link href=\"/css/touch/shop/shop.css?update=20150306\" rel=\"stylesheet\"/>\n",
       "<!-- iPeen TW RTA Script -->\n",
       "<script type=\"text/javascript\">\n",
       "\t\tvar crtg_nid = '4690';\n",
       "\t\tvar crtg_cookiename = 'crtg_rta';\n",
       "\t\tvar crtg_varname = 'crtg_content';\n",
       "\t\tfunction crtg_getCookie(c_name){ var i,x,y,ARRCookies=document.cookie.split(\";\");for(i=0;i<ARRCookies.length;i++){x=ARRCookies[i].substr(0,ARRCookies[i].indexOf(\"=\"));y=ARRCookies[i].substr(ARRCookies[i].indexOf(\"=\")+1);x=x.replace(/^\\s+|\\s+$/g,\"\");if(x==c_name){return unescape(y);} }return'';}\n",
       "\t\tvar crtg_content = crtg_getCookie(crtg_cookiename);\n",
       "\t\tvar crtg_rnd=Math.floor(Math.random()*99999999999);\n",
       "\t\t(function(){\n",
       "\t\t\tvar crtg_url=location.protocol+'//rtax.criteo.com/delivery/rta/rta.js?netId='+escape(crtg_nid);\n",
       "\t\t\tcrtg_url +='&cookieName='+escape(crtg_cookiename);\n",
       "\t\t\tcrtg_url +='&rnd='+crtg_rnd;\n",
       "\t\t\tcrtg_url +='&varName=' + escape(crtg_varname);\n",
       "\t\t\tvar crtg_script=document.createElement('script');crtg_script.type='text/javascript';crtg_script.src=crtg_url;crtg_script.async=true;\n",
       "\t\t\tif(document.getElementsByTagName(\"head\").length>0)document.getElementsByTagName(\"head\")[0].appendChild(crtg_script);\n",
       "\t\t\telse if(document.getElementsByTagName(\"body\").length>0)document.getElementsByTagName(\"body\")[0].appendChild(crtg_script);\n",
       "\t\t})();\n",
       "\t</script>\n",
       "<script type=\"text/javascript\">\n",
       "\tvar googletag = googletag || {};\n",
       "\tgoogletag.cmd = googletag.cmd || [];\n",
       "\t(function() {\n",
       "\tvar gads = document.createElement('script');\n",
       "\tgads.async = true;\n",
       "\tgads.type = 'text/javascript';\n",
       "\tvar useSSL = 'https:' == document.location.protocol;\n",
       "\tgads.src = (useSSL ? 'https:' : 'http:') + \n",
       "\t'//www.googletagservices.com/tag/js/gpt.js';\n",
       "\tvar node = document.getElementsByTagName('script')[0];\n",
       "\tnode.parentNode.insertBefore(gads, node);\n",
       "\t})();\n",
       "</script> <script type=\"text/javascript\">\n",
       "\tgoogletag.cmd.push(function() {\n",
       "\t\tgoogletag.defineSlot('/65829459/Mobile_shop_cmmunder_300*250', [300, 250], 'div-gpt-ad-1390914921260-0').addService(googletag.pubads());\n",
       "\t\t\tvar crtg_split = (crtg_content || '').split(';');\n",
       "\tvar pubads = googletag.pubads();\n",
       "\tfor (var i=1;i<crtg_split.length;i++){\n",
       "\t\tpubads.setTargeting(\"\" + (crtg_split[i-1].split('='))[0] + \"\", \"\" + (crtg_split[i-1].split('='))[1] + \"\");\n",
       "\t}\t\tgoogletag.pubads().enableSingleRequest();\n",
       "\t\tgoogletag.enableServices();\n",
       "\t});\n",
       "</script>\n",
       "<!--[if lt IE 9]>\n",
       "\t<script src=\"/js/ie8/html5shiv.js\"></script>\n",
       "\t<script src=\"/js/ie8/respond.min.js\"></script>\n",
       "\t<![endif]-->\n",
       "<!-- Begin comScore Tag -->\n",
       "<script type=\"text/javascript\">\n",
       "(function(i,s,o,g,r,a,m){i['GoogleAnalyticsObject']=r;i[r]=i[r]||function(){\n",
       "(i[r].q=i[r].q||[]).push(arguments)},i[r].l=1*new Date();a=s.createElement(o),\n",
       "m=s.getElementsByTagName(o)[0];\n",
       "a.async=1;a.src=g;m.parentNode.insertBefore(a,m)\n",
       "})(window,document,'script','//www.google-analytics.com/analytics.js','ga');\n",
       "\n",
       "ga('create', 'UA-2241395-14');\n",
       "ga('require', 'displayfeatures');\n",
       "ga('send', 'pageview');\n",
       "</script>\n",
       "<script src=\"//d17m68fovwmgxj.cloudfront.net/js/appier-track-v1.7.js\"></script>\n",
       "<script>\n",
       "\t  var _comscore = _comscore || [];\n",
       "\t  _comscore.push({ c1: \"2\", c2: \"18271341\" });\n",
       "\t  (function() {\n",
       "\t    var s = document.createElement(\"script\"), el = document.getElementsByTagName(\"script\")[0]; s.async = true;\n",
       "\t    s.src = (document.location.protocol == \"https:\" ? \"https://sb\" : \"http://b\") + \".scorecardresearch.com/beacon.js\";\n",
       "\t    el.parentNode.insertBefore(s, el);\n",
       "\t  })();\n",
       "\t</script>\n",
       "<noscript>\n",
       "<img src=\"http://b.scorecardresearch.com/p?c1=2&amp;c2=18271341&amp;cv=2.0&amp;cj=1\"/>\n",
       "</noscript>\n",
       "<!-- End comScore Tag -->\n",
       "</head>\n",
       "<body class=\"vip\">\n",
       "<div id=\"wrap\">\n",
       "<div>\n",
       "<a class=\"nav-collapse ga_tracking\" data-action=\"home\" data-category=\"MWEB_header\" data-label=\"選單按鈕\"><i class=\"icon icon-menu-btn\"></i></a>\n",
       "<div class=\"touchmenu\">\n",
       "<label for=\"trigger\"><i class=\"icon icon-menu-btn\"></i></label>\n",
       "</div>\n",
       "<input class=\"trigger\" id=\"trigger\" type=\"checkbox\"/>\n",
       "<div class=\"touch-screen-mask\"></div>\n",
       "<div class=\"nav-collapse\">\n",
       "<ul>\n",
       "<li class=\"label\">推薦區域</li>\n",
       "<li><a class=\"ga_tracking\" data-action=\"backhome\" data-category=\"MWEB_header\" data-label=\"愛評首頁\" href=\"/\">愛評網首頁</a></li>\n",
       "<li><a class=\"ga_tracking\" data-action=\"flashbuychannels\" data-category=\"MWEB_header\" data-label=\"超殺閃購任你挑\" href=\"http://service.ipeen.com.tw/flash_buy/\">超殺閃購任你挑</a></li>\n",
       "<li class=\"label\">編輯推薦</li>\n",
       "<li><a class=\"ga_tracking\" data-action=\"search_benefit\" data-category=\"MWEB_header\" data-label=\"精選特輯\" href=\"/touch/focus.php\">精選特輯</a></li>\n",
       "<li><a class=\"ga_tracking\" data-action=\"search_benefit\" data-category=\"MWEB_header\" data-label=\"愛評賞味報\" href=\"http://content.ipeen.com.tw/tastenews/tastenews/index?m=1\">愛評賞味報</a></li>\n",
       "<li><a class=\"ga_tracking\" data-action=\"search_benefit\" data-category=\"MWEB_header\" data-label=\"愛評體驗團\" href=\"http://content.ipeen.com.tw/exptour/article/index?m=1\">愛評體驗團</a></li>\n",
       "<li><a class=\"ga_tracking\" data-action=\"search_benefit\" data-category=\"MWEB_header\" data-label=\"媒體報導\" href=\"/touch/media.php\">媒體報導</a></li>\n",
       "<li class=\"label\">查詢愛評優惠</li>\n",
       "<li><a class=\"ga_tracking\" data-action=\"search_benefit\" data-category=\"MWEB_header\" data-label=\"愛吃閃購\" href=\"/touch/search.php?ia=taiwan&amp;coupon=90\">愛吃閃購</a></li>\n",
       "<li><a class=\"ga_tracking\" data-action=\"search_benefit\" data-category=\"MWEB_header\" data-label=\"賺KoKo\" href=\"/touch/search.php?ia=taiwan&amp;coupon=20\">賺KoKo回饋金</a></li>\n",
       "<li><a class=\"ga_tracking\" data-action=\"search_benefit\" data-category=\"MWEB_header\" data-label=\"花KoKo\" href=\"/touch/search.php?ia=taiwan&amp;coupon=80\">花KoKo回饋金</a></li>\n",
       "<li><a class=\"ga_tracking\" data-action=\"search_benefit\" data-category=\"MWEB_header\" data-label=\"愛評會員福利\" href=\"/touch/search.php?ia=taiwan&amp;coupon=10\">愛評會員福利</a></li>\n",
       "<li class=\"label\">登入/登出</li>\n",
       "<li><a class=\"ga_tracking\" data-action=\"login\" data-category=\"MWEB_header\" data-label=\"登入\" href=\"/touch/login.php?next=\">愛評會員登入</a></li>\n",
       "<li><a class=\"fb-login i ga_tracking\" data-action=\"loginbyfacebook\" data-category=\"MWEB_header\" data-label=\"facebook登入\" href=\"#\">透過Facebook會員登入</a></li>\n",
       "<li><a class=\"ga_tracking\" data-action=\"loginbyyahoo\" data-category=\"MWEB_header\" data-label=\"yahoo登入\" href=\"/login/yahoo_auth.php?login=1&amp;next=\">透過Yahoo!登入</a></li>\n",
       "<li><a class=\"ga_tracking\" data-action=\"loginbyboss\" data-category=\"MWEB_header\" data-label=\"合作商家登入\" href=\"/premium/login.php\">合作店家登入</a></li>\n",
       "<li><a class=\"ga_tracking\" data-action=\"register\" data-category=\"MWEB_header\" data-label=\"註冊\" href=\"/register/\">註冊</a></li>\n",
       "</ul>\n",
       "</div>\n",
       "<header>\n",
       "<div class=\"navbar\">\n",
       "<a class=\"logo ga_tracking\" data-action=\"back\" data-category=\"MWEB_header\" data-label=\"上一頁\" href=\"javascript:history.back()\" title=\"iPeen 愛評網\"> </a>\n",
       "<div class=\"large-logo\">\n",
       "<a class=\"ga_tracking\" data-action=\"backhome\" data-category=\"MWEB_header\" data-label=\"愛評首頁\" href=\"http://www.ipeen.com.tw/\"><h1>\n",
       "<img alt=\"iPeen愛評網\" src=\"/images/touch/ipeen-logo.png\" title=\"iPeen愛評網\"/></h1>\n",
       "</a>\n",
       "</div>\n",
       "</div>\n",
       "</header>\n",
       "<article class=\"shop-page\" data-discount=\"\" data-hasflashbuy=\"0\" data-precise=\"0\" data-sid=\"33714\" itemid=\"http://www.ipeen.com.tw/touch/shop.php?id=33714\" itemscope=\"\" itemtype=\"http://schema.org/LocalBusiness\">\n",
       "<meta content=\"【咖啡弄】台北市優質咖啡輕食館\n",
       "咖啡弄忠孝店為咖啡弄創始本店，當初因位於101巷小弄旁轉角，弄字\n",
       "又有玩弄美食之意，故取名為咖啡弄。忠孝店之初僅有今日一半大\n",
       "小，於2008年擴店整修，成為今日店中央為出餐內場，四周為座位區\n",
       "的室內環境。2012年三月，進行第二次整修\" itemprop=\"description\"/>\n",
       "<meta content=\"269\" itemprop=\"priceRange\"/>\n",
       "<div itemprop=\"address\" itemscope=\"\" itemtype=\"http://schema.org/PostalAddress\">\n",
       "<meta content=\"台北市\" itemprop=\"addressLocality\"/>\n",
       "<meta content=\"大安區\" itemprop=\"addressRegion\"/>\n",
       "<meta content=\"106\" itemprop=\"postalcode\"/>\n",
       "<meta content=\"忠孝東路四段101巷45號\" itemprop=\"streetAddress\"/>\n",
       "</div>\n",
       "<!-- Content -->\n",
       "<div id=\"shop-header\">\n",
       "<!--店家名稱-->\n",
       "<h2><a href=\"../touch/shop.php?id=33714\">\n",
       "<span itemprop=\"name\">咖啡弄</span>\n",
       "</a>\n",
       "<span class=\"icon icon-shop-close-small\"> </span>\n",
       "</h2>\n",
       "<!--店家大門照，若沒有則顯示預設照片-->\n",
       "<img itemprop=\"image\" src=\"http://iphoto.ipeen.com.tw/photo/ipeen/140x140/vip/4/1/7/store_33714/sp33714_20170113154455611.jpg\"/>\n",
       "<ul>\n",
       "<li itemprop=\"aggregateRating\" itemscope=\"\" itemtype=\"http://schema.org/AggregateRating\"><span class=\"rating\">綜合評分：</span>\n",
       "<span class=\"score-bar star\">\n",
       "<meter max=\"50\" min=\"0\" value=\"45\">\n",
       "<span itemprop=\"ratingValue\">45</span>\n",
       "                /\n",
       "                <span itemprop=\"bestRating\">50</span>\n",
       "</meter>\n",
       "<i class=\"s-45\"></i>\n",
       "</span>\n",
       "<span class=\"rating-num\" itemprop=\"ratingCount\">(246 評)</span>\n",
       "<meta content=\"0\" itemprop=\"worstRating\"/>\n",
       "</li>\n",
       "<li><span class=\"rating\">我的評分：</span>\n",
       "<span class=\"score-bar red-star\">\n",
       "<meter max=\"50\" min=\"0\" value=\"0\">\n",
       "<span>0</span>\n",
       "                /\n",
       "                <span>50</span>\n",
       "</meter>\n",
       "<i class=\"s-0\"></i>\n",
       "</span>\n",
       "</li>\n",
       "<li>平均消費：269</li>\n",
       "<li>甜點專賣</li>\n",
       "<li class=\"certifcate-container\">\n",
       "<span class=\"certifcate\">店家認證</span>\n",
       "</li>\n",
       "<li class=\"contact\">\n",
       "<a class=\"icon icon-phone ga_tracking\" data-action=\"phone\" data-category=\"MWEB_shop\" data-label=\"上方基本資訊-電話\" href=\"tel:02-2711-1912\">\n",
       "                    電話：<span itemprop=\"telephone\">02-2711-1912</span>\n",
       "</a>\n",
       "</li>\n",
       "<li class=\"contact\">\n",
       "<a class=\"icon icon-address ga_tracking\" data-action=\"address\" data-category=\"MWEB_shop\" data-label=\"上方基本資訊-住址\" href=\"http://maps.google.com/maps?q=台北市台北市大安區忠孝東路四段101巷45號\">\n",
       "                    地址：<span id=\"addr\"></span>\n",
       "</a>\n",
       "</li>\n",
       "<li class=\"contact\">\n",
       "<a class=\"icon icon-menu ga_tracking\" data-action=\"menu\" data-category=\"MWEB_shop\" data-label=\"上方基本資訊-菜單\" href=\"../touch/menu.php?id=33714\">\n",
       "                   菜單：瀏覽店家菜單                </a>\n",
       "</li>\n",
       "<li class=\"contact\">\n",
       "<a class=\"icon icon-error\" href=\"/report/?type=3&amp;v=s&amp;to_id=33714\">\n",
       "                資料報錯／更新</a>\n",
       "</li>\n",
       "</ul>\n",
       "</div>\n",
       "<div class=\"panel tab-group\" id=\"action-btn\">\n",
       "<div class=\"tabs\">\n",
       "<ul>\n",
       "<li>\n",
       "<a class=\"icon icon-score ga_tracking\" data-action=\"action\" data-category=\"MWEB_shop\" data-label=\"X過\" data-login=\"\" href=\"javascript:document.location.replace('https://api.ipeen.com.tw/review/userReview/reviewPage?s_id=33714');\" id=\"btn-score\">評分</a>\n",
       "</li>\n",
       "<li>\n",
       "<a class=\"icon icon-favourite ga_tracking\" data-action=\"collect\" data-category=\"MWEB_shop\" data-has=\"\" data-id=\"33714\" data-label=\"收藏\" data-login=\"\" data-msg=\"收藏\" data-notified=\"\" data-type=\"1\" href=\"javascript:void(0);\" id=\"btn-collect\">收藏</a>\n",
       "</li>\n",
       "<li><a class=\"icon icon-facebook ga_tracking\" data-action=\"share\" data-category=\"MWEB_shop\" data-label=\"分享\" href=\"javascript: void(window.open('http://www.facebook.com/share.php?u='.concat(encodeURIComponent(location.href)) ));\" id=\"btn-facebook\">分享</a></li>\n",
       "</ul>\n",
       "</div>\n",
       "</div>\n",
       "<div id=\"discount\"></div>\n",
       "<div class=\"panel\" id=\"comment\">\n",
       "<h3>會員分享文(共206 篇)</h3>\n",
       "<div class=\"swiper-container swiper1\">\n",
       "<div class=\"swiper-wrapper\">\n",
       "<div class=\"swiper-slide\" itemprop=\"review\" itemscope=\"\" itemtype=\"http://schema.org/Review\"><a class=\"ga_tracking\" data-action=\"cmm1\" data-category=\"MWEB_shop\" data-label=\"花花，甲飽沒【台北食記】終於在台灣吃到龍蝦堡了！每口都是Ｑ彈龍蝦肉實在超奢侈！咖啡弄忠孝店\" href=\"../touch/comment.php?id=1008484\" itemprop=\"discussionUrl url\"><img class=\"avatar\" src=\"http://iphoto.ipeen.com.tw/photo/usr/601002/413987_120.jpg\"/><p class=\"name\" itemprop=\"author\">花花，甲飽沒</p><p class=\"pubdate\" itemprop=\"dateCreated datePublished\">2016-03-19 21:45:06</p><h1>花花，甲飽沒【台北食記】終於在台灣吃到龍蝦堡了！每口都是Ｑ彈龍蝦肉實在超奢侈！咖啡弄忠孝店</h1><p class=\"cmm_short_desc\" itemprop=\"description\">終於在台灣吃到龍蝦堡了！每口都是Ｑ彈龍蝦肉，說多奢侈就有多奢侈啊</p><div class=\"box\"><img class=\"photo\" src=\"http://iphoto.ipeen.com.tw/photo/comment/201603/cgm25e11e8df303bed011d1b65452f60a78239.jpg\"/></div></a></div><div class=\"swiper-slide\" itemprop=\"review\" itemscope=\"\" itemtype=\"http://schema.org/Review\"><a class=\"ga_tracking\" data-action=\"cmm2\" data-category=\"MWEB_shop\" data-label=\"【忠孝敦化站】東區下午茶 咖啡弄~2016新登場 墨爾本龍蝦堡 豉汁排骨飯\" href=\"../touch/comment.php?id=997426\" itemprop=\"discussionUrl url\"><img class=\"avatar\" src=\"http://iphoto.ipeen.com.tw/photo/usr/420529/258594_120.jpg\"/><p class=\"name\" itemprop=\"author\">i-funny艾方妮</p><p class=\"pubdate\" itemprop=\"dateCreated datePublished\">2016-02-24 23:11:05</p><h1>【忠孝敦化站】東區下午茶 咖啡弄~2016新登場 墨爾本龍蝦堡 豉汁排骨飯</h1><p class=\"cmm_short_desc\" itemprop=\"description\"> 咖啡弄成立於2006年，一直以來是台北咖啡輕食下午茶的指標餐廳， 除了台北有五家分店之外，在香港銅鑼灣及尖沙咀也有設立分店。 2016年台北忠孝店推出限量</p><div class=\"box\"><img class=\"photo\" src=\"http://iphoto.ipeen.com.tw/photo/comment/420529/997426/cgm1c39d6f5193230938e34d96410592463798.jpg\"/></div></a></div><div class=\"swiper-slide\" itemprop=\"review\" itemscope=\"\" itemtype=\"http://schema.org/Review\"><a class=\"ga_tracking\" data-action=\"cmm3\" data-category=\"MWEB_shop\" data-label=\"【忠孝復興站 美食】『咖啡弄(忠孝店) 』巷弄咖啡飄香大排長籠 道道精彩 限店 限量龍蝦堡 豉汁排骨飯 優格冰淇淋水果千層盒（文末免費請您吃）\" href=\"../touch/comment.php?id=996344\" itemprop=\"discussionUrl url\"><img class=\"avatar\" src=\"http://iphoto.ipeen.com.tw/photo/usr/129677/usr129677_120.jpg\"/><p class=\"name\" itemprop=\"author\">龜毛麗</p><p class=\"pubdate\" itemprop=\"dateCreated datePublished\">2016-02-22 21:20:00</p><h1>【忠孝復興站 美食】『咖啡弄(忠孝店) 』巷弄咖啡飄香大排長籠 道道精彩 限店 限量龍蝦堡 豉汁排骨飯 優格冰淇淋水果千層盒（文末免費請您吃）</h1><p class=\"cmm_short_desc\" itemprop=\"description\">  台北東區商圈，下午茶、鬆餅首選！ 不管甜鹹，每道都精彩！ 限店/限量龍蝦堡、豉汁排骨飯、優格冰淇淋水果千層盒，好看又好吃！ 現在，您也有機會吃到喔！ 重</p><div class=\"box\"><img class=\"photo\" src=\"http://iphoto.ipeen.com.tw/photo/comment/201602/cgmfa643ed7a163d8c2b0af0b478ebba336598.jpg\"/></div></a></div><div class=\"swiper-slide\" itemprop=\"review\" itemscope=\"\" itemtype=\"http://schema.org/Review\"><a class=\"ga_tracking\" data-action=\"cmm4\" data-category=\"MWEB_shop\" data-label='我在『咖啡弄(忠孝店)』吃排骨飯/鬆餅/龍蝦堡/東區下午茶\"捷運忠孝復興站\"' href=\"../touch/comment.php?id=992764\" itemprop=\"discussionUrl url\"><img class=\"avatar\" src=\"http://iphoto.ipeen.com.tw/photo/usr/100408/200954_120.jpg\"/><p class=\"name\" itemprop=\"author\">沙拉公主</p><p class=\"pubdate\" itemprop=\"dateCreated datePublished\">2016-02-15 12:00:05</p><h1>我在『咖啡弄(忠孝店)』吃排骨飯/鬆餅/龍蝦堡/東區下午茶\"捷運忠孝復興站\"</h1><p class=\"cmm_short_desc\" itemprop=\"description\">年初四很多服務業都開工了，知名鬆餅下午茶餐廳『咖啡弄』也在今天開工，沙拉就來跟大家湊個熱鬧開工大吉 『咖啡弄(忠孝店)』位在捷運忠孝復興站步</p><div class=\"box\"><img class=\"photo\" src=\"http://iphoto.ipeen.com.tw/photo/comment/100408/992764/cm20160211___7a4e7fab8c351ca0ba95ce32694ca021825.jpg\"/></div></a></div><div class=\"swiper-slide\" itemprop=\"review\" itemscope=\"\" itemtype=\"http://schema.org/Review\"><a class=\"ga_tracking\" data-action=\"cmm5\" data-category=\"MWEB_shop\" data-label=\"【台北好吃】咖啡弄 新菜單哦!  東區下午茶/忠孝本店限定菜色\" href=\"../touch/comment.php?id=992328\" itemprop=\"discussionUrl url\"><img class=\"avatar\" src=\"http://iphoto.ipeen.com.tw/photo/usr/767854/488314_120.jpg\"/><p class=\"name\" itemprop=\"author\">T漁先生(Tony)</p><p class=\"pubdate\" itemprop=\"dateCreated datePublished\">2016-02-14 11:14:36</p><h1>【台北好吃】咖啡弄 新菜單哦!  東區下午茶/忠孝本店限定菜色</h1><p class=\"cmm_short_desc\" itemprop=\"description\"> 咖啡弄 從台北東區開始，在台北、香港已經有多家分店 餐點都有不錯好評 最近又出了新的菜單 趕緊來吃吃看~   咖啡弄 忠孝本店 02 2711 1912  台</p><div class=\"box\"><img class=\"photo\" src=\"http://iphoto.ipeen.com.tw/photo/comment/201602/cgm9701b86551b0290c04e33e8120942d00380.jpg\"/></div></a></div>\n",
       "</div>\n",
       "</div>\n",
       "<a class=\"arrow-left ga_tracking\" data-action=\"cmm-last\" data-category=\"MWEB_shop\" data-label=\"上一篇\" href=\"#\">上一篇</a>\n",
       "<a class=\"arrow-right ga_tracking\" data-action=\"cmm-next\" data-category=\"MWEB_shop\" data-label=\"下一篇\" href=\"#\">下一篇</a>\n",
       "<div class=\"pagination pagination1\"></div>\n",
       "<a class=\"btn ga_tracking\" data-action=\"comment-more\" data-category=\"MWEB_shop\" data-label=\"分享文-觀看更多會員分享文\" href=\"cmmList.php?id=33714\">觀看更多會員分享文</a>\n",
       "</div>\n",
       "<div id=\"compass-fit-4270079\"></div>\n",
       "<script charset=\"UTF-8\">\n",
       "          (function(){\n",
       "            var _lgy_lw = document.createElement(\"script\");\n",
       "            _lgy_lw.type = \"text/javascript\";\n",
       "            _lgy_lw.charset = \"UTF-8\";\n",
       "            _lgy_lw.async = true;\n",
       "            _lgy_lw.src= ((\"https:\" == document.location.protocol) ? \"https://\" : \"http://\")+\"nt.compass-fit.jp/lift_widget.js?adspot_id=4270079\";\n",
       "            var _lgy_lw_0 = document.getElementsByTagName(\"script\")[0];\n",
       "            _lgy_lw_0.parentNode.insertBefore(_lgy_lw, _lgy_lw_0);\n",
       "          })();\n",
       "        </script>\n",
       "<div class=\"panel\" id=\"checkin\">\n",
       "<h3>即時愛評(共11篇)</h3>\n",
       "<a class=\"ga_tracking\" data-action=\"checkin1\" data-category=\"MWEB_shop\" data-label=\"王子的公主 @咖啡弄\" href=\"/touch/checkin.php?id=213388\"><div class=\"content\"><img src=\"http://iphoto.ipeen.com.tw/photo/usr/1335830/girl_200.jpg\"/><p>王子的公主(2016-02-21 19:14:19)</p><p>王子的公主 @咖啡弄</p></div></a><a class=\"ga_tracking\" data-action=\"checkin2\" data-category=\"MWEB_shop\" data-label=\"國王公主美杜沙 @咖啡弄\" href=\"/touch/checkin.php?id=192220\"><div class=\"content\"><img src=\"http://iphoto.ipeen.com.tw/photo/usr/449714/204741_200.jpg\"/><p> 婷婷(2015-11-07 10:49:52)</p><p>國王公主美杜沙 @咖啡弄</p></div></a> <a class=\"btn ga_tracking\" data-action=\"checkin-more\" data-category=\"MWEB_shop\" data-label=\"即時愛評-觀看更多即時愛評\" href=\"chkList.php?id=33714\">觀看更多即時愛評</a>\n",
       "</div>\n",
       "<div class=\"panel tab-group\" id=\"photo\">\n",
       "<ul class=\"tabs\">\n",
       "<li><a class=\"selected ga_tracking\" data-action=\"shop_photo_table\" data-category=\"MWEB_shop\" data-label=\"店家照片頁籤\" href=\"#photo1\" id=\"tab-shop\">店家照片</a></li>\n",
       "<li><a class=\"ga_tracking\" data-action=\"cmm_photo_table\" data-category=\"MWEB_shop\" data-label=\"分享文照片頁籤\" href=\"#photo2\" id=\"tab-comment\">分享文照片</a></li>\n",
       "<li><a class=\"ga_tracking\" data-action=\"checkin_photo_table\" data-category=\"MWEB_shop\" data-label=\"即時愛評照片頁籤\" href=\"#photo3\" id=\"tab-checkin\">即時愛評照片</a></li>\n",
       "</ul>\n",
       "<div class=\"tab-content\" id=\"photo1\">\n",
       "<div class=\"no-data\" id=\"photo-shop\">\n",
       "<p class=\"photo-status\">讀取資料中...<i class=\"icon-loading\"></i></p>\n",
       "<a class=\"hide ga_tracking\" data-action=\"shop_photo_null\" data-category=\"MWEB_shop\" data-label=\"我是老闆 上傳照片\" href=\"/premium/login.php\" id=\"has_shop_photo\">(我是老闆，想要上傳照片)</a>\n",
       "</div>\n",
       "</div>\n",
       "<div class=\"tab-content\" id=\"photo2\">\n",
       "<div class=\"no-data\" id=\"photo-comment\">\n",
       "<p class=\"photo-status\">讀取資料中...<i class=\"icon-loading\"></i></p>\n",
       "</div>\n",
       "<a class=\"btn ga_tracking\" data-action=\"cmm_photo_more\" data-category=\"MWEB_shop\" data-label=\"分享文照片-觀看更多照片\" href=\"../touch/album.php?id=33714&amp;ptype=2&amp;k=0\">觀看更多照片</a>\n",
       "</div>\n",
       "<div class=\"tab-content\" id=\"photo3\">\n",
       "<div class=\"no-data\" id=\"photo-checkin\">\n",
       "<p class=\"photo-status\">讀取資料中...<i class=\"icon-loading\"></i></p>\n",
       "</div>\n",
       "<a class=\"btn ga_tracking\" data-action=\"checkin_photo_more\" data-category=\"MWEB_shop\" data-label=\"即時愛評照片-觀看更多照片\" href=\"../touch/album.php?id=33714&amp;ptype=3&amp;k=0\">觀看更多照片</a>\n",
       "</div>\n",
       "</div>\n",
       "<div class=\"panel tab-group\" id=\"detail\">\n",
       "<ul class=\"tabs\">\n",
       "<li><a class=\"selected ga_tracking\" data-action=\"details_table\" data-category=\"MWEB_shop\" data-label=\"詳細資訊頁籤\" href=\"#shop-info\">詳細資訊</a></li>\n",
       "<li><a class=\"ga_tracking\" data-action=\"feature_table\" data-category=\"MWEB_shop\" data-label=\"特色頁籤\" href=\"#feature\">特色</a></li>\n",
       "</ul>\n",
       "<div class=\"tab-content shop-info\" id=\"shop-info\">\n",
       "<table>\n",
       "<tr>\n",
       "<th>商家名稱</th>\n",
       "<td>咖啡弄(忠孝店)                </td>\n",
       "</tr>\n",
       "<tr>\n",
       "<th>電話</th>\n",
       "<td>\n",
       "<a class=\"ga_tracking\" data-action=\"details_phone\" data-category=\"MWEB_shop\" data-label=\"詳細資訊-電話\" href=\"tel:02-2711-1912\">02-2711-1912</a> </td>\n",
       "</tr>\n",
       "<tr>\n",
       "<th>地址</th>\n",
       "<td>台北市大安區忠孝東路四段101巷45號            \n",
       "                                            <a href=\"../touch/traffic.php?id=33714\"><p>(詳細交通資訊)</p></a>\n",
       "</td>\n",
       "</tr>\n",
       "<tr>\n",
       "<th>捷運資訊</th>\n",
       "<td>近台北市捷運 - 板南線 - 忠孝敦化站 (步行約6分鐘)<br/></td>\n",
       "</tr>\n",
       "<tr>\n",
       "<th>公休日</th>\n",
       "<td>無</td>\n",
       "</tr>\n",
       "<tr>\n",
       "<th>營業時間</th>\n",
       "<td>\n",
       "                    今日 <span>12:00~23:00</span> <a class=\"business-hour-show-all\" href=\"#\">顯示全部</a>\n",
       "<div class=\"business-hour-pannel\">\n",
       "<div class=\"business-hour-detail hide\">\n",
       "<table>\n",
       "<tr class=\"today\">\n",
       "<th>週一</th>\n",
       "<td>\n",
       "                                                                                      12:00~23:00                                                      </td>\n",
       "</tr>\n",
       "<tr class=\"\">\n",
       "<th>週二</th>\n",
       "<td>\n",
       "                                                                                      12:00~23:00                                                      </td>\n",
       "</tr>\n",
       "<tr class=\"\">\n",
       "<th>週三</th>\n",
       "<td>\n",
       "                                                                                      12:00~23:00                                                      </td>\n",
       "</tr>\n",
       "<tr class=\"\">\n",
       "<th>週四</th>\n",
       "<td>\n",
       "                                                                                      12:00~23:00                                                      </td>\n",
       "</tr>\n",
       "<tr class=\"\">\n",
       "<th>週五</th>\n",
       "<td>\n",
       "                                                                                      12:00~23:00                                                      </td>\n",
       "</tr>\n",
       "<tr class=\"\">\n",
       "<th>週六</th>\n",
       "<td>\n",
       "                                                                                      12:00~23:00                                                      </td>\n",
       "</tr>\n",
       "<tr class=\"\">\n",
       "<th>週日</th>\n",
       "<td>\n",
       "                                                                                      12:00~23:00                                                      </td>\n",
       "</tr>\n",
       "</table>\n",
       "</div></div>\n",
       "</td>\n",
       "</tr>\n",
       "<tr>\n",
       "<th>補充說明</th>\n",
       "<td>最後點餐時間：22:00</td>\n",
       "</tr>\n",
       "<tr>\n",
       "<th>席       位</th>\n",
       "<td>50                </td>\n",
       "</tr>\n",
       "<tr>\n",
       "<th>可否刷卡</th>\n",
       "<td>\n",
       "                        不可                    </td>\n",
       "</tr>\n",
       "<tr>\n",
       "<th>官方網站</th>\n",
       "<td class=\"shop-url\"><a class=\"ga_tracking\" data-action=\"details_web\" data-category=\"MWEB_shop\" data-label=\"詳細資訊-官方網站\" href=\"http://www.coffee-alley.com.tw\">http://www.coffee-alley.com.tw</a></td>\n",
       "</tr>\n",
       "<tr><th>推 薦 菜</th><td>\n",
       "<a class=\"ga_tracking\" data-action=\"details_recommend\" data-category=\"MWEB_shop\" data-label=\"詳細資訊-推薦菜\" href=\"/search/all/000/0-100-0-0/草莓冰淇淋鬆餅/\">草莓冰淇淋鬆餅(94)</a>  <a class=\"ga_tracking\" data-action=\"details_recommend\" data-category=\"MWEB_shop\" data-label=\"詳細資訊-推薦菜\" href=\"/search/all/000/0-100-0-0/鬆餅/\">鬆餅(32)</a>  <a class=\"ga_tracking\" data-action=\"details_recommend\" data-category=\"MWEB_shop\" data-label=\"詳細資訊-推薦菜\" href=\"/search/all/000/0-100-0-0/總匯三明治/\">總匯三明治(27)</a>  <a class=\"ga_tracking\" data-action=\"details_recommend\" data-category=\"MWEB_shop\" data-label=\"詳細資訊-推薦菜\" href=\"/search/all/000/0-100-0-0/BBQ豬排三明治/\">BBQ豬排三明治(17)</a>  <a class=\"ga_tracking\" data-action=\"details_recommend\" data-category=\"MWEB_shop\" data-label=\"詳細資訊-推薦菜\" href=\"/search/all/000/0-100-0-0/鮮果茶/\">鮮果茶(17)</a>                          </td></tr>\n",
       "<tr><th>分類標籤</th><td>\n",
       "<a class=\"ga_tracking\" data-action=\"details_tag\" data-category=\"MWEB_shop\" data-label=\"詳細資訊-分類標籤\" href=\"/search/all/000/0-100-0-0/下午茶/\">下午茶(152)</a>  <a class=\"ga_tracking\" data-action=\"details_tag\" data-category=\"MWEB_shop\" data-label=\"詳細資訊-分類標籤\" href=\"/search/all/000/0-100-0-0/鬆餅/\">鬆餅(142)</a>  <a class=\"ga_tracking\" data-action=\"details_tag\" data-category=\"MWEB_shop\" data-label=\"詳細資訊-分類標籤\" href=\"/search/all/000/0-100-0-0/咖啡弄/\">咖啡弄(95)</a>  <a class=\"ga_tracking\" data-action=\"details_tag\" data-category=\"MWEB_shop\" data-label=\"詳細資訊-分類標籤\" href=\"/search/all/000/0-100-0-0/朋友聚會/\">朋友聚會(91)</a>  <a class=\"ga_tracking\" data-action=\"details_tag\" data-category=\"MWEB_shop\" data-label=\"詳細資訊-分類標籤\" href=\"/search/all/000/0-100-0-0/東區/\">東區(78)</a>                          </td></tr>\n",
       "</table>\n",
       "</div>\n",
       "<div class=\"tab-content shop-feature\" id=\"feature\">\n",
       "<ul class=\"group\"><li class=\"ga_tracking\" data-action=\"feature_area_1\" data-category=\"MWEB_shop\" data-label=\"特色區塊\"><img alt=\"\" src=\"http://iphoto.ipeen.com.tw/photo/shop2/4/1/7/store_33714/272x272/sb33714_20170113155107595.jpg\"/><i class=\"icon-expand\"></i><h6>香辣咖哩黑豚巧巴達</h6><p>自家磨製香料咖哩，搭配特選黑毛豬肉，內線豐滿如土石流般傾瀉滿盤，搭配咬勁十足的客製巧巴達麵包。</p></li></ul><ul class=\"group\"><li class=\"ga_tracking\" data-action=\"feature_area_1\" data-category=\"MWEB_shop\" data-label=\"特色區塊\"><img alt=\"\" src=\"http://iphoto.ipeen.com.tw/photo/shop2/4/1/7/store_33714/272x272/sb33714_20170113155118438.jpg\"/><i class=\"icon-expand\"></i><h6>咖啡弄精選餐飲</h6><p>咖啡弄精選餐飲</p></li></ul><ul class=\"group\"><li class=\"ga_tracking\" data-action=\"feature_area_1\" data-category=\"MWEB_shop\" data-label=\"特色區塊\"><img alt=\"\" src=\"http://iphoto.ipeen.com.tw/photo/shop2/4/1/7/store_33714/272x272/sb33714_20170113155131896.jpg\"/><i class=\"icon-expand\"></i><h6>繽紛莓果熱蛋糕</h6><p>繽紛莓果熱蛋糕</p></li></ul> </div>\n",
       "</div>\n",
       "<section class=\"float-shop-guide\">\n",
       "<a class=\"close ga_tracking\" data-action=\"maybe_buy_17Life\" data-category=\"MWEB_shop_buy\" data-label=\"優惠資訊-17Life模糊\" hred=\"#\">X</a>\n",
       "<p>你可能會喜歡...</p>\n",
       "</section>\n",
       "</article>\n",
       "<!-- 閃購蓋屏廣告 -->\n",
       "<footer>\n",
       "<div class=\"bt_small\" id=\"login\">\n",
       "<a class=\"blue ga_tracking\" data-action=\"login\" data-category=\"MWEB_footer\" data-label=\"登入\" href=\"/touch/login.php?next=\">登入</a>\n",
       "</div>\n",
       "<section>\n",
       "<div class=\"switch\"><a class=\"ga_tracking\" data-action=\"topc\" data-category=\"MWEB_footer\" data-label=\"電腦版\" href=\"/cgi/proc_touch_cookie.php\">電腦版首頁</a> | <a class=\"ga_tracking\" data-action=\"home_downloadAPP\" data-category=\"MWEB_home\" data-label=\"下載愛評生活通\" href=\"http://www.ipeen.com.tw/ad/adipeen.php?id=599ded527d1b25e2c89449a8bf254bca\">\n",
       "            下載愛評APP</a></div>\n",
       "</section>\n",
       "<h3 class=\"h1\">關注我們</h3>\n",
       "<section class=\"service\">\n",
       "<div class=\"footer_icon\"><a href=\"https://www.facebook.com/ipeen/\" target=\"view_window\"><img src=\"../../../images/frame/footer_icon04.png\"/></a></div>\n",
       "<div class=\"footer_icon\"><a href=\"https://line.me/ti/p/%40ntq4580m\" target=\"view_window\"><img src=\"../../../images/frame/footer_icon03.png\"/></a></div>\n",
       "<div class=\"footer_icon\"><a href=\"https://www.instagram.com/ipeen.com.tw/\" target=\"view_window\"><img src=\"../../../images/frame/footer_icon02.png\"/></a></div>\n",
       "<div class=\"footer_icon\"><a href=\"https://www.youtube.com/user/iPeenLife/\" target=\"view_window\"><img src=\"../../../images/frame/footer_icon01.png\"/></a></div>\n",
       "</section>\n",
       "<div class=\"copyright\">\n",
       "<a class=\"ga_tracking\" data-action=\"backhome\" data-category=\"MWEB_header\" data-label=\"愛評首頁\" href=\"http://www.ipeen.com.tw/\">\n",
       "<img alt=\"iPeen愛評網\" src=\"/images/touch/ipeen-logo.png\" title=\"iPeen愛評網\"/>\n",
       "</a>\n",
       "             © 2017  紅谷資訊 版權所有</div>\n",
       "</footer>\n",
       "</div>\n",
       "<script src=\"http://ajax.googleapis.com/ajax/libs/jquery/1.9.1/jquery.min.js\" type=\"text/javascript\"></script>\n",
       "<script src=\"http://code.jquery.com/ui/1.10.3/jquery-ui.js\"></script>\n",
       "<script src=\"/js/jquery/jquery.cookie.js\"></script>\n",
       "<script src=\"/js/ipeen/ipeen.js\"></script>\n",
       "<script src=\"/js/ui-object/ui-select/ui-select.js\"></script>\n",
       "<script src=\"/js/ui-object/ui-pressbutton/ui-pressbutton.js\"></script>\n",
       "<script src=\"/js/frame/facebook.js\"></script>\n",
       "<script src=\"/js/frame/common-actions.js\"></script>\n",
       "<script src=\"/js/facebook/common.js\"></script>\n",
       "<script src=\"/js/push/iPeenPush.js\"></script>\n",
       "<script src=\"/js/touch/frame/common.js\"></script>\n",
       "<script src=\"/js/touch/frame/addressCutter.js\"></script>\n",
       "<script src=\"/js/touch/frame/push-actions.js\"></script>\n",
       "<script>ipeen.batch(['write &sul= url'],['write &next= url'],['blockclick tracking init',null],['facebook init',{\"app_id\":\"156261592614\",\"set_fb_host\":\"\",\"fb_app_channel\":\"\",\"fb_app_session\":\"\"}],['get s_addr','台北市大安區忠孝東路四段101巷45號']);</script>\n",
       "<script src=\"/js/touch/3rd-party/idangerous.swiper.js\" type=\"text/javascript\"></script>\n",
       "<script src=\"/js/touch/shop/shop-action.js?update=20151201\" type=\"text/javascript\"></script>\n",
       "<script>\n",
       "!function(d,s,id){\n",
       "\twindow.twttr = (function (d,s,id) {\n",
       "\t\tvar t, js, fjs = d.getElementsByTagName(s)[0];\n",
       "\t\tif (d.getElementById(id)) return; js=d.createElement(s); js.id=id;\n",
       "\t\tjs.src=\"//platform.twitter.com/widgets.js\"; fjs.parentNode.insertBefore(js, fjs);\n",
       "\t\treturn window.twttr || (t = { _e: [], ready: function(f){ t._e.push(f) } });\n",
       "\t}(document, \"script\", \"twitter-wjs\"));\n",
       "}(document,\"script\",\"twitter-wjs\");\n",
       "\n",
       "function trackTwitter(intent_event) {\n",
       "\tif (intent_event) {\n",
       "\t\tvar opt_pagePath;\n",
       "\t\tif (intent_event.target && intent_event.target.nodeName == 'IFRAME') {\n",
       "\t\t\topt_target = extractParamFromUri(intent_event.target.src, 'url');\n",
       "\t\t}\n",
       "\t\tga('send', 'social', 'twitter', 'tweet', opt_pagePath);\n",
       "\t}\n",
       "}\n",
       "\n",
       "//Wrap event bindings - Wait for async js to load\n",
       "twttr.ready(function (twttr) {\n",
       "\t//event bindings\n",
       "\ttwttr.events.bind('tweet', trackTwitter);\n",
       "});\n",
       "\n",
       "function extractParamFromUri(uri, paramName) {\n",
       "\tif (!uri) {\n",
       "\t\treturn;\n",
       "\t}\n",
       "\tvar regex = new RegExp('[\\\\?&#]' + paramName + '=([^&#]*)');\n",
       "\tvar params = regex.exec(uri);\n",
       "\tif (params != null) {\n",
       "\t\treturn unescape(params[1]);\n",
       "\t}\n",
       "\treturn;\n",
       "}\n",
       "</script>\n",
       "<script src=\"http://track.sitetag.us/tracking.js?hash=32c91352f8246775a18dd6a529167bbf\" type=\"text/javascript\"></script>\n",
       "<script src=\"/js/sitebro.js\" type=\"text/javascript\"></script>\n",
       "<script type=\"text/javascript\">\n",
       "(function($) {\n",
       "$(document).on(\"click\", \".ga_tracking\", function(event) {\n",
       "    var me = $(this);\n",
       "    ga('send', 'event', me.attr('data-category'), me.attr('data-action'), me.attr('data-label'));\n",
       "});\n",
       "})(jQuery);\n",
       "</script>\n",
       "<!--Cymmetrics Code-->\n",
       "<script class=\"Cym_dmp_tag\" type=\"text/javascript\">\n",
       "var ipeen_uid = 0;\n",
       "var cy_src = 'pt.cymmetrics.com.tw/acjs/cyd_iPeen.js'\n",
       "var cym_ct = document.createElement('script');\n",
       "var src = (location.protocol == 'https:') ? 'https://' : 'http://';\n",
       "cym_ct.setAttribute('src',src+cy_src); cym_ct.charset = 'utf-8';\n",
       "var cym_cts = document.getElementsByTagName('script')[0];\n",
       "cym_cts.parentNode.insertBefore(cym_ct, cym_cts);\n",
       "</script>\n",
       "<!--end of Cymmetrics Code-->\n",
       "<script src=\"/js/analytics/analytics.js\" type=\"text/javascript\"></script>\n",
       "<!-- Start Alexa Certify Javascript -->\n",
       "<script type=\"text/javascript\">\n",
       "_atrk_opts = { atrk_acct:\"FtYQh1aUXR00gV\", domain:\"ipeen.com.tw\",dynamic: true};\n",
       "(function() { var as = document.createElement('script'); as.type = 'text/javascript'; as.async = true; as.src = \"https://d31qbv1cthcecs.cloudfront.net/atrk.js\"; var s = document.getElementsByTagName('script')[0];s.parentNode.insertBefore(as, s); })();\n",
       "</script>\n",
       "<noscript><img alt=\"\" height=\"1\" src=\"https://d5nxst8fruw4z.cloudfront.net/atrk.gif?account=FtYQh1aUXR00gV\" style=\"display:none\" width=\"1\"/></noscript>\n",
       "<!-- End Alexa Certify Javascript -->\n",
       "<script>\n",
       "(function(w, d, s, m) {\n",
       "var f = d.getElementsByTagName('script')[0],\n",
       "j = d.createElement('script'),\n",
       "ns = 'APPIER_RETARGET';\n",
       "w._appierSendQueue = [];\n",
       "w['appierRetargetJson'] = { id: s, site: m};\n",
       "j.async = true;\n",
       "j.src = '//d17m68fovwmgxj.cloudfront.net/js/rt/track.js';\n",
       "f.parentNode.insertBefore(j, f);\n",
       "!w[ns] && (w[ns] = {});\n",
       "(!w[ns].send) && (w[ns].send = function(j){\n",
       "    w._appierSendQueue.push(j);\n",
       "});\n",
       "})(window, document, 'VOH6','ipeen.com.tw');\n",
       "</script>\n",
       "</div></body>\n",
       "</html>\n",
       "<!-- 0.823659 D03/0 -->"
      ]
     },
     "execution_count": 21,
     "metadata": {},
     "output_type": "execute_result"
    }
   ],
   "source": [
    "soup_restaurant_information"
   ]
  },
  {
   "cell_type": "code",
   "execution_count": 79,
   "metadata": {
    "collapsed": false
   },
   "outputs": [
    {
     "name": "stdout",
     "output_type": "stream",
     "text": [
      "有分享\n",
      "1\n",
      "1\n",
      "http://www.ipeen.com.tw/touch/cmmList.php?p=1&id=1071950\n"
     ]
    }
   ],
   "source": [
    "#判斷是否有食記分享\n",
    "if soup_restaurant_information.find('div', {'id': 'comment'}):    \n",
    "    print('有分享')    \n",
    "    #取得總共有幾篇\n",
    "    pre_comment_number_str = soup_restaurant_information.find('div', {'id': 'comment'}).h3.text\n",
    "    def numberRepl(matchobj):\n",
    "        return matchobj.group(2)\n",
    "    comment_number = int(re.sub('(會員分享文\\(共)(\\d+)( 篇\\))',numberRepl ,pre_comment_number_str))\n",
    "    print(comment_number)\n",
    "    \n",
    "    #依照篇數，計算一共有幾頁\n",
    "    if comment_number <= 5:\n",
    "        int_page = 1\n",
    "        print(int_page)\n",
    "    elif comment_number %5 == 0:\n",
    "        int_page=int(comment_number/5)\n",
    "        print(int_page)\n",
    "    else:\n",
    "        int_page=int(comment_number/5)+1\n",
    "        print(int_page)\n",
    "    \n",
    "    #產生分享文列表的全部頁數的url\n",
    "    for i in range(1,int_page+1):\n",
    "        comment_page_url = 'http://www.ipeen.com.tw/touch/cmmList.php?p={}&id={}'.format(i, restaurant_id)\n",
    "        print(comment_page_url)\n",
    "        #restaurant_share(comment_page_url)\n",
    "else:\n",
    "    print('尚無分享')"
   ]
  },
  {
   "cell_type": "code",
   "execution_count": 16,
   "metadata": {
    "collapsed": false,
    "scrolled": true
   },
   "outputs": [
    {
     "data": {
      "text/plain": [
       "<div class=\"panel\" id=\"comment\">\n",
       "<h3>會員分享文(共1 篇)</h3>\n",
       "<div class=\"swiper-container swiper1\">\n",
       "<div class=\"swiper-wrapper\">\n",
       "<div class=\"swiper-slide\" itemprop=\"review\" itemscope=\"\" itemtype=\"http://schema.org/Review\"><a class=\"ga_tracking\" data-action=\"cmm1\" data-category=\"MWEB_shop\" data-label=\"紅葉蛋糕\" href=\"../touch/comment.php?id=129578\" itemprop=\"discussionUrl url\"><img class=\"avatar\" src=\"http://iphoto.ipeen.com.tw/photo/usr/59717/usr59717_120.jpg\"/><p class=\"name\" itemprop=\"author\">roschelle</p><p class=\"pubdate\" itemprop=\"dateCreated datePublished\">2010-08-25 15:24:23</p><h1>紅葉蛋糕</h1><p class=\"cmm_short_desc\" itemprop=\"description\">BB生日快樂!!!!因為BB的關係我們終於吃到久仰的紅葉蛋糕其實之前BB就想買給我吃可是那時候我每個月都吃好幾個蛋6吋蛋糕警覺到我也該要節制了就沒有讓BB作這種</p><div class=\"box\"><img src=\"/images/touch/default-photo.jpg\" width=\"100%;\"/></div></a></div>\n",
       "</div>\n",
       "</div>\n",
       "<a class=\"arrow-left ga_tracking\" data-action=\"cmm-last\" data-category=\"MWEB_shop\" data-label=\"上一篇\" href=\"#\">上一篇</a>\n",
       "<a class=\"arrow-right ga_tracking\" data-action=\"cmm-next\" data-category=\"MWEB_shop\" data-label=\"下一篇\" href=\"#\">下一篇</a>\n",
       "<div class=\"pagination pagination1\"></div>\n",
       "<a class=\"btn ga_tracking\" data-action=\"comment-more\" data-category=\"MWEB_shop\" data-label=\"分享文-觀看更多會員分享文\" href=\"cmmList.php?id=1071950\">觀看更多會員分享文</a>\n",
       "</div>"
      ]
     },
     "execution_count": 16,
     "metadata": {},
     "output_type": "execute_result"
    }
   ],
   "source": [
    "soup_restaurant_information.find('div', {'id': 'comment'})"
   ]
  },
  {
   "cell_type": "code",
   "execution_count": null,
   "metadata": {
    "collapsed": true
   },
   "outputs": [],
   "source": []
  },
  {
   "cell_type": "code",
   "execution_count": 36,
   "metadata": {
    "collapsed": false
   },
   "outputs": [],
   "source": [
    "pre_comment_number_str = soup_restaurant_information.find('div', {'id': 'comment'}).h3.text"
   ]
  },
  {
   "cell_type": "code",
   "execution_count": 37,
   "metadata": {
    "collapsed": true
   },
   "outputs": [],
   "source": [
    "def numberRepl(matchobj):\n",
    "    return matchobj.group(2)"
   ]
  },
  {
   "cell_type": "code",
   "execution_count": 40,
   "metadata": {
    "collapsed": true
   },
   "outputs": [],
   "source": [
    "comment_number = int(re.sub('(會員分享文\\(共)(\\d+)( 篇\\))',numberRepl ,pre_comment_number_str))"
   ]
  },
  {
   "cell_type": "code",
   "execution_count": 41,
   "metadata": {
    "collapsed": false,
    "scrolled": true
   },
   "outputs": [
    {
     "data": {
      "text/plain": [
       "1"
      ]
     },
     "execution_count": 41,
     "metadata": {},
     "output_type": "execute_result"
    }
   ],
   "source": [
    "comment_number"
   ]
  },
  {
   "cell_type": "code",
   "execution_count": null,
   "metadata": {
    "collapsed": true
   },
   "outputs": [],
   "source": []
  },
  {
   "cell_type": "code",
   "execution_count": 110,
   "metadata": {
    "collapsed": true
   },
   "outputs": [],
   "source": [
    "def restaurant_share(comment_page_url):\n",
    "    \n",
    "    try:\n",
    "        res_comment_page = r.get(comment_page_url, headers=header1)\n",
    "    except HTTPError:\n",
    "            return None\n",
    "    print(res_comment_page.status_code)\n",
    "    res_comment_page.encoding=\"utf-8\"\n",
    "    soup_comment_page = bs(res_comment_page.text, 'lxml')\n",
    "    \n",
    "    \n",
    "    pre_comment_url_list = soup_comment_page.findAll('ol')\n",
    "    \n",
    "    for pre_comment_url in pre_comment_url_list:\n",
    "        this_pre_comment_url = pre_comment_url.parent['href']\n",
    "        print(this_pre_comment_url)\n",
    "        comment_id = this_pre_comment_url.split('=')[-1]\n",
    "        print(comment_id)\n",
    "        comment_url = 'http://www.ipeen.com.tw{}'.format(this_pre_comment_url)\n",
    "        print(comment_url)\n",
    "        comment_title = pre_comment_url.li.text\n",
    "        print(comment_title)"
   ]
  },
  {
   "cell_type": "code",
   "execution_count": 94,
   "metadata": {
    "collapsed": true
   },
   "outputs": [],
   "source": [
    "#test_comment_page_url = 'http://www.ipeen.com.tw/touch/cmmList.php?p=1&id=1071950'\n",
    "test_comment_page_url = 'http://www.ipeen.com.tw/touch/cmmList.php?p=7&id=33714'"
   ]
  },
  {
   "cell_type": "code",
   "execution_count": 95,
   "metadata": {
    "collapsed": false
   },
   "outputs": [
    {
     "name": "stdout",
     "output_type": "stream",
     "text": [
      "200\n"
     ]
    }
   ],
   "source": [
    "res_comment_page = r.get(test_comment_page_url, headers=header1)\n",
    "print(res_comment_page.status_code)\n",
    "res_comment_page.encoding=\"utf-8\"\n",
    "soup_comment_page = bs(res_comment_page.text, 'lxml')"
   ]
  },
  {
   "cell_type": "code",
   "execution_count": 96,
   "metadata": {
    "collapsed": false
   },
   "outputs": [],
   "source": [
    "pre_comment_url_list = soup_comment_page.findAll('ol')"
   ]
  },
  {
   "cell_type": "code",
   "execution_count": 102,
   "metadata": {
    "collapsed": false
   },
   "outputs": [
    {
     "data": {
      "text/plain": [
       "[<ol class=\"cDetail\">\n",
       " <li class=\"cTitle\">台北~咖啡弄 COFFEE ALLEY</li>\n",
       " <li>靡靡：</li>\n",
       " <li>2011-10-09 23:00:39</li>\n",
       " </ol>, <ol class=\"cDetail\">\n",
       " <li class=\"cTitle\">女孩兒的下午茶～咖啡弄</li>\n",
       " <li>鈴鈴ARIEL：</li>\n",
       " <li>2011-09-29 11:00:51</li>\n",
       " </ol>, <ol class=\"cDetail\">\n",
       " <li class=\"cTitle\">咖啡弄</li>\n",
       " <li>安妮。綠時尚旅行手札：</li>\n",
       " <li>2011-09-15 11:28:49</li>\n",
       " </ol>, <ol class=\"cDetail\">\n",
       " <li class=\"cTitle\">【吃在台北】吃幾次都不嫌多的咖啡弄</li>\n",
       " <li>霜葉は二月春花更に赤：</li>\n",
       " <li>2011-07-10 13:10:59</li>\n",
       " </ol>, <ol class=\"cDetail\">\n",
       " <li class=\"cTitle\">美味大方- 東區隱巷下午茶：咖啡弄</li>\n",
       " <li>朱力亞：</li>\n",
       " <li>2011-05-07 00:01:52</li>\n",
       " </ol>]"
      ]
     },
     "execution_count": 102,
     "metadata": {},
     "output_type": "execute_result"
    }
   ],
   "source": [
    "pre_comment_url_list"
   ]
  },
  {
   "cell_type": "code",
   "execution_count": 109,
   "metadata": {
    "collapsed": false
   },
   "outputs": [
    {
     "name": "stdout",
     "output_type": "stream",
     "text": [
      "/touch/comment.php?id=191026\n",
      "191026\n",
      "http://www.ipeen.com.tw/touch/comment.php?id=191026\n",
      "台北~咖啡弄 COFFEE ALLEY\n",
      "/touch/comment.php?id=189327\n",
      "189327\n",
      "http://www.ipeen.com.tw/touch/comment.php?id=189327\n",
      "女孩兒的下午茶～咖啡弄\n",
      "/touch/comment.php?id=187309\n",
      "187309\n",
      "http://www.ipeen.com.tw/touch/comment.php?id=187309\n",
      "咖啡弄\n",
      "/touch/comment.php?id=177730\n",
      "177730\n",
      "http://www.ipeen.com.tw/touch/comment.php?id=177730\n",
      "【吃在台北】吃幾次都不嫌多的咖啡弄\n",
      "/touch/comment.php?id=169036\n",
      "169036\n",
      "http://www.ipeen.com.tw/touch/comment.php?id=169036\n",
      "美味大方- 東區隱巷下午茶：咖啡弄\n"
     ]
    }
   ],
   "source": [
    "for pre_comment_url in pre_comment_url_list:\n",
    "    this_pre_comment_url = pre_comment_url.parent['href']\n",
    "    print(this_pre_comment_url)\n",
    "    comment_id = this_pre_comment_url.split('=')[-1]\n",
    "    print(comment_id)\n",
    "    comment_url = 'http://www.ipeen.com.tw{}'.format(this_pre_comment_url)\n",
    "    print(comment_url)\n",
    "    comment_title = pre_comment_url.li.text\n",
    "    print(comment_title)"
   ]
  }
 ],
 "metadata": {
  "kernelspec": {
   "display_name": "Python [default]",
   "language": "python",
   "name": "python3"
  },
  "language_info": {
   "codemirror_mode": {
    "name": "ipython",
    "version": 3
   },
   "file_extension": ".py",
   "mimetype": "text/x-python",
   "name": "python",
   "nbconvert_exporter": "python",
   "pygments_lexer": "ipython3",
   "version": "3.5.2"
  }
 },
 "nbformat": 4,
 "nbformat_minor": 1
}
