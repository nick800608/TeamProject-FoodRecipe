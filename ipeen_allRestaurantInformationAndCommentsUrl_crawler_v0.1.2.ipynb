{
 "cells": [
  {
   "cell_type": "code",
   "execution_count": 1,
   "metadata": {
    "collapsed": true
   },
   "outputs": [],
   "source": [
    "import requests as r\n",
    "from bs4 import BeautifulSoup as bs\n",
    "import json \n",
    "from queue import Queue\n",
    "import threading\n",
    "import re\n",
    "import time\n",
    "import random\n",
    "import os"
   ]
  },
  {
   "cell_type": "code",
   "execution_count": 359,
   "metadata": {
    "collapsed": true
   },
   "outputs": [],
   "source": [
    "#pre_url_str = 'http://www.ipeen.com.tw/shop/1055186-%E6%BF%83%E5%92%96%E5%95%A1-PEI-CAFE-%E5%90%8E%E9%87%8C'\n",
    "#pre_url_str = 'http://www.ipeen.com.tw/shop/1071950-%E7%B4%85%E8%91%89%E8%9B%8B%E7%B3%95'\n",
    "pre_url_str = 'http://www.ipeen.com.tw/shop/33714-%E5%92%96%E5%95%A1%E5%BC%84-%E5%BF%A0%E5%AD%9D%E5%BA%97'"
   ]
  },
  {
   "cell_type": "markdown",
   "metadata": {},
   "source": [
    "## 需要執行"
   ]
  },
  {
   "cell_type": "code",
   "execution_count": 360,
   "metadata": {
    "collapsed": true
   },
   "outputs": [],
   "source": [
    "restaurant_id = pre_url_str.split('/')[-1].split('-')[0]\n",
    "\n",
    "#測試將軍漁港，有兩個營業時間，看看怎麼清理\n",
    "#1.<td>  今日 <span>未設定</span> </td> 2.<td>PM17:00~AM02:00</td>\n",
    "#restaurant_id = 145359\n",
    "#測試濃咖啡 PEI CAFE(后里)，沒有營業時間\n",
    "#restaurant_id = 1055186\n",
    "\n",
    "restaurant_information_url = 'http://www.ipeen.com.tw/touch/shop.php?id={}'.format(restaurant_id)"
   ]
  },
  {
   "cell_type": "code",
   "execution_count": 361,
   "metadata": {
    "collapsed": false,
    "scrolled": true
   },
   "outputs": [
    {
     "data": {
      "text/plain": [
       "'33714'"
      ]
     },
     "execution_count": 361,
     "metadata": {},
     "output_type": "execute_result"
    }
   ],
   "source": [
    "restaurant_id"
   ]
  },
  {
   "cell_type": "code",
   "execution_count": 362,
   "metadata": {
    "collapsed": false
   },
   "outputs": [
    {
     "data": {
      "text/plain": [
       "'http://www.ipeen.com.tw/touch/shop.php?id=33714'"
      ]
     },
     "execution_count": 362,
     "metadata": {},
     "output_type": "execute_result"
    }
   ],
   "source": [
    "restaurant_information_url"
   ]
  },
  {
   "cell_type": "markdown",
   "metadata": {},
   "source": [
    "## 需要執行"
   ]
  },
  {
   "cell_type": "code",
   "execution_count": 363,
   "metadata": {
    "collapsed": false
   },
   "outputs": [
    {
     "name": "stdout",
     "output_type": "stream",
     "text": [
      "200\n",
      "0.44402527809143066\n"
     ]
    }
   ],
   "source": [
    "phoneStartTime = time.time()\n",
    "#test_restaurant_information_url = 'http://www.ipeen.com.tw/touch/shop.php?id=1055186'\n",
    "#test_restaurant_information_url = 'http://www.ipeen.com.tw/touch/shop.php?id=1071950'\n",
    "#test_restaurant_information_url = 'http://www.ipeen.com.tw/touch/shop.php?id=33714'\n",
    "header1 = {'Accept': 'text/html,application/xhtml+xml,application/xml;q=0.9,image/webp,*/*;q=0.8',\n",
    "          'Accept-Encoding': 'gzip, deflate, sdch',\n",
    "          'Accept-Language': 'zh-TW,zh;q=0.8,en-US;q=0.6,en;q=0.4',\n",
    "          'Cache-Control': 'no-cache',\n",
    "          'Connection': 'keep-alive',\n",
    "          'Host': 'www.ipeen.com.tw',\n",
    "          'Pragma': 'no-cache',\n",
    "          'DNT': '1',\n",
    "          'Upgrade-Insecure-Requests': '1',\n",
    "          'User-Agent': 'Mozilla/5.0 (iPhone; CPU iPhone OS 9_1 like Mac OS X) AppleWebKit/601.1.46 (KHTML, like Gecko) \\\n",
    "          Version/9.0 Mobile/13B143 Safari/601.1'\n",
    "          }\n",
    "res_restaurant_information = r.get(restaurant_information_url, headers=header1)\n",
    "print(res_restaurant_information.status_code)\n",
    "soup_restaurant_information = bs(res_restaurant_information.text, 'lxml')\n",
    "phoneEndTime = time.time()\n",
    "print(phoneEndTime - phoneStartTime)"
   ]
  },
  {
   "cell_type": "code",
   "execution_count": null,
   "metadata": {
    "collapsed": true
   },
   "outputs": [],
   "source": []
  },
  {
   "cell_type": "markdown",
   "metadata": {},
   "source": [
    "# 店名"
   ]
  },
  {
   "cell_type": "markdown",
   "metadata": {},
   "source": [
    "## 需要執行"
   ]
  },
  {
   "cell_type": "code",
   "execution_count": 364,
   "metadata": {
    "collapsed": false,
    "scrolled": true
   },
   "outputs": [
    {
     "data": {
      "text/plain": [
       "'咖啡弄'"
      ]
     },
     "execution_count": 364,
     "metadata": {},
     "output_type": "execute_result"
    }
   ],
   "source": [
    "restaurant_name = soup_restaurant_information.find('span', {'itemprop': 'name'}).text\n",
    "restaurant_name"
   ]
  },
  {
   "cell_type": "code",
   "execution_count": null,
   "metadata": {
    "collapsed": true
   },
   "outputs": [],
   "source": []
  },
  {
   "cell_type": "markdown",
   "metadata": {},
   "source": [
    "# 餐廳地址與googleMapUrl"
   ]
  },
  {
   "cell_type": "markdown",
   "metadata": {},
   "source": [
    "## 需要執行"
   ]
  },
  {
   "cell_type": "code",
   "execution_count": 365,
   "metadata": {
    "collapsed": false
   },
   "outputs": [
    {
     "name": "stdout",
     "output_type": "stream",
     "text": [
      "http://maps.google.com/maps?q=台北市台北市大安區忠孝東路四段101巷45號\n",
      "台北市台北市大安區忠孝東路四段101巷45號\n"
     ]
    }
   ],
   "source": [
    "google_map_url = soup_restaurant_information.find('a', {'href': re.compile('(http:\\/\\/maps\\.google\\.com\\/maps\\?q=)')})['href']\n",
    "print(google_map_url)\n",
    "\n",
    "def addressRepl(matchobj):\n",
    "    return matchobj.group(2)\n",
    "restaurant_address = re.sub('(http:\\/\\/maps\\.google\\.com\\/maps\\?q=)(.+$)',addressRepl ,google_map_url)\n",
    "print(restaurant_address)"
   ]
  },
  {
   "cell_type": "markdown",
   "metadata": {},
   "source": [
    "# 電話"
   ]
  },
  {
   "cell_type": "markdown",
   "metadata": {},
   "source": [
    "## 需要執行"
   ]
  },
  {
   "cell_type": "code",
   "execution_count": 266,
   "metadata": {
    "collapsed": false
   },
   "outputs": [],
   "source": [
    "phone_pattarn = '(tel:)?(\\(?\\d{2}\\)?)?(-|\\s+)?(\\d{3}|\\d{4})(-|\\s+)?(\\d{4})'"
   ]
  },
  {
   "cell_type": "markdown",
   "metadata": {},
   "source": [
    "## 需要執行"
   ]
  },
  {
   "cell_type": "code",
   "execution_count": 366,
   "metadata": {
    "collapsed": false
   },
   "outputs": [
    {
     "name": "stdout",
     "output_type": "stream",
     "text": [
      "02-2711-1912\n"
     ]
    }
   ],
   "source": [
    "phone_number = soup_restaurant_information.find('span', {'itemprop': 'telephone'}).text\n",
    "if re.match(phone_pattarn, phone_number):\n",
    "    print(phone_number)"
   ]
  },
  {
   "cell_type": "markdown",
   "metadata": {},
   "source": [
    "# 標籤ul底下 四大標籤li出現順序為1.綜合評分 2.我的評分 3.(平均消費) > 餐廳類別"
   ]
  },
  {
   "cell_type": "markdown",
   "metadata": {},
   "source": [
    "## 需要執行"
   ]
  },
  {
   "cell_type": "code",
   "execution_count": 367,
   "metadata": {
    "collapsed": false
   },
   "outputs": [],
   "source": [
    "first_li_under_ul = soup_restaurant_information.find('li', {'itemprop': 'aggregateRating'})"
   ]
  },
  {
   "cell_type": "markdown",
   "metadata": {},
   "source": [
    "# 綜合評分"
   ]
  },
  {
   "cell_type": "markdown",
   "metadata": {},
   "source": [
    "## 需要執行"
   ]
  },
  {
   "cell_type": "code",
   "execution_count": 368,
   "metadata": {
    "collapsed": false
   },
   "outputs": [
    {
     "name": "stdout",
     "output_type": "stream",
     "text": [
      "45\n"
     ]
    }
   ],
   "source": [
    "aggregateRating_int = int(first_li_under_ul.find('span', {'itemprop': 'ratingValue'}).text)\n",
    "if aggregateRating_int != 0:\n",
    "    print(aggregateRating_int)\n",
    "else:\n",
    "    print('無有效綜合評分')"
   ]
  },
  {
   "cell_type": "markdown",
   "metadata": {},
   "source": [
    "# 平均消費&餐廳類別"
   ]
  },
  {
   "cell_type": "markdown",
   "metadata": {},
   "source": [
    "## 需要執行"
   ]
  },
  {
   "cell_type": "code",
   "execution_count": 369,
   "metadata": {
    "collapsed": false
   },
   "outputs": [
    {
     "name": "stdout",
     "output_type": "stream",
     "text": [
      "269\n",
      "甜點專賣\n"
     ]
    }
   ],
   "source": [
    "third_li_under_ul = first_li_under_ul.find_next_sibling().find_next_sibling()\n",
    "if re.match('平均消費', third_li_under_ul.text):\n",
    "    avg_price = int(third_li_under_ul.text.split('：')[1])\n",
    "    print(avg_price)\n",
    "    category = third_li_under_ul.find_next_sibling().text\n",
    "    print(category)\n",
    "else:\n",
    "    print('沒有均消')\n",
    "    category = third_li_under_ul.text\n",
    "    print(category)"
   ]
  },
  {
   "cell_type": "markdown",
   "metadata": {},
   "source": [
    "# 營業時間&官方網站&推薦菜&分類標籤"
   ]
  },
  {
   "cell_type": "code",
   "execution_count": 373,
   "metadata": {
    "collapsed": false,
    "scrolled": true
   },
   "outputs": [
    {
     "data": {
      "text/plain": [
       "<table>\n",
       "<tr>\n",
       "<th>商家名稱</th>\n",
       "<td>咖啡弄(忠孝店)                </td>\n",
       "</tr>\n",
       "<tr>\n",
       "<th>電話</th>\n",
       "<td>\n",
       "<a class=\"ga_tracking\" data-action=\"details_phone\" data-category=\"MWEB_shop\" data-label=\"詳細資訊-電話\" href=\"tel:02-2711-1912\">02-2711-1912</a> </td>\n",
       "</tr>\n",
       "<tr>\n",
       "<th>地址</th>\n",
       "<td>台北市大安區忠孝東路四段101巷45號            \n",
       "                                            <a href=\"../touch/traffic.php?id=33714\"><p>(詳細交通資訊)</p></a>\n",
       "</td>\n",
       "</tr>\n",
       "<tr>\n",
       "<th>捷運資訊</th>\n",
       "<td>近台北市捷運 - 板南線 - 忠孝敦化站 (步行約6分鐘)<br/></td>\n",
       "</tr>\n",
       "<tr>\n",
       "<th>公休日</th>\n",
       "<td>無</td>\n",
       "</tr>\n",
       "<tr>\n",
       "<th>營業時間</th>\n",
       "<td>\n",
       "                    今日 <span>12:00~23:00</span> <a class=\"business-hour-show-all\" href=\"#\">顯示全部</a>\n",
       "<div class=\"business-hour-pannel\">\n",
       "<div class=\"business-hour-detail hide\">\n",
       "<table>\n",
       "<tr class=\"today\">\n",
       "<th>週一</th>\n",
       "<td>\n",
       "                                                                                      12:00~23:00                                                      </td>\n",
       "</tr>\n",
       "<tr class=\"\">\n",
       "<th>週二</th>\n",
       "<td>\n",
       "                                                                                      12:00~23:00                                                      </td>\n",
       "</tr>\n",
       "<tr class=\"\">\n",
       "<th>週三</th>\n",
       "<td>\n",
       "                                                                                      12:00~23:00                                                      </td>\n",
       "</tr>\n",
       "<tr class=\"\">\n",
       "<th>週四</th>\n",
       "<td>\n",
       "                                                                                      12:00~23:00                                                      </td>\n",
       "</tr>\n",
       "<tr class=\"\">\n",
       "<th>週五</th>\n",
       "<td>\n",
       "                                                                                      12:00~23:00                                                      </td>\n",
       "</tr>\n",
       "<tr class=\"\">\n",
       "<th>週六</th>\n",
       "<td>\n",
       "                                                                                      12:00~23:00                                                      </td>\n",
       "</tr>\n",
       "<tr class=\"\">\n",
       "<th>週日</th>\n",
       "<td>\n",
       "                                                                                      12:00~23:00                                                      </td>\n",
       "</tr>\n",
       "</table>\n",
       "</div></div>\n",
       "</td>\n",
       "</tr>\n",
       "<tr>\n",
       "<th>補充說明</th>\n",
       "<td>最後點餐時間：22:00</td>\n",
       "</tr>\n",
       "<tr>\n",
       "<th>席       位</th>\n",
       "<td>50                </td>\n",
       "</tr>\n",
       "<tr>\n",
       "<th>可否刷卡</th>\n",
       "<td>\n",
       "                        不可                    </td>\n",
       "</tr>\n",
       "<tr>\n",
       "<th>官方網站</th>\n",
       "<td class=\"shop-url\"><a class=\"ga_tracking\" data-action=\"details_web\" data-category=\"MWEB_shop\" data-label=\"詳細資訊-官方網站\" href=\"http://www.coffee-alley.com.tw\">http://www.coffee-alley.com.tw</a></td>\n",
       "</tr>\n",
       "<tr><th>推 薦 菜</th><td>\n",
       "<a class=\"ga_tracking\" data-action=\"details_recommend\" data-category=\"MWEB_shop\" data-label=\"詳細資訊-推薦菜\" href=\"/search/all/000/0-100-0-0/草莓冰淇淋鬆餅/\">草莓冰淇淋鬆餅(94)</a>  <a class=\"ga_tracking\" data-action=\"details_recommend\" data-category=\"MWEB_shop\" data-label=\"詳細資訊-推薦菜\" href=\"/search/all/000/0-100-0-0/鬆餅/\">鬆餅(32)</a>  <a class=\"ga_tracking\" data-action=\"details_recommend\" data-category=\"MWEB_shop\" data-label=\"詳細資訊-推薦菜\" href=\"/search/all/000/0-100-0-0/總匯三明治/\">總匯三明治(27)</a>  <a class=\"ga_tracking\" data-action=\"details_recommend\" data-category=\"MWEB_shop\" data-label=\"詳細資訊-推薦菜\" href=\"/search/all/000/0-100-0-0/BBQ豬排三明治/\">BBQ豬排三明治(17)</a>  <a class=\"ga_tracking\" data-action=\"details_recommend\" data-category=\"MWEB_shop\" data-label=\"詳細資訊-推薦菜\" href=\"/search/all/000/0-100-0-0/鮮果茶/\">鮮果茶(17)</a>                          </td></tr>\n",
       "<tr><th>分類標籤</th><td>\n",
       "<a class=\"ga_tracking\" data-action=\"details_tag\" data-category=\"MWEB_shop\" data-label=\"詳細資訊-分類標籤\" href=\"/search/all/000/0-100-0-0/下午茶/\">下午茶(152)</a>  <a class=\"ga_tracking\" data-action=\"details_tag\" data-category=\"MWEB_shop\" data-label=\"詳細資訊-分類標籤\" href=\"/search/all/000/0-100-0-0/鬆餅/\">鬆餅(142)</a>  <a class=\"ga_tracking\" data-action=\"details_tag\" data-category=\"MWEB_shop\" data-label=\"詳細資訊-分類標籤\" href=\"/search/all/000/0-100-0-0/咖啡弄/\">咖啡弄(95)</a>  <a class=\"ga_tracking\" data-action=\"details_tag\" data-category=\"MWEB_shop\" data-label=\"詳細資訊-分類標籤\" href=\"/search/all/000/0-100-0-0/朋友聚會/\">朋友聚會(91)</a>  <a class=\"ga_tracking\" data-action=\"details_tag\" data-category=\"MWEB_shop\" data-label=\"詳細資訊-分類標籤\" href=\"/search/all/000/0-100-0-0/東區/\">東區(78)</a>                          </td></tr>\n",
       "</table>"
      ]
     },
     "execution_count": 373,
     "metadata": {},
     "output_type": "execute_result"
    }
   ],
   "source": [
    "soup_restaurant_information.table"
   ]
  },
  {
   "cell_type": "markdown",
   "metadata": {},
   "source": [
    "## 需要執行"
   ]
  },
  {
   "cell_type": "code",
   "execution_count": 370,
   "metadata": {
    "collapsed": false
   },
   "outputs": [],
   "source": [
    "all_th_in_table = soup_restaurant_information.table.findAll('th')"
   ]
  },
  {
   "cell_type": "code",
   "execution_count": 406,
   "metadata": {
    "collapsed": false,
    "scrolled": true
   },
   "outputs": [
    {
     "data": {
      "text/plain": [
       "[<th>商家名稱</th>,\n",
       " <th>電話</th>,\n",
       " <th>地址</th>,\n",
       " <th>捷運資訊</th>,\n",
       " <th>公休日</th>,\n",
       " <th>營業時間</th>,\n",
       " <th>週一</th>,\n",
       " <th>週二</th>,\n",
       " <th>週三</th>,\n",
       " <th>週四</th>,\n",
       " <th>週五</th>,\n",
       " <th>週六</th>,\n",
       " <th>週日</th>,\n",
       " <th>補充說明</th>,\n",
       " <th>席       位</th>,\n",
       " <th>可否刷卡</th>,\n",
       " <th>官方網站</th>,\n",
       " <th>推 薦 菜</th>,\n",
       " <th>分類標籤</th>]"
      ]
     },
     "execution_count": 406,
     "metadata": {},
     "output_type": "execute_result"
    }
   ],
   "source": [
    "all_th_in_table"
   ]
  },
  {
   "cell_type": "code",
   "execution_count": null,
   "metadata": {
    "collapsed": true
   },
   "outputs": [],
   "source": []
  },
  {
   "cell_type": "markdown",
   "metadata": {},
   "source": [
    "# 營業時間"
   ]
  },
  {
   "cell_type": "code",
   "execution_count": 275,
   "metadata": {
    "collapsed": false
   },
   "outputs": [
    {
     "data": {
      "text/plain": [
       "<td>PM17:00~AM02:00</td>"
      ]
     },
     "execution_count": 275,
     "metadata": {},
     "output_type": "execute_result"
    }
   ],
   "source": [
    "all_th_in_table[5].find_next_sibling()"
   ]
  },
  {
   "cell_type": "markdown",
   "metadata": {},
   "source": [
    "### 時間的正規表達式"
   ]
  },
  {
   "cell_type": "markdown",
   "metadata": {},
   "source": [
    "## 需要執行"
   ]
  },
  {
   "cell_type": "code",
   "execution_count": 295,
   "metadata": {
    "collapsed": true
   },
   "outputs": [],
   "source": [
    "time_pattern  = '(?:[Aa][Mm]|[Pp][Mm])?((?:[01][0-9]|2[0-3]?):([0-5][0-9]))'"
   ]
  },
  {
   "cell_type": "code",
   "execution_count": null,
   "metadata": {
    "collapsed": true
   },
   "outputs": [],
   "source": [
    "#  match\n",
    "# 12:00\n",
    "# AM23:00\n",
    "# Pm11:59\n",
    "# 23:59\n",
    "# 02:00\n",
    "\n",
    "#  !match\n",
    "# 35:22\n",
    "# 4:32\n",
    "# 13:88"
   ]
  },
  {
   "cell_type": "markdown",
   "metadata": {},
   "source": [
    "## 需要執行"
   ]
  },
  {
   "cell_type": "code",
   "execution_count": 296,
   "metadata": {
    "collapsed": true
   },
   "outputs": [],
   "source": [
    "timeInterval_pattern = '{}~{}'.format(time_pattern,time_pattern)"
   ]
  },
  {
   "cell_type": "code",
   "execution_count": null,
   "metadata": {
    "collapsed": true
   },
   "outputs": [],
   "source": [
    "#  match\n",
    "# am11:30~Pm20:30\n",
    "# PM17:00~AM02:00\n",
    "# 12:00~23:00\n",
    "# 11:59~23:59\n",
    "\n",
    "#  !match\n",
    "# 35:22~02:00\n",
    "# 02:60~23:00"
   ]
  },
  {
   "cell_type": "code",
   "execution_count": 304,
   "metadata": {
    "collapsed": false
   },
   "outputs": [
    {
     "data": {
      "text/plain": [
       "'(?:[Aa][Mm]|[Pp][Mm])?((?:[01][0-9]|2[0-3]?):([0-5][0-9]))~(?:[Aa][Mm]|[Pp][Mm])?((?:[01][0-9]|2[0-3]?):([0-5][0-9]))'"
      ]
     },
     "execution_count": 304,
     "metadata": {},
     "output_type": "execute_result"
    }
   ],
   "source": [
    "timeInterval_pattern"
   ]
  },
  {
   "cell_type": "code",
   "execution_count": 328,
   "metadata": {
    "collapsed": false
   },
   "outputs": [
    {
     "data": {
      "text/plain": [
       "<_sre.SRE_Match object; span=(0, 13), match='pm12:00~23:00'>"
      ]
     },
     "execution_count": 328,
     "metadata": {},
     "output_type": "execute_result"
    }
   ],
   "source": [
    "re.match(timeInterval_pattern, 'pm12:00~23:00  ')"
   ]
  },
  {
   "cell_type": "code",
   "execution_count": null,
   "metadata": {
    "collapsed": true
   },
   "outputs": [],
   "source": [
    "# 定義Repl程式"
   ]
  },
  {
   "cell_type": "markdown",
   "metadata": {},
   "source": [
    "## 需要執行"
   ]
  },
  {
   "cell_type": "code",
   "execution_count": 323,
   "metadata": {
    "collapsed": true
   },
   "outputs": [],
   "source": [
    "def timeIntervalRepl(matchobj):\n",
    "    return matchobj.group(1)+ '~' + matchobj.group(3)"
   ]
  },
  {
   "cell_type": "code",
   "execution_count": null,
   "metadata": {
    "collapsed": true
   },
   "outputs": [],
   "source": [
    "# 現在可以把所有無意義的ampm拿掉了，反正好像都是24小時制"
   ]
  },
  {
   "cell_type": "code",
   "execution_count": 329,
   "metadata": {
    "collapsed": false
   },
   "outputs": [
    {
     "data": {
      "text/plain": [
       "'12:00~23:00'"
      ]
     },
     "execution_count": 329,
     "metadata": {},
     "output_type": "execute_result"
    }
   ],
   "source": [
    "open_hours = re.sub(timeInterval_pattern,timeIntervalRepl , 'am12:00~pm23:00')\n",
    "open_hours"
   ]
  },
  {
   "cell_type": "code",
   "execution_count": 330,
   "metadata": {
    "collapsed": false,
    "scrolled": true
   },
   "outputs": [
    {
     "data": {
      "text/plain": [
       "'sm12:00~23:00'"
      ]
     },
     "execution_count": 330,
     "metadata": {},
     "output_type": "execute_result"
    }
   ],
   "source": [
    "# 注意，re.match資料檢察不能拿掉，不然re.sub()可能會回傳奇怪的東西。以下舉例\n",
    "open_hours = re.sub(timeInterval_pattern,timeIntervalRepl , 'sm12:00~pm23:00')\n",
    "open_hours"
   ]
  },
  {
   "cell_type": "markdown",
   "metadata": {},
   "source": [
    "## 需要執行"
   ]
  },
  {
   "cell_type": "code",
   "execution_count": 405,
   "metadata": {
    "collapsed": false,
    "scrolled": true
   },
   "outputs": [
    {
     "name": "stdout",
     "output_type": "stream",
     "text": [
      "多個時間\n",
      "週一\n",
      "有正確時間\n",
      "12:00~23:00\n",
      "----------\n",
      "週二\n",
      "有正確時間\n",
      "12:00~23:00\n",
      "----------\n",
      "週三\n",
      "有正確時間\n",
      "12:00~23:00\n",
      "----------\n",
      "週四\n",
      "有正確時間\n",
      "12:00~23:00\n",
      "----------\n",
      "週五\n",
      "有正確時間\n",
      "12:00~23:00\n",
      "----------\n",
      "週六\n",
      "有正確時間\n",
      "12:00~23:00\n",
      "----------\n",
      "週日\n",
      "有正確時間\n",
      "12:00~23:00\n",
      "----------\n",
      "12:00~23:00 12:00~23:00 12:00~23:00 12:00~23:00 12:00~23:00 12:00~23:00 12:00~23:00\n"
     ]
    }
   ],
   "source": [
    "\n",
    "for th in all_th_in_table:\n",
    "    if th.text=='營業時間':\n",
    "        #今日時間有a標籤，代表多個營業時間\n",
    "        if th.find_next_sibling().a:\n",
    "            print('多個時間')\n",
    "            th_open_hours_list = th.find_next_sibling().findAll('th')\n",
    "            #在所有th標籤裡可以找到星期幾的標籤，然後用th的下一個平輩標籤find_next_sibling()找到當天的開店時間\n",
    "            #然後檢查時間格式是否符合標準\n",
    "            for th in th_open_hours_list:\n",
    "                #print(th)\n",
    "                if th.text=='週一':\n",
    "                    Monday = th.text\n",
    "                    print(Monday)\n",
    "                    pre_opne_hours_MON = th.find_next_sibling().text.strip()\n",
    "                    if re.match(timeInterval_pattern, pre_opne_hours_MON):\n",
    "                        print('有正確時間')\n",
    "                        opne_hours_MON = re.sub(timeInterval_pattern,timeIntervalRepl , pre_opne_hours_MON)\n",
    "                        print(opne_hours_MON)\n",
    "                    else:\n",
    "                        opne_hours_MON = None\n",
    "                elif th.text=='週二':\n",
    "                    Tuesday = th.text\n",
    "                    print(Tuesday)\n",
    "                    pre_opne_hours_TUE = th.find_next_sibling().text.strip()\n",
    "                    if re.match(timeInterval_pattern, pre_opne_hours_TUE):\n",
    "                        print('有正確時間')\n",
    "                        opne_hours_TUE = re.sub(timeInterval_pattern,timeIntervalRepl , pre_opne_hours_TUE)\n",
    "                        print(opne_hours_TUE)\n",
    "                    else:\n",
    "                        opne_hours_TUE = None\n",
    "                elif th.text=='週三':\n",
    "                    Wednesday = th.text\n",
    "                    print(Wednesday)\n",
    "                    pre_opne_hours_WED = th.find_next_sibling().text.strip()\n",
    "                    if re.match(timeInterval_pattern, pre_opne_hours_WED):\n",
    "                        print('有正確時間')\n",
    "                        opne_hours_WED = re.sub(timeInterval_pattern,timeIntervalRepl , pre_opne_hours_WED)\n",
    "                        print(opne_hours_WED)\n",
    "                    else:\n",
    "                        opne_hours_WED = None\n",
    "                elif th.text=='週四':\n",
    "                    Thursday = th.text\n",
    "                    print(Thursday)\n",
    "                    pre_opne_hours_THU = th.find_next_sibling().text.strip()\n",
    "                    if re.match(timeInterval_pattern, pre_opne_hours_THU):\n",
    "                        print('有正確時間')\n",
    "                        opne_hours_THU = re.sub(timeInterval_pattern,timeIntervalRepl , pre_opne_hours_THU)\n",
    "                        print(opne_hours_THU)\n",
    "                    else:\n",
    "                        opne_hours_THU = None\n",
    "                elif th.text=='週五':\n",
    "                    Friday = th.text\n",
    "                    print(Friday)\n",
    "                    pre_opne_hours_FRI = th.find_next_sibling().text.strip()\n",
    "                    if re.match(timeInterval_pattern, pre_opne_hours_FRI):\n",
    "                        print('有正確時間')\n",
    "                        opne_hours_FRI = re.sub(timeInterval_pattern,timeIntervalRepl , pre_opne_hours_FRI)\n",
    "                        print(opne_hours_FRI)\n",
    "                    else:\n",
    "                        opne_hours_FRI = None\n",
    "                elif th.text=='週六':\n",
    "                    Saturday = th.text\n",
    "                    print(Saturday)\n",
    "                    pre_opne_hours_SAT = th.find_next_sibling().text.strip()\n",
    "                    if re.match(timeInterval_pattern, pre_opne_hours_SAT):\n",
    "                        print('有正確時間')\n",
    "                        opne_hours_SAT = re.sub(timeInterval_pattern,timeIntervalRepl , pre_opne_hours_SAT)\n",
    "                        print(opne_hours_SAT)\n",
    "                    else:\n",
    "                        opne_hours_SAT = None\n",
    "                    \n",
    "                elif th.text=='週日':\n",
    "                    Sunday = th.text\n",
    "                    print(Sunday)\n",
    "                    pre_opne_hours_SUN = th.find_next_sibling().text.strip()\n",
    "                    if re.match(timeInterval_pattern, pre_opne_hours_SUN):\n",
    "                        print('有正確時間')\n",
    "                        opne_hours_SUN = re.sub(timeInterval_pattern,timeIntervalRepl , pre_opne_hours_SUN)\n",
    "                        print(opne_hours_SUN)\n",
    "                    else:\n",
    "                        opne_hours_SUN = None\n",
    "                else:\n",
    "                    pass\n",
    "                print('----------')\n",
    "            print(opne_hours_MON, opne_hours_TUE,opne_hours_WED,opne_hours_THU,opne_hours_FRI,opne_hours_SAT,opne_hours_SUN)\n",
    "        #今日時間如果沒有a標籤，代表沒有多個營業時間或是沒有設定營業時間\n",
    "        else:\n",
    "            print('一個時間或未設定營業時間')\n",
    "            pre_open_hours = th.find_next_sibling().text\n",
    "            print(pre_open_hours)\n",
    "            if re.match(timeInterval_pattern, pre_open_hours):\n",
    "                print('有正確時間')\n",
    "                open_hours = re.sub(timeInterval_pattern,timeIntervalRepl , pre_open_hours)\n",
    "                print(open_hours)\n",
    "            else:\n",
    "                print('未設定營業時間')\n",
    "            #break"
   ]
  },
  {
   "cell_type": "code",
   "execution_count": 407,
   "metadata": {
    "collapsed": false
   },
   "outputs": [
    {
     "data": {
      "text/plain": [
       "[<th>商家名稱</th>,\n",
       " <th>電話</th>,\n",
       " <th>地址</th>,\n",
       " <th>捷運資訊</th>,\n",
       " <th>公休日</th>,\n",
       " <th>營業時間</th>,\n",
       " <th>週一</th>,\n",
       " <th>週二</th>,\n",
       " <th>週三</th>,\n",
       " <th>週四</th>,\n",
       " <th>週五</th>,\n",
       " <th>週六</th>,\n",
       " <th>週日</th>,\n",
       " <th>補充說明</th>,\n",
       " <th>席       位</th>,\n",
       " <th>可否刷卡</th>,\n",
       " <th>官方網站</th>,\n",
       " <th>推 薦 菜</th>,\n",
       " <th>分類標籤</th>]"
      ]
     },
     "execution_count": 407,
     "metadata": {},
     "output_type": "execute_result"
    }
   ],
   "source": [
    "all_th_in_table"
   ]
  },
  {
   "cell_type": "markdown",
   "metadata": {},
   "source": [
    "# 官方網站"
   ]
  },
  {
   "cell_type": "markdown",
   "metadata": {},
   "source": [
    "# 推薦菜"
   ]
  },
  {
   "cell_type": "markdown",
   "metadata": {},
   "source": [
    "# 分類標籤"
   ]
  },
  {
   "cell_type": "code",
   "execution_count": 418,
   "metadata": {
    "collapsed": false
   },
   "outputs": [
    {
     "name": "stdout",
     "output_type": "stream",
     "text": [
      "<th>官方網站</th>\n",
      "有官方網站超連結\n",
      "http://www.coffee-alley.com.tw\n",
      "<th>推 薦 菜</th>\n",
      "有推薦菜\n",
      "草莓冰淇淋鬆餅(94)\n",
      "鬆餅(32)\n",
      "總匯三明治(27)\n",
      "BBQ豬排三明治(17)\n",
      "鮮果茶(17)\n",
      "<th>分類標籤</th>\n",
      "有分類標籤\n",
      "下午茶(152)\n",
      "鬆餅(142)\n",
      "咖啡弄(95)\n",
      "朋友聚會(91)\n",
      "東區(78)\n"
     ]
    }
   ],
   "source": [
    "for th in all_th_in_table:\n",
    "    if th.text=='官方網站':\n",
    "        print(th)\n",
    "        if th.find_next_sibling().a:\n",
    "            print('有官方網站超連結')            \n",
    "            officialWebsite_url = th.find_next_sibling().a['href']\n",
    "            print(officialWebsite_url)\n",
    "    if th.text=='推 薦 菜':\n",
    "        print(th)\n",
    "        if th.find_next_sibling().a:\n",
    "            print('有推薦菜')\n",
    "            a_detailsRecommend_list = th.find_next_sibling().select('a')\n",
    "            #print(a_detailsRecommend_list)\n",
    "            for a in a_detailsRecommend_list:\n",
    "                recommendation = a.text\n",
    "                print(recommendation)\n",
    "            \n",
    "    if th.text=='分類標籤':\n",
    "        print(th)\n",
    "        if th.find_next_sibling().a:\n",
    "            print('有分類標籤')\n",
    "            a_Tags_list = th.find_next_sibling().select('a')\n",
    "            #print(a_Tags_list)\n",
    "            for a in a_Tags_list:\n",
    "                Tag = a.text\n",
    "                print(Tag)"
   ]
  },
  {
   "cell_type": "code",
   "execution_count": null,
   "metadata": {
    "collapsed": true
   },
   "outputs": [],
   "source": []
  },
  {
   "cell_type": "markdown",
   "metadata": {},
   "source": [
    "# 食記分享"
   ]
  },
  {
   "cell_type": "markdown",
   "metadata": {},
   "source": [
    "## 需要執行"
   ]
  },
  {
   "cell_type": "code",
   "execution_count": 372,
   "metadata": {
    "collapsed": false,
    "scrolled": true
   },
   "outputs": [
    {
     "name": "stdout",
     "output_type": "stream",
     "text": [
      "有分享\n",
      "206\n",
      "42\n",
      "http://www.ipeen.com.tw/touch/cmmList.php?p=1&id=33714\n",
      "http://www.ipeen.com.tw/touch/cmmList.php?p=2&id=33714\n",
      "http://www.ipeen.com.tw/touch/cmmList.php?p=3&id=33714\n",
      "http://www.ipeen.com.tw/touch/cmmList.php?p=4&id=33714\n",
      "http://www.ipeen.com.tw/touch/cmmList.php?p=5&id=33714\n",
      "http://www.ipeen.com.tw/touch/cmmList.php?p=6&id=33714\n",
      "http://www.ipeen.com.tw/touch/cmmList.php?p=7&id=33714\n",
      "http://www.ipeen.com.tw/touch/cmmList.php?p=8&id=33714\n",
      "http://www.ipeen.com.tw/touch/cmmList.php?p=9&id=33714\n",
      "http://www.ipeen.com.tw/touch/cmmList.php?p=10&id=33714\n",
      "http://www.ipeen.com.tw/touch/cmmList.php?p=11&id=33714\n",
      "http://www.ipeen.com.tw/touch/cmmList.php?p=12&id=33714\n",
      "http://www.ipeen.com.tw/touch/cmmList.php?p=13&id=33714\n",
      "http://www.ipeen.com.tw/touch/cmmList.php?p=14&id=33714\n",
      "http://www.ipeen.com.tw/touch/cmmList.php?p=15&id=33714\n",
      "http://www.ipeen.com.tw/touch/cmmList.php?p=16&id=33714\n",
      "http://www.ipeen.com.tw/touch/cmmList.php?p=17&id=33714\n",
      "http://www.ipeen.com.tw/touch/cmmList.php?p=18&id=33714\n",
      "http://www.ipeen.com.tw/touch/cmmList.php?p=19&id=33714\n",
      "http://www.ipeen.com.tw/touch/cmmList.php?p=20&id=33714\n",
      "http://www.ipeen.com.tw/touch/cmmList.php?p=21&id=33714\n",
      "http://www.ipeen.com.tw/touch/cmmList.php?p=22&id=33714\n",
      "http://www.ipeen.com.tw/touch/cmmList.php?p=23&id=33714\n",
      "http://www.ipeen.com.tw/touch/cmmList.php?p=24&id=33714\n",
      "http://www.ipeen.com.tw/touch/cmmList.php?p=25&id=33714\n",
      "http://www.ipeen.com.tw/touch/cmmList.php?p=26&id=33714\n",
      "http://www.ipeen.com.tw/touch/cmmList.php?p=27&id=33714\n",
      "http://www.ipeen.com.tw/touch/cmmList.php?p=28&id=33714\n",
      "http://www.ipeen.com.tw/touch/cmmList.php?p=29&id=33714\n",
      "http://www.ipeen.com.tw/touch/cmmList.php?p=30&id=33714\n",
      "http://www.ipeen.com.tw/touch/cmmList.php?p=31&id=33714\n",
      "http://www.ipeen.com.tw/touch/cmmList.php?p=32&id=33714\n",
      "http://www.ipeen.com.tw/touch/cmmList.php?p=33&id=33714\n",
      "http://www.ipeen.com.tw/touch/cmmList.php?p=34&id=33714\n",
      "http://www.ipeen.com.tw/touch/cmmList.php?p=35&id=33714\n",
      "http://www.ipeen.com.tw/touch/cmmList.php?p=36&id=33714\n",
      "http://www.ipeen.com.tw/touch/cmmList.php?p=37&id=33714\n",
      "http://www.ipeen.com.tw/touch/cmmList.php?p=38&id=33714\n",
      "http://www.ipeen.com.tw/touch/cmmList.php?p=39&id=33714\n",
      "http://www.ipeen.com.tw/touch/cmmList.php?p=40&id=33714\n",
      "http://www.ipeen.com.tw/touch/cmmList.php?p=41&id=33714\n",
      "http://www.ipeen.com.tw/touch/cmmList.php?p=42&id=33714\n"
     ]
    }
   ],
   "source": [
    "#判斷是否有食記分享\n",
    "if soup_restaurant_information.find('div', {'id': 'comment'}):    \n",
    "    print('有分享')    \n",
    "    #取得總共有幾篇\n",
    "    pre_comment_number_str = soup_restaurant_information.find('div', {'id': 'comment'}).h3.text\n",
    "    def numberRepl(matchobj):\n",
    "        return matchobj.group(2)\n",
    "    comment_number = int(re.sub('(會員分享文\\(共)(\\d+)( 篇\\))',numberRepl ,pre_comment_number_str))\n",
    "    print(comment_number)\n",
    "    \n",
    "    #依照篇數，計算一共有幾頁\n",
    "    if comment_number <= 5:\n",
    "        int_page = 1\n",
    "        print(int_page)\n",
    "    elif comment_number %5 == 0:\n",
    "        int_page=int(comment_number/5)\n",
    "        print(int_page)\n",
    "    else:\n",
    "        int_page=int(comment_number/5)+1\n",
    "        print(int_page)\n",
    "    \n",
    "    #產生分享文列表的全部頁數的url\n",
    "    for i in range(1,int_page+1):\n",
    "        comment_page_url = 'http://www.ipeen.com.tw/touch/cmmList.php?p={}&id={}'.format(i, restaurant_id)\n",
    "        print(comment_page_url)\n",
    "        #restaurant_share(comment_page_url)\n",
    "else:\n",
    "    print('尚無分享')"
   ]
  },
  {
   "cell_type": "code",
   "execution_count": null,
   "metadata": {
    "collapsed": true
   },
   "outputs": [],
   "source": []
  },
  {
   "cell_type": "markdown",
   "metadata": {},
   "source": [
    "# 餐廳菜單連結"
   ]
  },
  {
   "cell_type": "markdown",
   "metadata": {},
   "source": [
    "## 需要執行"
   ]
  },
  {
   "cell_type": "code",
   "execution_count": 435,
   "metadata": {
    "collapsed": false
   },
   "outputs": [
    {
     "name": "stdout",
     "output_type": "stream",
     "text": [
      "有餐廳菜單\n",
      "http://www.ipeen.com.tw/touch/menu.php?id=33714\n"
     ]
    }
   ],
   "source": [
    "if soup_restaurant_information.find('a', {'href': re.compile('(\\.\\./touch/menu.php\\?id=)')}):\n",
    "    print('有餐廳菜單')\n",
    "    pre_menu_url = soup_restaurant_information.find('a', {'href': re.compile('(\\.\\./touch/menu.php\\?id=)')})['href']\n",
    "    replace_pattern = '..'\n",
    "    menu_url = pre_menu_url.replace(replace_pattern, 'http://www.ipeen.com.tw')\n",
    "    print(menu_url)"
   ]
  },
  {
   "cell_type": "markdown",
   "metadata": {},
   "source": [
    "# 切換頁面，進到餐廳菜單"
   ]
  },
  {
   "cell_type": "markdown",
   "metadata": {},
   "source": [
    "## 需要執行"
   ]
  },
  {
   "cell_type": "code",
   "execution_count": 454,
   "metadata": {
    "collapsed": false
   },
   "outputs": [
    {
     "name": "stdout",
     "output_type": "stream",
     "text": [
      "200\n"
     ]
    }
   ],
   "source": [
    "try:\n",
    "    res_menu = r.get(menu_url, headers=header1)\n",
    "except HTTPError:\n",
    "    print('HTTPError')\n",
    "    #return None\n",
    "print(res_menu.status_code)\n",
    "res_menu.encoding=\"utf-8\"\n",
    "soup_menu = bs(res_menu.text, 'lxml')"
   ]
  },
  {
   "cell_type": "markdown",
   "metadata": {},
   "source": [
    "## 需要執行"
   ]
  },
  {
   "cell_type": "code",
   "execution_count": 441,
   "metadata": {
    "collapsed": false
   },
   "outputs": [],
   "source": [
    "menuClassification_list = soup_menu.findAll('ul', {'class': 'group'})"
   ]
  },
  {
   "cell_type": "markdown",
   "metadata": {},
   "source": [
    "## 需要執行"
   ]
  },
  {
   "cell_type": "code",
   "execution_count": 451,
   "metadata": {
    "collapsed": false,
    "scrolled": true
   },
   "outputs": [
    {
     "name": "stdout",
     "output_type": "stream",
     "text": [
      "手工熱咖啡\n",
      "藍山咖啡\n",
      "160\n",
      "歐蕾咖啡\n",
      "150\n",
      "巴西山多士咖啡\n",
      "120\n",
      "曼特寧咖啡\n",
      "120\n",
      "炭燒咖啡\n",
      "120\n",
      "綜合咖啡\n",
      "120\n",
      "特調手工咖啡\n",
      "130\n",
      "維也納咖啡\n",
      "130\n",
      "香草咖啡\n",
      "140\n",
      "-----------------\n",
      "義式咖啡\n",
      "義式濃縮咖啡 single\n",
      "90\n",
      "義式濃縮咖啡 duble\n",
      "100\n",
      "康寶藍\n",
      "100\n",
      "美式淡咖啡\n",
      "110\n",
      "低咖啡因咖啡\n",
      "120\n",
      "卡布奇諾咖啡\n",
      "120\n",
      "拿鐵咖啡\n",
      "120\n",
      "美式摩卡咖啡\n",
      "130\n",
      "焦糖瑪奇朵\n",
      "130\n",
      "提拉米蘇咖啡\n",
      "130\n",
      "-----------------\n",
      "餐點\n",
      "手工蛋糕 布朗尼\n",
      "100\n",
      "手工捲餅\n",
      "110\n",
      "原味鬆餅\n",
      "100\n",
      "煉乳花生醬鬆餅\n",
      "120\n",
      "草莓冰淇淋鬆餅\n",
      "150\n",
      "紅豆抹茶冰淇淋鬆餅\n",
      "150\n",
      "鮮果冰淇淋鬆餅\n",
      "150\n",
      "香蕉巧克力冰淇淋鬆餅\n",
      "150\n",
      "蔬菜鮪魚鬆餅\n",
      "150\n",
      "燻雞土司披薩\n",
      "130\n",
      "燻牛肉三明治\n",
      "150\n",
      "總匯三明治\n",
      "140\n",
      "ＢＢＱ豬排三明治\n",
      "150\n",
      "燻雞肉三明治\n",
      "130\n",
      "芥末培根起士三明治\n",
      "150\n",
      "鮪魚三明治\n",
      "130\n",
      "帕瑪森凱薩沙拉\n",
      "120\n",
      "蛋沙拉三明治\n",
      "120\n",
      "-----------------\n",
      "熱茶飲\n",
      "熱可可亞\n",
      "130\n",
      "熱抹茶歐蕾\n",
      "120\n",
      "法式奶茶\n",
      "130\n",
      "紅茶歐蕾（原味/香橙）\n",
      "150\n",
      "鮮果茶\n",
      "160\n",
      "柚桔茶\n",
      "150\n",
      "伯爵紅茶\n",
      "140\n",
      "錫蘭紅茶\n",
      "140\n",
      "高山烏龍茶\n",
      "140\n",
      "俄羅斯果醬茶\n",
      "150\n",
      "桂圓紅棗茶\n",
      "150\n",
      "玫瑰花草茶\n",
      "140\n",
      "絲路花草茶\n",
      "140\n",
      "菩提子花草茶\n",
      "140\n",
      "菊花茶\n",
      "140\n",
      "茉莉花草茶\n",
      "140\n",
      "蘋果檸香茶\n",
      "140\n",
      "冷薄荷花草茶\n",
      "140\n",
      "蜂蜜生薑茶\n",
      "140\n",
      "-----------------\n",
      "冰咖啡\n",
      "冰黑咖啡\n",
      "120\n",
      "特弄冰咖啡\n",
      "130\n",
      "冰滴咖啡\n",
      "140\n",
      "冰香草咖啡\n",
      "140\n",
      "冰維也納咖啡\n",
      "130\n",
      "冰牛奶咖啡\n",
      "120\n",
      "冰拿鐵咖啡\n",
      "120\n",
      "冰美式摩卡咖啡\n",
      "130\n",
      "-----------------\n",
      "冰淇淋甜點\n",
      "自由之丘\n",
      "100\n",
      "御茶之水\n",
      "150\n",
      "紅豆抹茶冰淇淋\n",
      "150\n",
      "鮮草莓冰淇淋百匯\n",
      "160\n",
      "鮮果冰淇淋百匯\n",
      "160\n",
      "-----------------\n",
      "冰茶飲\n",
      "冰柚桔茶\n",
      "150\n",
      "冰鮮果茶\n",
      "160\n",
      "冰弄紅茶\n",
      "100\n",
      "檸檬凍茶\n",
      "120\n",
      "黃檸檬蘇打\n",
      "120\n",
      "鮮榨季節果汁\n",
      "130\n",
      "皇家冰奶茶\n",
      "120\n",
      "冰相思歐蕾\n",
      "130\n",
      "冰抹茶歐蕾\n",
      "130\n",
      "冰可可亞\n",
      "130\n",
      "冰淇淋紅茶\n",
      "130\n",
      "咖啡冰沙\n",
      "130\n",
      "抹茶牛奶冰沙\n",
      "140\n",
      "鮮草莓冰沙\n",
      "140\n",
      "OREO冰沙\n",
      "140\n",
      "乳樂蜜桃冰沙\n",
      "140\n",
      "-----------------\n",
      "瓶裝飲料\n",
      "聖沛黎洛氣泡水\n",
      "90\n",
      "韋爾奇100%葡萄汁\n",
      "110\n",
      "-----------------\n"
     ]
    }
   ],
   "source": [
    "for group in menuClassification_list:\n",
    "    #print(group)\n",
    "    #菜單種類標題\n",
    "    classificationTitle = group.h6.text\n",
    "    print(classificationTitle)\n",
    "    \n",
    "    food_in_group_list = group.select('ul > li')\n",
    "    #單品\n",
    "    for food in food_in_group_list:\n",
    "        #名稱\n",
    "        foodName_str = food.h6.text          \n",
    "        print(foodName_str)\n",
    "        #價格\n",
    "        pre_foodPrice_str = food.span.text\n",
    "        foodPrice_str = pre_foodPrice_str.split('.')[1]\n",
    "        int(foodPrice_str)\n",
    "        print(foodPrice_str)\n",
    "    print('-----------------')"
   ]
  },
  {
   "cell_type": "code",
   "execution_count": null,
   "metadata": {
    "collapsed": true
   },
   "outputs": [],
   "source": []
  },
  {
   "cell_type": "markdown",
   "metadata": {},
   "source": [
    "# 切換頁面，進到食記分享文列表"
   ]
  },
  {
   "cell_type": "markdown",
   "metadata": {},
   "source": [
    "## 需要執行"
   ]
  },
  {
   "cell_type": "code",
   "execution_count": 110,
   "metadata": {
    "collapsed": true
   },
   "outputs": [],
   "source": [
    "def restaurant_share(comment_page_url):\n",
    "    \n",
    "    try:\n",
    "        res_comment_page = r.get(comment_page_url, headers=header1)\n",
    "    except HTTPError:\n",
    "            return None\n",
    "    print(res_comment_page.status_code)\n",
    "    res_comment_page.encoding=\"utf-8\"\n",
    "    soup_comment_page = bs(res_comment_page.text, 'lxml')\n",
    "    \n",
    "    \n",
    "    pre_comment_url_list = soup_comment_page.findAll('ol')\n",
    "    \n",
    "    for pre_comment_url in pre_comment_url_list:\n",
    "        this_pre_comment_url = pre_comment_url.parent['href']\n",
    "        print(this_pre_comment_url)\n",
    "        comment_id = this_pre_comment_url.split('=')[-1]\n",
    "        print(comment_id)\n",
    "        comment_url = 'http://www.ipeen.com.tw{}'.format(this_pre_comment_url)\n",
    "        print(comment_url)\n",
    "        comment_title = pre_comment_url.li.text\n",
    "        print(comment_title)"
   ]
  }
 ],
 "metadata": {
  "kernelspec": {
   "display_name": "Python [default]",
   "language": "python",
   "name": "python3"
  },
  "language_info": {
   "codemirror_mode": {
    "name": "ipython",
    "version": 3
   },
   "file_extension": ".py",
   "mimetype": "text/x-python",
   "name": "python",
   "nbconvert_exporter": "python",
   "pygments_lexer": "ipython3",
   "version": "3.5.2"
  }
 },
 "nbformat": 4,
 "nbformat_minor": 1
}
