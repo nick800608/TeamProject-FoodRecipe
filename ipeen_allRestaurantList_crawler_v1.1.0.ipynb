{
 "cells": [
  {
   "cell_type": "code",
   "execution_count": 1,
   "metadata": {
    "collapsed": true
   },
   "outputs": [],
   "source": [
    "import requests as r\n",
    "from bs4 import BeautifulSoup as bs\n",
    "import json \n",
    "from queue import Queue\n",
    "import threading\n",
    "import re\n",
    "import time\n",
    "import random"
   ]
  },
  {
   "cell_type": "code",
   "execution_count": 55,
   "metadata": {
    "collapsed": true
   },
   "outputs": [],
   "source": [
    "test_page_url = 'http://www.ipeen.com.tw/search/taiwan/000/1-0-0-0/?p=7572'"
   ]
  },
  {
   "cell_type": "code",
   "execution_count": 56,
   "metadata": {
    "collapsed": false
   },
   "outputs": [],
   "source": [
    "res = r.get(test_page_url)\n",
    "res.encoding=\"utf-8\"\n",
    "soup = bs(res.text, 'lxml')"
   ]
  },
  {
   "cell_type": "code",
   "execution_count": 64,
   "metadata": {
    "collapsed": false
   },
   "outputs": [],
   "source": [
    "all_restaurant_in_h3_list = soup.findAll('h3', {'id':re.compile('shop_h3_\\d\\d?')})"
   ]
  },
  {
   "cell_type": "code",
   "execution_count": 71,
   "metadata": {
    "collapsed": false,
    "scrolled": true
   },
   "outputs": [
    {
     "data": {
      "text/plain": [
       "[<h3 class=\"name\" id=\"shop_h3_1\">\n",
       " \t\t\t\t\t\t\t\t1.\n",
       " \t\t\t\t\t\t\t\t\t\t\t\t\n",
       "                 \n",
       " \n",
       "                                                     \n",
       "                                                     \n",
       "                 \n",
       " \n",
       " \n",
       " \t\t\t\t<a class=\"a37 ga_tracking\" data-action=\"shop_1\" data-category=\"search\" data-label=\"店名\" href=\"/shop/1072768-知味沙茶魷魚\" target=\"_blank\">知味沙茶魷魚</a>\n",
       " </h3>, <h3 class=\"name\" id=\"shop_h3_2\">\n",
       " \t\t\t\t\t\t\t\t2.\n",
       " \t\t\t\t\t\t\t\t\t\t\t\t\n",
       "                 \n",
       " \n",
       "                                                     \n",
       "                                                     \n",
       "                 \n",
       " \n",
       " \n",
       " \t\t\t\t<a class=\"a37 ga_tracking\" data-action=\"shop_2\" data-category=\"search\" data-label=\"店名\" href=\"/shop/1072776-安安西瓜汁\" target=\"_blank\">安安西瓜汁</a>\n",
       " </h3>, <h3 class=\"name\" id=\"shop_h3_3\">\n",
       " \t\t\t\t\t\t\t\t3.\n",
       " \t\t\t\t\t\t\t\t\t\t\t\t\t\t\t\t<span class=\"status\">【已搬遷】</span>\n",
       " <a class=\"a37 ga_tracking\" data-action=\"shop_3\" data-category=\"search\" data-label=\"店名\" href=\"/shop/46617-So-Free-柴燒比薩-起司專賣\" target=\"_blank\">So Free 柴燒比薩&amp;起司專賣</a>\n",
       " </h3>, <h3 class=\"name\" id=\"shop_h3_4\">\n",
       " \t\t\t\t\t\t\t\t4.\n",
       " \t\t\t\t\t\t\t\t\t\t\t\t\t\t\t\t<span class=\"status\">【已搬遷】</span>\n",
       " <a class=\"a37 ga_tracking\" data-action=\"shop_4\" data-category=\"search\" data-label=\"店名\" href=\"/shop/32609-香帥蛋糕-台北店\" target=\"_blank\">香帥蛋糕(台北店)</a>\n",
       " </h3>, <h3 class=\"name\" id=\"shop_h3_5\">\n",
       " \t\t\t\t\t\t\t\t5.\n",
       " \t\t\t\t\t\t\t\t\t\t\t\t\t\t\t\t<span class=\"status\">【已搬遷】</span>\n",
       " <a class=\"a37 ga_tracking\" data-action=\"shop_5\" data-category=\"search\" data-label=\"店名\" href=\"/shop/63479-狠蝦\" target=\"_blank\">狠蝦</a>\n",
       " </h3>, <h3 class=\"name\" id=\"shop_h3_6\">\n",
       " \t\t\t\t\t\t\t\t6.\n",
       " \t\t\t\t\t\t\t\t\t\t\t\t\t\t\t\t<span class=\"status\">【已搬遷】</span>\n",
       " <a class=\"a37 ga_tracking\" data-action=\"shop_6\" data-category=\"search\" data-label=\"店名\" href=\"/shop/38078-諾貝爾蛋糕店-羅東店\" target=\"_blank\">諾貝爾蛋糕店(羅東店)</a>\n",
       " </h3>, <h3 class=\"name\" id=\"shop_h3_7\">\n",
       " \t\t\t\t\t\t\t\t7.\n",
       " \t\t\t\t\t\t\t\t\t\t\t\t\t\t\t\t<span class=\"status\">【已搬遷】</span>\n",
       " <a class=\"a37 ga_tracking\" data-action=\"shop_7\" data-category=\"search\" data-label=\"店名\" href=\"/shop/61236-藝奇新日本料理-衡陽店\" target=\"_blank\">藝奇新日本料理(衡陽店)</a>\n",
       " </h3>, <h3 class=\"name\" id=\"shop_h3_8\">\n",
       " \t\t\t\t\t\t\t\t8.\n",
       " \t\t\t\t\t\t\t\t\t\t\t\t\t\t\t\t<span class=\"status\">【已搬遷】</span>\n",
       " <a class=\"a37 ga_tracking\" data-action=\"shop_8\" data-category=\"search\" data-label=\"店名\" href=\"/shop/117900-merci-café\" target=\"_blank\">merci café</a>\n",
       " </h3>, <h3 class=\"name\" id=\"shop_h3_9\">\n",
       " \t\t\t\t\t\t\t\t9.\n",
       " \t\t\t\t\t\t\t\t\t\t\t\t<span class=\"status\">【已歇業】</span>\n",
       " <span class=\"status\">【已搬遷】</span>\n",
       " <a class=\"a37 ga_tracking\" data-action=\"shop_9\" data-category=\"search\" data-label=\"店名\" href=\"/shop/137981-漁藏海鮮料理\" target=\"_blank\">漁藏海鮮料理</a>\n",
       " </h3>, <h3 class=\"name\" id=\"shop_h3_10\">\n",
       " \t\t\t\t\t\t\t\t10.\n",
       " \t\t\t\t\t\t\t\t\t\t\t\t\t\t\t\t<span class=\"status\">【已搬遷】</span>\n",
       " <a class=\"a37 ga_tracking\" data-action=\"shop_10\" data-category=\"search\" data-label=\"店名\" href=\"/shop/617240-IOU-Cafe\" target=\"_blank\">IOU Cafe</a>\n",
       " </h3>, <h3 class=\"name\" id=\"shop_h3_11\">\n",
       " \t\t\t\t\t\t\t\t11.\n",
       " \t\t\t\t\t\t\t\t\t\t\t\t\t\t\t\t<span class=\"status\">【已搬遷】</span>\n",
       " <a class=\"a37 ga_tracking\" data-action=\"shop_11\" data-category=\"search\" data-label=\"店名\" href=\"/shop/152741-moricaca-森果香-sweets-house\" target=\"_blank\">moricaca 森果香 sweets house</a>\n",
       " </h3>, <h3 class=\"name\" id=\"shop_h3_12\">\n",
       " \t\t\t\t\t\t\t\t12.\n",
       " \t\t\t\t\t\t\t\t\t\t\t\t\t\t\t\t<span class=\"status\">【已搬遷】</span>\n",
       " <a class=\"a37 ga_tracking\" data-action=\"shop_12\" data-category=\"search\" data-label=\"店名\" href=\"/shop/71227-我-就厲害-西門店\" target=\"_blank\">我!就厲害(西門店)</a>\n",
       " </h3>, <h3 class=\"name\" id=\"shop_h3_13\">\n",
       " \t\t\t\t\t\t\t\t13.\n",
       " \t\t\t\t\t\t\t\t\t\t\t\t\t\t\t\t<span class=\"status\">【已搬遷】</span>\n",
       " <a class=\"a37 ga_tracking\" data-action=\"shop_13\" data-category=\"search\" data-label=\"店名\" href=\"/shop/121889-甜庄JUSTSWEET-內湖旗艦店\" target=\"_blank\">甜庄JUSTSWEET(內湖旗艦店)</a>\n",
       " </h3>, <h3 class=\"name\" id=\"shop_h3_14\">\n",
       " \t\t\t\t\t\t\t\t14.\n",
       " \t\t\t\t\t\t\t\t\t\t\t\t<span class=\"status\">【已歇業】</span>\n",
       " <span class=\"status\">【已搬遷】</span>\n",
       " <a class=\"a37 ga_tracking\" data-action=\"shop_14\" data-category=\"search\" data-label=\"店名\" href=\"/shop/104176-薄多義-Bite-2-Eat-南西店\" target=\"_blank\">薄多義 Bite 2 Eat(南西店)</a>\n",
       " </h3>, <h3 class=\"name\" id=\"shop_h3_15\">\n",
       " \t\t\t\t\t\t\t\t15.\n",
       " \t\t\t\t\t\t\t\t\t\t\t\t\t\t\t\t<span class=\"status\">【已搬遷】</span>\n",
       " <a class=\"a37 ga_tracking\" data-action=\"shop_15\" data-category=\"search\" data-label=\"店名\" href=\"/shop/64197-兔子兔子-Rabbit-Rabbit\" target=\"_blank\">兔子兔子 Rabbit Rabbit</a>\n",
       " </h3>]"
      ]
     },
     "execution_count": 71,
     "metadata": {},
     "output_type": "execute_result"
    }
   ],
   "source": [
    "all_restaurant_in_h3_list"
   ]
  },
  {
   "cell_type": "code",
   "execution_count": null,
   "metadata": {
    "collapsed": true
   },
   "outputs": [],
   "source": []
  },
  {
   "cell_type": "code",
   "execution_count": 89,
   "metadata": {
    "collapsed": false
   },
   "outputs": [
    {
     "name": "stdout",
     "output_type": "stream",
     "text": [
      "http://www.ipeen.com.tw/shop/1072768-知味沙茶魷魚\n",
      "http://www.ipeen.com.tw/shop/1072776-安安西瓜汁\n"
     ]
    }
   ],
   "source": [
    "#過濾掉已搬遷、已歇業的店家，取得單一餐廳的餐廳頁面url\n",
    "#這種店家都有<span>標籤\n",
    "#1.<span class=\"status\">【已搬遷】</span> 2.<span class=\"status\">【已歇業】</span>\n",
    "HOST = 'http://www.ipeen.com.tw'\n",
    "for restaurant in all_restaurant_in_h3_list:\n",
    "    if not restaurant.span:\n",
    "        print(HOST + restaurant.a['href'])"
   ]
  },
  {
   "cell_type": "code",
   "execution_count": null,
   "metadata": {
    "collapsed": true
   },
   "outputs": [],
   "source": [
    "pageUrl_pattern = '(http(s)?://)(www\\.ipeen.com.tw/search/taiwan/000/1-0-0-0/\\?p=)(\\d+)'"
   ]
  },
  {
   "cell_type": "code",
   "execution_count": 16,
   "metadata": {
    "collapsed": false
   },
   "outputs": [],
   "source": [
    "?re.match('abc')"
   ]
  },
  {
   "cell_type": "code",
   "execution_count": 99,
   "metadata": {
    "collapsed": false
   },
   "outputs": [
    {
     "data": {
      "text/plain": [
       "4"
      ]
     },
     "execution_count": 99,
     "metadata": {},
     "output_type": "execute_result"
    }
   ],
   "source": [
    "random.randint(1,4)"
   ]
  },
  {
   "cell_type": "code",
   "execution_count": 31,
   "metadata": {
    "collapsed": false
   },
   "outputs": [],
   "source": [
    "pageUrl_pattern = '(http(s)?://)(www\\.ipeen.com.tw/search/taiwan/000/1-0-0-0/\\?p=)(\\d+)'\n",
    "def all_restaurant_list(page_url):\n",
    "    print(page_url)\n",
    "    if re.match(pageUrl_pattern, page_url) == None:        \n",
    "        print('pageURL is not found')\n",
    "    else:        \n",
    "        res = r.get(page_url)\n",
    "        res.encoding=\"utf-8\"\n",
    "        soup = bs(res.text, 'lxml')\n",
    "\n",
    "        #因為要同時寫入4個檔案，沒辦法在單一區塊中完成讀寫，所以不使用with open的原因顯而易見。\n",
    "        #當然，更不能在迴圈裡使用with open，Connection是重量級資源，反覆開關會大幅度的拖慢速度。\n",
    "        f1 = open('all_restaurant_list_block1.txt', 'a+',encoding='utf8')\n",
    "        f2 = open('all_restaurant_list_block2.txt', 'a+',encoding='utf8')\n",
    "        f3 = open('all_restaurant_list_block3.txt', 'a+',encoding='utf8')\n",
    "        f4 = open('all_restaurant_list_block4.txt', 'a+',encoding='utf8')\n",
    "\n",
    "        #為了能夠平均每個block的餐廳數量，用來分割檔案的計數使用random來初始化\n",
    "        #不直接在迴圈裡使用random是因為雖然這樣能更均衡的分配資料，但Python的偽亂數產生器使用Mersenne Twister演算法\n",
    "        #產生出來的亂數雖然品質很好，但相對也使用較多的資源。考慮到愛評網的餐廳數量，應該用更節省效能的方式來達成類似的工作。\n",
    "        initialization_count_number = random.randint(1,4)\n",
    "        count_number = initialization_count_number\n",
    "\n",
    "        #過濾掉已搬遷、已歇業的店家，取得單一餐廳的餐廳頁面url\n",
    "        #這種店家都有<span>標籤\n",
    "        #1.<span class=\"status\">【已搬遷】</span> 2.<span class=\"status\">【已歇業】</span>\n",
    "        HOST = 'http://www.ipeen.com.tw'\n",
    "        all_restaurant_in_h3_list = soup.findAll('h3', {'id':re.compile('shop_h3_\\d\\d?')})\n",
    "        try: \n",
    "            for restaurant in all_restaurant_in_h3_list:\n",
    "                if not restaurant.span:\n",
    "                    if count_number%4==1:\n",
    "                        f1.write(HOST + restaurant.a['href']+'\\n')\n",
    "                    elif count_number%4==2:\n",
    "                        f2.write(HOST + restaurant.a['href']+'\\n')\n",
    "                    elif count_number%4==3:        \n",
    "                        f3.write(HOST + restaurant.a['href']+'\\n')\n",
    "                    else:     \n",
    "                        f4.write(HOST + restaurant.a['href']+'\\n')\n",
    "        #except:\n",
    "        #    print('[ERROR]IOexception!')\n",
    "        finally:\n",
    "            f1.close()\n",
    "            f2.close()\n",
    "            f3.close()\n",
    "            f4.close()"
   ]
  },
  {
   "cell_type": "code",
   "execution_count": 33,
   "metadata": {
    "collapsed": true
   },
   "outputs": [],
   "source": [
    "class AWSTimeLimitError(Exception):\n",
    "    def __init__(self,msg):\n",
    "        self.message=msg\n",
    "   \n",
    "    def __str__(self):\n",
    "        return self.message\n",
    "\n",
    "def getExecutionTime(startTime):\n",
    "    if (time.time() - startTime < 30):\n",
    "        pass\n",
    "    else:\n",
    "        raise AWSTimeLimitError('Time is running out')"
   ]
  },
  {
   "cell_type": "code",
   "execution_count": 34,
   "metadata": {
    "collapsed": true
   },
   "outputs": [],
   "source": [
    "def reduce_AllPagesListSplitBlock_function(q,startTime):\n",
    "    with open('all_pages_list_block1.txt', 'r', encoding='utf8') as rf:\n",
    "        pages_str = rf.read()\n",
    "        pages_list = pages_str.split('\\n')\n",
    "    for pages in range(len(pages_list)):\n",
    "        q.put(pages_list.pop())        "
   ]
  },
  {
   "cell_type": "code",
   "execution_count": 35,
   "metadata": {
    "collapsed": false,
    "scrolled": false
   },
   "outputs": [
    {
     "name": "stdout",
     "output_type": "stream",
     "text": [
      "\n",
      "pageURL is not found\n",
      "http://www.ipeen.com.tw/search/taiwan/000/1-0-0-0/?p=9533\n",
      "http://www.ipeen.com.tw/search/taiwan/000/1-0-0-0/?p=9529\n",
      "http://www.ipeen.com.tw/search/taiwan/000/1-0-0-0/?p=9525\n",
      "http://www.ipeen.com.tw/search/taiwan/000/1-0-0-0/?p=9521\n",
      "http://www.ipeen.com.tw/search/taiwan/000/1-0-0-0/?p=9517\n",
      "http://www.ipeen.com.tw/search/taiwan/000/1-0-0-0/?p=9513\n",
      "http://www.ipeen.com.tw/search/taiwan/000/1-0-0-0/?p=9509\n",
      "http://www.ipeen.com.tw/search/taiwan/000/1-0-0-0/?p=9505\n",
      "http://www.ipeen.com.tw/search/taiwan/000/1-0-0-0/?p=9501\n",
      "http://www.ipeen.com.tw/search/taiwan/000/1-0-0-0/?p=9497\n",
      "http://www.ipeen.com.tw/search/taiwan/000/1-0-0-0/?p=9493\n",
      "http://www.ipeen.com.tw/search/taiwan/000/1-0-0-0/?p=9489\n",
      "http://www.ipeen.com.tw/search/taiwan/000/1-0-0-0/?p=9485\n",
      "http://www.ipeen.com.tw/search/taiwan/000/1-0-0-0/?p=9481\n",
      "http://www.ipeen.com.tw/search/taiwan/000/1-0-0-0/?p=9477\n",
      "http://www.ipeen.com.tw/search/taiwan/000/1-0-0-0/?p=9473\n",
      "http://www.ipeen.com.tw/search/taiwan/000/1-0-0-0/?p=9469\n",
      "http://www.ipeen.com.tw/search/taiwan/000/1-0-0-0/?p=9465\n",
      "30.79076099395752\n"
     ]
    }
   ],
   "source": [
    "if __name__ == '__main__':   \n",
    "    \n",
    "    startTime = time.time()  \n",
    "    \n",
    "    q = Queue()\n",
    "    t1 = threading.Thread(target=reduce_AllPagesListSplitBlock_function, args=(q,startTime,)) \n",
    "    \n",
    "    t1.start()  #啟動 t1 線程\n",
    "\n",
    "    t1.join()  #在 t1線程結束前阻止程式繼續運行\n",
    "\n",
    "    #確認Queue是否為空，如果不是就用 q.get() 取出值\n",
    "    \n",
    "    while not q.empty():\n",
    "        try:\n",
    "            getExecutionTime(startTime)\n",
    "            all_restaurant_list(q.get())\n",
    "        except AWSTimeLimitError:\n",
    "            with open('all_pages_list_block1.txt', 'w', encoding='utf8') as wf:\n",
    "                while not q.empty():\n",
    "                    page = q.get()\n",
    "                    wf.write(page + '\\n')\n",
    "    endTime = time.time() \n",
    "    totalExecutionTime = endTime-startTime\n",
    "    print(totalExecutionTime)"
   ]
  },
  {
   "cell_type": "code",
   "execution_count": null,
   "metadata": {
    "collapsed": true
   },
   "outputs": [],
   "source": []
  }
 ],
 "metadata": {
  "anaconda-cloud": {},
  "kernelspec": {
   "display_name": "Python [default]",
   "language": "python",
   "name": "python3"
  },
  "language_info": {
   "codemirror_mode": {
    "name": "ipython",
    "version": 3
   },
   "file_extension": ".py",
   "mimetype": "text/x-python",
   "name": "python",
   "nbconvert_exporter": "python",
   "pygments_lexer": "ipython3",
   "version": "3.5.2"
  }
 },
 "nbformat": 4,
 "nbformat_minor": 1
}
