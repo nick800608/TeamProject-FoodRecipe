{
 "cells": [
  {
   "cell_type": "markdown",
   "metadata": {},
   "source": [
    "# For Loop"
   ]
  },
  {
   "cell_type": "code",
   "execution_count": null,
   "metadata": {
    "collapsed": true
   },
   "outputs": [],
   "source": [
    "for i in range (1 ,1000):\n",
    "    pass"
   ]
  },
  {
   "cell_type": "code",
   "execution_count": null,
   "metadata": {
    "collapsed": true
   },
   "outputs": [],
   "source": [
    "for number in number_list:\n",
    "    pass"
   ]
  },
  {
   "cell_type": "code",
   "execution_count": null,
   "metadata": {
    "collapsed": true
   },
   "outputs": [],
   "source": []
  },
  {
   "cell_type": "markdown",
   "metadata": {},
   "source": [
    "# Try Eecept"
   ]
  },
  {
   "cell_type": "code",
   "execution_count": null,
   "metadata": {
    "collapsed": true
   },
   "outputs": [],
   "source": [
    "try:\n",
    "    pass\n",
    "\n",
    "except IndexError:\n",
    "    pass\n",
    "\n",
    "except AttributeError:\n",
    "    pass\n",
    "\n",
    "except KeyError:  \n",
    "    pass\n",
    "\n",
    "except\n",
    "    pass"
   ]
  },
  {
   "cell_type": "code",
   "execution_count": null,
   "metadata": {
    "collapsed": true
   },
   "outputs": [],
   "source": [
    "try:\n",
    "    #write your codes down here!\n",
    "    pass\n",
    "\n",
    "except IndexError:\n",
    "    #write codes that how to handle this error \n",
    "    #your codes down here!\n",
    "    #or just let it print(next line)\n",
    "    print('[ERROR] IndexError')\n",
    "    pass\n",
    "\n",
    "#AttributeError is often happend when NoneTypeException\n",
    "#['NoneType' object has no attribute 'path'](as NullPointerException in Java)\n",
    "except AttributeError:\n",
    "    #write codes that how to handle this error \n",
    "    #your codes down here!\n",
    "    #or just let it print(next line)\n",
    "    print('[ERROR] AttributeError')\n",
    "    pass\n",
    "\n",
    "#KeyError whenever a dict() object is requested (using the format a = adict[key])\n",
    "#and the key is not in the dictionary.\n",
    "except KeyError:  \n",
    "    print('[ERROR] KeyError')\n",
    "    pass"
   ]
  },
  {
   "cell_type": "code",
   "execution_count": null,
   "metadata": {
    "collapsed": true
   },
   "outputs": [],
   "source": []
  },
  {
   "cell_type": "markdown",
   "metadata": {},
   "source": [
    "# While Loop"
   ]
  },
  {
   "cell_type": "code",
   "execution_count": null,
   "metadata": {
    "collapsed": true
   },
   "outputs": [],
   "source": [
    "while(True):        \n",
    "    try:\n",
    "        pass\n",
    "            \n",
    "    except:\n",
    "        break"
   ]
  },
  {
   "cell_type": "code",
   "execution_count": null,
   "metadata": {
    "collapsed": true
   },
   "outputs": [],
   "source": [
    "while(a != 0):        \n",
    "    try:\n",
    "        pass\n",
    "            \n",
    "    except:\n",
    "        pass"
   ]
  },
  {
   "cell_type": "code",
   "execution_count": null,
   "metadata": {
    "collapsed": true
   },
   "outputs": [],
   "source": []
  },
  {
   "cell_type": "markdown",
   "metadata": {},
   "source": [
    "# 爬蟲架構"
   ]
  },
  {
   "cell_type": "markdown",
   "metadata": {},
   "source": [
    "## 基本該import的東西"
   ]
  },
  {
   "cell_type": "code",
   "execution_count": null,
   "metadata": {
    "collapsed": true
   },
   "outputs": [],
   "source": [
    "import requests as rq\n",
    "from bs4 import BeautifulSoup as bs\n",
    "from collections import OrderedDict as od\n",
    "from selenium import webdriver\n",
    "from datetime import datetime\n",
    "import time\n",
    "import random\n",
    "import json\n",
    "import csv\n",
    "import traceback as tb\n",
    "import re"
   ]
  },
  {
   "cell_type": "markdown",
   "metadata": {},
   "source": [
    "### 以下參考架構就好"
   ]
  },
  {
   "cell_type": "markdown",
   "metadata": {},
   "source": [
    "## 上層爬蟲"
   ]
  },
  {
   "cell_type": "code",
   "execution_count": null,
   "metadata": {
    "collapsed": true
   },
   "outputs": [],
   "source": [
    "def famicloud_crawler():\n",
    "    res_index = rq.get(index_url)\n",
    "    soup_index = bs(res_index.text, 'lxml')\n",
    "    soup_li = soup_index.li\n",
    "    \n",
    "    \n",
    "    for i in range (1 ,1000):\n",
    "        #交給中層爬蟲\n",
    "        #small_branch_crawler(small_branch_url)\n",
    "        pass        "
   ]
  },
  {
   "cell_type": "markdown",
   "metadata": {},
   "source": [
    "## 中層爬蟲(範例使用selenium 中的 webdriver，需要渲染 > 很慢)"
   ]
  },
  {
   "cell_type": "code",
   "execution_count": null,
   "metadata": {
    "collapsed": true
   },
   "outputs": [],
   "source": [
    "def small_branch_crawler(small_branch_url):\n",
    "    driver = webdriver.PhantomJS(executable_path='C:/Users/nick800608/phantomjs-2.1.1-windows/bin/phantomjs')\n",
    "    driver.get(small_branch_url)\n",
    "    pageSource = driver.page_source    \n",
    "    soup = bs(pageSource, 'lxml')\n",
    "    \n",
    "    for a_href in a_href_list:\n",
    "        #交給下層爬蟲        \n",
    "        #product_page_crawler(product_url)\n",
    "        pass\n",
    "            "
   ]
  },
  {
   "cell_type": "markdown",
   "metadata": {},
   "source": [
    "## 下層爬蟲"
   ]
  },
  {
   "cell_type": "code",
   "execution_count": null,
   "metadata": {
    "collapsed": true
   },
   "outputs": [],
   "source": [
    "def product_page_crawler(product_url):\n",
    "    res = rq.get(product_url)\n",
    "    soup = bs(res.text, 'lxml')"
   ]
  }
 ],
 "metadata": {
  "anaconda-cloud": {},
  "kernelspec": {
   "display_name": "Python [default]",
   "language": "python",
   "name": "python3"
  },
  "language_info": {
   "codemirror_mode": {
    "name": "ipython",
    "version": 3
   },
   "file_extension": ".py",
   "mimetype": "text/x-python",
   "name": "python",
   "nbconvert_exporter": "python",
   "pygments_lexer": "ipython3",
   "version": "3.5.2"
  }
 },
 "nbformat": 4,
 "nbformat_minor": 1
}
