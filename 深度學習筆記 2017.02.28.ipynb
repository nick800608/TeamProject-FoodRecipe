{
 "cells": [
  {
   "cell_type": "markdown",
   "metadata": {},
   "source": [
    "# 深度學習"
   ]
  },
  {
   "cell_type": "markdown",
   "metadata": {},
   "source": [
    "## 此環境是在jupyter notebook下 Python3.6版本以上安裝的"
   ]
  },
  {
   "cell_type": "markdown",
   "metadata": {},
   "source": [
    "### tensorflow 1.0.0 深度學習核心框架 by Google"
   ]
  },
  {
   "cell_type": "code",
   "execution_count": 1,
   "metadata": {
    "collapsed": false,
    "scrolled": true
   },
   "outputs": [
    {
     "name": "stdout",
     "output_type": "stream",
     "text": [
      "Collecting tensorflow\n",
      "  Downloading tensorflow-1.0.0-cp35-cp35m-win_amd64.whl (14.7MB)\n",
      "Requirement already satisfied: numpy>=1.11.0 in c:\\users\\nick800608\\anaconda3\\lib\\site-packages (from tensorflow)\n",
      "Requirement already satisfied: six>=1.10.0 in c:\\users\\nick800608\\anaconda3\\lib\\site-packages (from tensorflow)\n",
      "Collecting protobuf>=3.1.0 (from tensorflow)\n",
      "  Downloading protobuf-3.2.0-py2.py3-none-any.whl (360kB)\n",
      "Requirement already satisfied: wheel>=0.26 in c:\\users\\nick800608\\anaconda3\\lib\\site-packages (from tensorflow)\n",
      "Requirement already satisfied: setuptools in c:\\users\\nick800608\\anaconda3\\lib\\site-packages\\setuptools-27.2.0-py3.5.egg (from protobuf>=3.1.0->tensorflow)\n",
      "Installing collected packages: protobuf, tensorflow\n",
      "Successfully installed protobuf-3.2.0 tensorflow-1.0.0\n"
     ]
    }
   ],
   "source": [
    "!pip install tensorflow"
   ]
  },
  {
   "cell_type": "markdown",
   "metadata": {},
   "source": [
    "### 圖像處理相關package image-1.5.5, 附帶Django-1.10.5"
   ]
  },
  {
   "cell_type": "code",
   "execution_count": 2,
   "metadata": {
    "collapsed": false,
    "scrolled": true
   },
   "outputs": [
    {
     "name": "stdout",
     "output_type": "stream",
     "text": [
      "Collecting image\n",
      "  Downloading image-1.5.5.tar.gz\n",
      "Requirement already satisfied: pillow in c:\\users\\nick800608\\anaconda3\\lib\\site-packages (from image)\n",
      "Collecting django (from image)\n",
      "  Downloading Django-1.10.5-py2.py3-none-any.whl (6.8MB)\n",
      "Building wheels for collected packages: image\n",
      "  Running setup.py bdist_wheel for image: started\n",
      "  Running setup.py bdist_wheel for image: finished with status 'done'\n",
      "  Stored in directory: C:\\Users\\nick800608\\AppData\\Local\\pip\\Cache\\wheels\\23\\e1\\79\\51fec85e9944e23e62e9fd3af0c1d5506476330be7f1c24df4\n",
      "Successfully built image\n",
      "Installing collected packages: django, image\n",
      "Successfully installed django-1.10.5 image-1.5.5\n"
     ]
    }
   ],
   "source": [
    "!pip install image"
   ]
  },
  {
   "cell_type": "code",
   "execution_count": null,
   "metadata": {
    "collapsed": true
   },
   "outputs": [],
   "source": []
  },
  {
   "cell_type": "markdown",
   "metadata": {},
   "source": [
    "## Test Demo1"
   ]
  },
  {
   "cell_type": "code",
   "execution_count": 8,
   "metadata": {
    "collapsed": true
   },
   "outputs": [],
   "source": [
    "import tensorflow as tf\n",
    "import numpy as np"
   ]
  },
  {
   "cell_type": "code",
   "execution_count": null,
   "metadata": {
    "collapsed": true
   },
   "outputs": [],
   "source": [
    "# 使用 NumPy 生成測試數據(phony data), 總共 100 個點。"
   ]
  },
  {
   "cell_type": "code",
   "execution_count": 9,
   "metadata": {
    "collapsed": true
   },
   "outputs": [],
   "source": [
    "x_data = np.float32(np.random.rand(2, 100)) # 隨機輸入\n",
    "y_data = np.dot([0.100, 0.200], x_data) + 0.300"
   ]
  },
  {
   "cell_type": "code",
   "execution_count": null,
   "metadata": {
    "collapsed": true
   },
   "outputs": [],
   "source": [
    "#建構一個線性模型"
   ]
  },
  {
   "cell_type": "code",
   "execution_count": 10,
   "metadata": {
    "collapsed": true
   },
   "outputs": [],
   "source": [
    "b = tf.Variable(tf.zeros([1]))\n",
    "W = tf.Variable(tf.random_uniform([1, 2], -1.0, 1.0))\n",
    "y = tf.matmul(W, x_data) + b"
   ]
  },
  {
   "cell_type": "code",
   "execution_count": null,
   "metadata": {
    "collapsed": true
   },
   "outputs": [],
   "source": [
    "#最小化平方差"
   ]
  },
  {
   "cell_type": "code",
   "execution_count": 11,
   "metadata": {
    "collapsed": true
   },
   "outputs": [],
   "source": [
    "loss = tf.reduce_mean(tf.square(y - y_data))\n",
    "optimizer = tf.train.GradientDescentOptimizer(0.5)\n",
    "train = optimizer.minimize(loss)"
   ]
  },
  {
   "cell_type": "code",
   "execution_count": null,
   "metadata": {
    "collapsed": true
   },
   "outputs": [],
   "source": [
    "# 初始化變量,舊函數（initialize_all_variables）已經被替换为新函數"
   ]
  },
  {
   "cell_type": "code",
   "execution_count": 12,
   "metadata": {
    "collapsed": true
   },
   "outputs": [],
   "source": [
    "init = tf.global_variables_initializer()"
   ]
  },
  {
   "cell_type": "code",
   "execution_count": null,
   "metadata": {
    "collapsed": true
   },
   "outputs": [],
   "source": [
    "# 啟動圖 (graph)"
   ]
  },
  {
   "cell_type": "code",
   "execution_count": 13,
   "metadata": {
    "collapsed": true
   },
   "outputs": [],
   "source": [
    "sess = tf.Session()\n",
    "sess.run(init)"
   ]
  },
  {
   "cell_type": "code",
   "execution_count": null,
   "metadata": {
    "collapsed": true
   },
   "outputs": [],
   "source": [
    "# 擬合平面"
   ]
  },
  {
   "cell_type": "code",
   "execution_count": 16,
   "metadata": {
    "collapsed": false
   },
   "outputs": [
    {
     "name": "stdout",
     "output_type": "stream",
     "text": [
      "0 [[ 0.03023174  0.47717229]] [ 0.38447475]\n",
      "20 [[ 0.09028794  0.23602259]] [ 0.28757766]\n",
      "40 [[ 0.10181895  0.20740914]] [ 0.29549646]\n",
      "60 [[ 0.1014525   0.20198448]] [ 0.29830092]\n",
      "80 [[ 0.10066181  0.20064804]] [ 0.29934943]\n",
      "100 [[ 0.10026908  0.20023425]] [ 0.29974958]\n",
      "120 [[ 0.1001057   0.20008826]] [ 0.29990345]\n",
      "140 [[ 0.10004106  0.2000338 ]] [ 0.29996273]\n",
      "160 [[ 0.10001589  0.200013  ]] [ 0.29998562]\n",
      "180 [[ 0.10000613  0.20000501]] [ 0.29999447]\n",
      "200 [[ 0.10000236  0.20000193]] [ 0.29999787]\n"
     ]
    }
   ],
   "source": [
    "for step in range(0, 201):\n",
    "    sess.run(train)\n",
    "    if step % 20 == 0:\n",
    "        print(step, sess.run(W), sess.run(b))"
   ]
  },
  {
   "cell_type": "code",
   "execution_count": null,
   "metadata": {
    "collapsed": true
   },
   "outputs": [],
   "source": [
    "# 得到最佳擬合結果 W: [[0.100  0.200]], b: [0.300]"
   ]
  },
  {
   "cell_type": "code",
   "execution_count": null,
   "metadata": {
    "collapsed": true
   },
   "outputs": [],
   "source": []
  },
  {
   "cell_type": "markdown",
   "metadata": {},
   "source": [
    "## 經典入門Demo:辨認手寫數字(MNIST)"
   ]
  },
  {
   "cell_type": "markdown",
   "metadata": {},
   "source": [
    "### 深度學習版的 \"Hello world\""
   ]
  },
  {
   "cell_type": "code",
   "execution_count": null,
   "metadata": {
    "collapsed": true
   },
   "outputs": [],
   "source": []
  }
 ],
 "metadata": {
  "kernelspec": {
   "display_name": "Python [default]",
   "language": "python",
   "name": "python3"
  },
  "language_info": {
   "codemirror_mode": {
    "name": "ipython",
    "version": 3
   },
   "file_extension": ".py",
   "mimetype": "text/x-python",
   "name": "python",
   "nbconvert_exporter": "python",
   "pygments_lexer": "ipython3",
   "version": "3.5.2"
  }
 },
 "nbformat": 4,
 "nbformat_minor": 1
}
